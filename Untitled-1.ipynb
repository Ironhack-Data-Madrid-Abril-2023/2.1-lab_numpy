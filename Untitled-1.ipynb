{
 "cells": [
  {
   "cell_type": "code",
   "execution_count": 2,
   "metadata": {},
   "outputs": [],
   "source": [
    "#1. Import the NUMPY package under the name np.\n",
    "import numpy as np"
   ]
  },
  {
   "cell_type": "code",
   "execution_count": 3,
   "metadata": {},
   "outputs": [
    {
     "name": "stdout",
     "output_type": "stream",
     "text": [
      "1.24.2\n"
     ]
    }
   ],
   "source": [
    "#2. Print the NUMPY version and the configuration.\n",
    "print(np.version.version)\n",
    "\n",
    "\n"
   ]
  },
  {
   "cell_type": "code",
   "execution_count": 4,
   "metadata": {},
   "outputs": [],
   "source": [
    "#3. Generate a 2x3x5 3-dimensional array with random values. Assign the array to variable \"a\"\n",
    "# Challenge: there are at least three easy ways that use numpy to generate random arrays. How many ways can you find?\n",
    "\n",
    "a =np.random.rand(2,3,5)\n",
    "\n",
    "\n"
   ]
  },
  {
   "cell_type": "code",
   "execution_count": 5,
   "metadata": {},
   "outputs": [
    {
     "name": "stdout",
     "output_type": "stream",
     "text": [
      "[[[0.70659325 0.3849518  0.02630236 0.69625491 0.11070117]\n",
      "  [0.8107717  0.32632539 0.78054324 0.28719293 0.64098853]\n",
      "  [0.79752831 0.33392437 0.74561333 0.84318333 0.53471985]]\n",
      "\n",
      " [[0.86388057 0.90446804 0.70509185 0.35974994 0.13197535]\n",
      "  [0.22180918 0.44494106 0.71931605 0.01644617 0.21374739]\n",
      "  [0.92894806 0.25004031 0.06463647 0.42336754 0.06093316]]]\n"
     ]
    }
   ],
   "source": [
    "\n",
    "#4. Print a.\n",
    "\n",
    "print(a)\n",
    "\n"
   ]
  },
  {
   "cell_type": "code",
   "execution_count": 6,
   "metadata": {},
   "outputs": [],
   "source": [
    "#5. Create a 5x2x3 3-dimensional array with all values equaling 1.\n",
    "#Assign the array to variable \"b\"\n",
    "\n",
    "b = np.ones((5,2,3))\n"
   ]
  },
  {
   "cell_type": "code",
   "execution_count": 7,
   "metadata": {},
   "outputs": [
    {
     "name": "stdout",
     "output_type": "stream",
     "text": [
      "[[[1. 1. 1.]\n",
      "  [1. 1. 1.]]\n",
      "\n",
      " [[1. 1. 1.]\n",
      "  [1. 1. 1.]]\n",
      "\n",
      " [[1. 1. 1.]\n",
      "  [1. 1. 1.]]\n",
      "\n",
      " [[1. 1. 1.]\n",
      "  [1. 1. 1.]]\n",
      "\n",
      " [[1. 1. 1.]\n",
      "  [1. 1. 1.]]]\n"
     ]
    }
   ],
   "source": [
    "\n",
    "#6. Print b.\n",
    "\n",
    "print(b)\n",
    "\n",
    "\n"
   ]
  },
  {
   "cell_type": "code",
   "execution_count": 8,
   "metadata": {},
   "outputs": [
    {
     "name": "stdout",
     "output_type": "stream",
     "text": [
      "30\n",
      "30\n",
      "Son iguales\n"
     ]
    }
   ],
   "source": [
    "#7. Do a and b have the same size? How do you prove that in Python code?\n",
    "\n",
    "print(a.size)\n",
    "print(b.size)\n",
    "\n",
    "if a.size == b.size:\n",
    "    print(\"Son iguales\")\n",
    "else:\n",
    "    print(\"la liaste\")\n",
    "\n"
   ]
  },
  {
   "cell_type": "code",
   "execution_count": 9,
   "metadata": {},
   "outputs": [
    {
     "ename": "ValueError",
     "evalue": "operands could not be broadcast together with shapes (5,2,3) (3,5) ",
     "output_type": "error",
     "traceback": [
      "\u001b[1;31m---------------------------------------------------------------------------\u001b[0m",
      "\u001b[1;31mValueError\u001b[0m                                Traceback (most recent call last)",
      "Cell \u001b[1;32mIn[9], line 3\u001b[0m\n\u001b[0;32m      1\u001b[0m \u001b[39m#8. Are you able to add a and b? Why or why not?\u001b[39;00m\n\u001b[1;32m----> 3\u001b[0m \u001b[39msum\u001b[39;49m(a,b)  \u001b[39m#no me deja porque intento sumar arrays con dimensiones incompatibles\u001b[39;00m\n",
      "\u001b[1;31mValueError\u001b[0m: operands could not be broadcast together with shapes (5,2,3) (3,5) "
     ]
    }
   ],
   "source": [
    "#8. Are you able to add a and b? Why or why not?\n",
    "\n",
    "sum(a,b)  #no me deja porque intento sumar arrays con dimensiones incompatibles"
   ]
  },
  {
   "cell_type": "code",
   "execution_count": 14,
   "metadata": {},
   "outputs": [],
   "source": [
    "\n",
    "#9. Transpose b so that it has the same structure of a (i.e. become a 2x3x5 array). Assign the transposed array to varialbe \"c\".\n",
    "\n",
    "c = np.transpose(b,(1,2,0))\n",
    "\n"
   ]
  },
  {
   "cell_type": "code",
   "execution_count": 16,
   "metadata": {},
   "outputs": [],
   "source": [
    "#10. Try to add a and c. Now it should work. Assign the sum to varialbe \"d\". But why does it work now?\n",
    "\n",
    "d = a + c #\n",
    "\n"
   ]
  },
  {
   "cell_type": "code",
   "execution_count": 19,
   "metadata": {},
   "outputs": [
    {
     "name": "stdout",
     "output_type": "stream",
     "text": [
      "a es :  [[[0.70659325 0.3849518  0.02630236 0.69625491 0.11070117]\n",
      "  [0.8107717  0.32632539 0.78054324 0.28719293 0.64098853]\n",
      "  [0.79752831 0.33392437 0.74561333 0.84318333 0.53471985]]\n",
      "\n",
      " [[0.86388057 0.90446804 0.70509185 0.35974994 0.13197535]\n",
      "  [0.22180918 0.44494106 0.71931605 0.01644617 0.21374739]\n",
      "  [0.92894806 0.25004031 0.06463647 0.42336754 0.06093316]]]\n",
      "d es :  [[[1.70659325 1.3849518  1.02630236 1.69625491 1.11070117]\n",
      "  [1.8107717  1.32632539 1.78054324 1.28719293 1.64098853]\n",
      "  [1.79752831 1.33392437 1.74561333 1.84318333 1.53471985]]\n",
      "\n",
      " [[1.86388057 1.90446804 1.70509185 1.35974994 1.13197535]\n",
      "  [1.22180918 1.44494106 1.71931605 1.01644617 1.21374739]\n",
      "  [1.92894806 1.25004031 1.06463647 1.42336754 1.06093316]]]\n"
     ]
    }
   ],
   "source": [
    "#11. Print a and d. Notice the difference and relation of the two array in terms of the values? Explain.\n",
    "\n",
    "print(\"a es : \", a)\n",
    "print(\"d es : \", d)   #d es exactamente igual que a pero sumando 1 a todo, lo cual tiene sentido porque sale de sumar la transposicion de c y a\n",
    "\n"
   ]
  },
  {
   "cell_type": "code",
   "execution_count": 20,
   "metadata": {},
   "outputs": [],
   "source": [
    "#12. Multiply a and c. Assign the result to e.\n",
    "\n",
    "e = a * c\n"
   ]
  },
  {
   "cell_type": "code",
   "execution_count": 21,
   "metadata": {},
   "outputs": [
    {
     "name": "stdout",
     "output_type": "stream",
     "text": [
      "[[[ True  True  True  True  True]\n",
      "  [ True  True  True  True  True]\n",
      "  [ True  True  True  True  True]]\n",
      "\n",
      " [[ True  True  True  True  True]\n",
      "  [ True  True  True  True  True]\n",
      "  [ True  True  True  True  True]]]\n"
     ]
    }
   ],
   "source": [
    "\n",
    "#13. Does e equal to a? Why or why not?\n",
    "\n",
    "\"deberia, c estaba llena de unos que es el elemento neutro de la multiplicacion de arrays\"\n",
    "\n",
    "print(a == e )\n"
   ]
  },
  {
   "cell_type": "code",
   "execution_count": 31,
   "metadata": {},
   "outputs": [
    {
     "name": "stdout",
     "output_type": "stream",
     "text": [
      "1.9289480600055016\n",
      "1.0164461676333478\n",
      "1.4778315202277998\n"
     ]
    }
   ],
   "source": [
    "#14. Identify the max, min, and mean values in d. Assign those values to variables \"d_max\", \"d_min\", and \"d_mean\"\n",
    "d_max = np.max(d)\n",
    "d_min = np.min(d)\n",
    "d_mean = np.mean(d)\n",
    "\n",
    "print(d_max)\n",
    "print(d_min)\n",
    "print(d_mean)\n"
   ]
  },
  {
   "cell_type": "code",
   "execution_count": 32,
   "metadata": {},
   "outputs": [
    {
     "name": "stdout",
     "output_type": "stream",
     "text": [
      "[[[1.70659325 1.3849518  1.02630236 1.69625491 1.11070117]\n",
      "  [1.8107717  1.32632539 1.78054324 1.28719293 1.64098853]\n",
      "  [1.79752831 1.33392437 1.74561333 1.84318333 1.53471985]]\n",
      "\n",
      " [[1.86388057 1.90446804 1.70509185 1.35974994 1.13197535]\n",
      "  [1.22180918 1.44494106 1.71931605 1.01644617 1.21374739]\n",
      "  [1.92894806 1.25004031 1.06463647 1.42336754 1.06093316]]]\n"
     ]
    }
   ],
   "source": [
    "#15. Now we want to label the values in d. First create an empty array \"f\" with the same shape (i.e. 2x3x5) as d using `np.empty`.\n",
    "\n",
    "f = np.empty((2,3,5))\n",
    "print(f)\n",
    "\n",
    "\n"
   ]
  },
  {
   "cell_type": "code",
   "execution_count": 41,
   "metadata": {},
   "outputs": [
    {
     "name": "stdout",
     "output_type": "stream",
     "text": [
      "[[[ 75.  25.  25.  75.  25.]\n",
      "  [ 75.  25.  75.  25.  75.]\n",
      "  [ 75.  25.  75.  75.  75.]]\n",
      "\n",
      " [[ 75.  75.  75.  25.  25.]\n",
      "  [ 25.  25.  75.   0.  25.]\n",
      "  [100.  25.  25.  25.  25.]]]\n"
     ]
    }
   ],
   "source": [
    "\n",
    "\"\"\"\n",
    "#16. Populate the values in f. For each value in d, if it's larger than d_min but smaller than d_mean, assign 25 to the corresponding value in f.\n",
    "If a value in d is larger than d_mean but smaller than d_max, assign 75 to the corresponding value in f.\n",
    "If a value equals to d_mean, assign 50 to the corresponding value in f.\n",
    "Assign 0 to the corresponding value(s) in f for d_min in d.\n",
    "Assign 100 to the corresponding value(s) in f for d_max in d.\n",
    "In the end, f should have only the following values: 0, 25, 50, 75, and 100.\n",
    "Note: you don't have to use Numpy in this question.\n",
    "\"\"\"\n",
    "\n",
    "\n",
    "f[(d > d_min) & (d < d_mean)] = 25\n",
    "f[d == d_mean] = 50\n",
    "f[(d > d_mean) & (d < d_max)] = 75\n",
    "f[d == d_min] = 0\n",
    "f[d == d_max] = 100\n",
    "\n",
    "\n",
    "print(f)\n"
   ]
  },
  {
   "cell_type": "code",
   "execution_count": 44,
   "metadata": {},
   "outputs": [
    {
     "name": "stdout",
     "output_type": "stream",
     "text": [
      "[[[ 75.  25.  25.  75.  25.]\n",
      "  [ 75.  25.  75.  25.  75.]\n",
      "  [ 75.  25.  75.  75.  75.]]\n",
      "\n",
      " [[ 75.  75.  75.  25.  25.]\n",
      "  [ 25.  25.  75.   0.  25.]\n",
      "  [100.  25.  25.  25.  25.]]]\n"
     ]
    }
   ],
   "source": [
    "\"\"\"\n",
    "#17. Print d and f. Do you have your expected f?\n",
    "For instance, if your d is:\n",
    "array([[[1.85836099, 1.67064465, 1.62576044, 1.40243961, 1.88454931],\n",
    "        [1.75354326, 1.69403643, 1.36729252, 1.61415071, 1.12104981],\n",
    "        [1.72201435, 1.1862918 , 1.87078449, 1.7726778 , 1.88180042]],\n",
    "\n",
    "       [[1.44747908, 1.31673383, 1.02000951, 1.52218947, 1.97066381],\n",
    "        [1.79129243, 1.74983003, 1.96028037, 1.85166831, 1.65450881],\n",
    "        [1.18068344, 1.9587381 , 1.00656599, 1.93402165, 1.73514584]]])\n",
    "\n",
    "Your f should be:\n",
    "array([[[ 75.,  75.,  75.,  25.,  75.],\n",
    "        [ 75.,  75.,  25.,  25.,  25.],\n",
    "        [ 75.,  25.,  75.,  75.,  75.]],\n",
    "\n",
    "       [[ 25.,  25.,  25.,  25., 100.],\n",
    "        [ 75.,  75.,  75.,  75.,  75.],\n",
    "        [ 25.,  75.,   0.,  75.,  75.]]])\n",
    "\"\"\"\n",
    "\n",
    "print(f)\n"
   ]
  },
  {
   "cell_type": "code",
   "execution_count": null,
   "metadata": {},
   "outputs": [],
   "source": [
    "\n",
    "\"\"\"\n",
    "#18. Bonus question: instead of using numbers (i.e. 0, 25, 50, 75, and 100), how to use string values \n",
    "(\"A\", \"B\", \"C\", \"D\", and \"E\") to label the array elements? You are expecting the result to be:\n",
    "array([[[ 'D',  'D',  'D',  'B',  'D'],\n",
    "        [ 'D',  'D',  'B',  'B',  'B'],\n",
    "        [ 'D',  'B',  'D',  'D',  'D']],\n",
    "\n",
    "       [[ 'B',  'B',  'B',  'B',  'E'],\n",
    "        [ 'D',  'D',  'D',  'D',  'D'],\n",
    "        [ 'B',  'D',   'A',  'D', 'D']]])\n",
    "Again, you don't need Numpy in this question\n",
    "\n"
   ]
  },
  {
   "cell_type": "code",
   "execution_count": 54,
   "metadata": {},
   "outputs": [
    {
     "ename": "TypeError",
     "evalue": "'builtin_function_or_method' object is not subscriptable",
     "output_type": "error",
     "traceback": [
      "\u001b[1;31m---------------------------------------------------------------------------\u001b[0m",
      "\u001b[1;31mTypeError\u001b[0m                                 Traceback (most recent call last)",
      "Cell \u001b[1;32mIn[54], line 20\u001b[0m\n\u001b[0;32m     18\u001b[0m         \u001b[39melif\u001b[39;00m i \u001b[39m==\u001b[39m \u001b[39m100.\u001b[39m:\n\u001b[0;32m     19\u001b[0m                 t\u001b[39m.\u001b[39mappend(\u001b[39m\"\u001b[39m\u001b[39mE\u001b[39m\u001b[39m\"\u001b[39m)\n\u001b[1;32m---> 20\u001b[0m t \u001b[39m=\u001b[39m np\u001b[39m.\u001b[39;49marray[t]\n\u001b[0;32m     21\u001b[0m r \u001b[39m=\u001b[39m t\u001b[39m.\u001b[39mreshape(\u001b[39m2\u001b[39m,\u001b[39m3\u001b[39m,\u001b[39m5\u001b[39m)\n",
      "\u001b[1;31mTypeError\u001b[0m: 'builtin_function_or_method' object is not subscriptable"
     ]
    }
   ],
   "source": [
    "g = []                                                  #lo intente hacer sin numpy pero no me ha salido\n",
    "t= []\n",
    "\n",
    "for sec in f:\n",
    "        for ter in sec: \n",
    "                for cu in ter:\n",
    "                        g.append(cu)\n",
    "\n",
    "for i in g:\n",
    "        if i == 0.:\n",
    "                t.append(\"A\")\n",
    "        elif i == 25.:\n",
    "                t.append(\"B\")\n",
    "        elif i == 50.:\n",
    "                t.append(\"C\")\n",
    "        elif i == 75.:\n",
    "                t.append(\"D\")\n",
    "        elif i == 100.:\n",
    "                t.append(\"E\")\n",
    "t = np.array[t]\n",
    "r = t.reshape(2,3,5)"
   ]
  },
  {
   "cell_type": "code",
   "execution_count": 62,
   "metadata": {},
   "outputs": [
    {
     "name": "stdout",
     "output_type": "stream",
     "text": [
      "[[['D' 'B' 'B' 'D' 'B']\n",
      "  ['D' 'B' 'D' 'B' 'D']\n",
      "  ['D' 'B' 'D' 'D' 'D']]\n",
      "\n",
      " [['D' 'D' 'D' 'B' 'B']\n",
      "  ['B' 'B' 'D' 'A' 'B']\n",
      "  ['E' 'B' 'B' 'B' 'B']]]\n"
     ]
    }
   ],
   "source": [
    "array_num = f.astype(\"U1\")\n",
    "\n",
    "array_num[f == 0] = \"A\"\n",
    "array_num[f == 25.] = \"B\"\n",
    "array_num[f == 50.] = \"C\"\n",
    "array_num[f == 75] = \"D\"\n",
    "array_num[f==100] = \"E\"\n",
    "\n",
    "print(array_num)"
   ]
  },
  {
   "cell_type": "code",
   "execution_count": null,
   "metadata": {},
   "outputs": [],
   "source": []
  },
  {
   "cell_type": "code",
   "execution_count": null,
   "metadata": {},
   "outputs": [],
   "source": []
  },
  {
   "cell_type": "code",
   "execution_count": null,
   "metadata": {},
   "outputs": [],
   "source": []
  },
  {
   "cell_type": "code",
   "execution_count": null,
   "metadata": {},
   "outputs": [],
   "source": []
  },
  {
   "cell_type": "code",
   "execution_count": null,
   "metadata": {},
   "outputs": [],
   "source": []
  },
  {
   "cell_type": "code",
   "execution_count": null,
   "metadata": {},
   "outputs": [],
   "source": []
  }
 ],
 "metadata": {
  "kernelspec": {
   "display_name": "Python 3",
   "language": "python",
   "name": "python3"
  },
  "language_info": {
   "codemirror_mode": {
    "name": "ipython",
    "version": 3
   },
   "file_extension": ".py",
   "mimetype": "text/x-python",
   "name": "python",
   "nbconvert_exporter": "python",
   "pygments_lexer": "ipython3",
   "version": "3.10.11"
  },
  "orig_nbformat": 4
 },
 "nbformat": 4,
 "nbformat_minor": 2
}
