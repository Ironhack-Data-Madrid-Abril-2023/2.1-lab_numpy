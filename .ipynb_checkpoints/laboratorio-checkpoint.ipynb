{
 "cells": [
  {
   "cell_type": "code",
   "execution_count": 1,
   "id": "b8e17579",
   "metadata": {},
   "outputs": [
    {
     "name": "stdout",
     "output_type": "stream",
     "text": [
      "Requirement already satisfied: numpy in c:\\users\\alexi\\anaconda3\\lib\\site-packages (1.21.5)\n",
      "Note: you may need to restart the kernel to use updated packages.\n"
     ]
    }
   ],
   "source": [
    "#1. Import the NUMPY package under the name np.\n",
    "\n",
    "%pip install numpy\n",
    "import numpy as np"
   ]
  },
  {
   "cell_type": "code",
   "execution_count": 8,
   "id": "12d531e2",
   "metadata": {},
   "outputs": [
    {
     "name": "stdout",
     "output_type": "stream",
     "text": [
      "1.21.5\n"
     ]
    }
   ],
   "source": [
    "#2. Print the NUMPY version and the configuration.\n",
    "print(np.version.version)\n"
   ]
  },
  {
   "cell_type": "code",
   "execution_count": 10,
   "id": "eb8cb70f",
   "metadata": {},
   "outputs": [],
   "source": [
    "# Generate a 2x3x5 3-dimensional array with random values. Assign the array to variable \"a\"\n",
    "\n",
    "a = np.random.rand(2, 3, 5)\n",
    "\n",
    "\n",
    "# Challenge: there are at least three easy ways that use numpy to generate random arrays. How many ways can you find?\n",
    "\n",
    "# He logrado entender la que menciono anteriormente.\n",
    "\n"
   ]
  },
  {
   "cell_type": "code",
   "execution_count": 9,
   "id": "e98b1d13",
   "metadata": {},
   "outputs": [
    {
     "data": {
      "text/plain": [
       "array([[[0.93574525, 0.9919983 , 0.95276394, 0.96167928, 0.07861347],\n",
       "        [0.57498433, 0.62558715, 0.73107979, 0.07497222, 0.00745053],\n",
       "        [0.0095573 , 0.78191026, 0.97998608, 0.01652158, 0.24864327]],\n",
       "\n",
       "       [[0.87208544, 0.7987909 , 0.23527498, 0.65760568, 0.6649376 ],\n",
       "        [0.14097515, 0.26037186, 0.71581956, 0.55385039, 0.65293335],\n",
       "        [0.62830321, 0.35018136, 0.7249336 , 0.89700377, 0.63418952]]])"
      ]
     },
     "execution_count": 9,
     "metadata": {},
     "output_type": "execute_result"
    }
   ],
   "source": [
    "#4. Print a.\n",
    "a"
   ]
  },
  {
   "cell_type": "code",
   "execution_count": 13,
   "id": "bc76efc7",
   "metadata": {},
   "outputs": [],
   "source": [
    "#5. Create a 5x2x3 3-dimensional array with all values equaling 1.\n",
    "#Assign the array to variable \"b\"\n",
    "\n",
    "b = np.ones((5, 2, 3))\n",
    "\n"
   ]
  },
  {
   "cell_type": "code",
   "execution_count": 14,
   "id": "14c21550",
   "metadata": {},
   "outputs": [
    {
     "name": "stdout",
     "output_type": "stream",
     "text": [
      "[[[1. 1. 1.]\n",
      "  [1. 1. 1.]]\n",
      "\n",
      " [[1. 1. 1.]\n",
      "  [1. 1. 1.]]\n",
      "\n",
      " [[1. 1. 1.]\n",
      "  [1. 1. 1.]]\n",
      "\n",
      " [[1. 1. 1.]\n",
      "  [1. 1. 1.]]\n",
      "\n",
      " [[1. 1. 1.]\n",
      "  [1. 1. 1.]]]\n"
     ]
    }
   ],
   "source": [
    "#6. Print b.\n",
    "print(b)"
   ]
  },
  {
   "cell_type": "code",
   "execution_count": 22,
   "id": "a04cd3b6",
   "metadata": {},
   "outputs": [
    {
     "name": "stdout",
     "output_type": "stream",
     "text": [
      "Size of a: 30\n",
      "Size of b: 30\n"
     ]
    }
   ],
   "source": [
    "#7. Do a and b have the same size? How do you prove that in Python code?\n",
    "# No, arrays a and b do not have the same size. Array size is the total number of elements in an array, and it is calculated by multiplying the number of elements in each dimension.\n",
    "# Get the sizes of arrays a and b\n",
    "size_a = a.size\n",
    "size_b = b.size\n",
    "# Compare the sizes of arrays a and b\n",
    "# Check the size of each array\n",
    "print(\"Size of a:\", a.size)\n",
    "print(\"Size of b:\", b.size)\n",
    "Although the size of both arrays is the same, this is just a coincidence. The size of a 3D array is the product of its dimensions, which is different for a and b:\n",
    "\n",
    "Size of a: 2 x 3 x 5 = 30\n",
    "Size of b: 5 x 2 x 3 = 30\n",
    "Therefore, a and b have different shapes and dimensions, and represent different arrays."
   ]
  },
  {
   "cell_type": "code",
   "execution_count": 24,
   "id": "f5d968db",
   "metadata": {},
   "outputs": [],
   "source": [
    "#8. Are you able to add a and b? Why or why not?\n",
    "# No, we are not able to add a and b directly because they have different shapes. The addition operation in NumPy requires the shapes of the arrays to be the same or compatible for broadcasting, which is not the case for a and b"
   ]
  },
  {
   "cell_type": "code",
   "execution_count": 25,
   "id": "4bad784f",
   "metadata": {},
   "outputs": [
    {
     "name": "stdout",
     "output_type": "stream",
     "text": [
      "Shape of c: (2, 3, 5)\n"
     ]
    }
   ],
   "source": [
    "#9. Transpose b so that it has the same structure of a (i.e. become a 2x3x5 array). Assign the transposed array to varialbe \"c\".\n",
    "# Transpose b to have the same shape as a\n",
    "c = b.transpose((1, 2, 0))  # or equivalently, b.transpose((0, 2, 1))\n",
    "\n",
    "# Check the shape of c\n",
    "print(\"Shape of c:\", c.shape)"
   ]
  },
  {
   "cell_type": "code",
   "execution_count": 26,
   "id": "49c01ffa",
   "metadata": {},
   "outputs": [
    {
     "name": "stdout",
     "output_type": "stream",
     "text": [
      "Shape of d: (2, 3, 5)\n"
     ]
    }
   ],
   "source": [
    "#10. Try to add a and c. Now it should work. Assign the sum to varialbe \"d\". But why does it work now?\n",
    "\n",
    "# Yes, now we can add a and c because they have the same shape\n",
    "\n",
    "# Add a and c\n",
    "d = a + c\n",
    "\n",
    "# Check the shape of d\n",
    "print(\"Shape of d:\", d.shape)"
   ]
  },
  {
   "cell_type": "code",
   "execution_count": 29,
   "id": "c480b818",
   "metadata": {},
   "outputs": [
    {
     "name": "stdout",
     "output_type": "stream",
     "text": [
      "a:\n",
      " [[[0.93995684 0.83460966 0.12290038 0.8189924  0.77609295]\n",
      "  [0.10484639 0.70776296 0.09334964 0.75882813 0.93197391]\n",
      "  [0.39383933 0.03978937 0.6976861  0.01139865 0.47607945]]\n",
      "\n",
      " [[0.65035945 0.3142324  0.66725055 0.15822349 0.28272529]\n",
      "  [0.32395344 0.10960708 0.5046139  0.35972756 0.36483218]\n",
      "  [0.88886507 0.50508846 0.9213555  0.0773171  0.57621568]]]\n",
      "d:\n",
      " [[[1.93995684 1.83460966 1.12290038 1.8189924  1.77609295]\n",
      "  [1.10484639 1.70776296 1.09334964 1.75882813 1.93197391]\n",
      "  [1.39383933 1.03978937 1.6976861  1.01139865 1.47607945]]\n",
      "\n",
      " [[1.65035945 1.3142324  1.66725055 1.15822349 1.28272529]\n",
      "  [1.32395344 1.10960708 1.5046139  1.35972756 1.36483218]\n",
      "  [1.88886507 1.50508846 1.9213555  1.0773171  1.57621568]]]\n"
     ]
    }
   ],
   "source": [
    "#11. Print a and d. Notice the difference and relation of the two array in terms of the values? Explain.\n",
    "# Print a and d\n",
    "print(\"a:\\n\", a)\n",
    "print(\"d:\\n\", d)\n",
    "\n",
    "# We can see that a and d have the same shape, but the values in d are the sum of the values in a and c. c is an array of ones with the same shape as a, and by adding a and c element-wise, we get d"
   ]
  },
  {
   "cell_type": "code",
   "execution_count": 31,
   "id": "27b9d1a3",
   "metadata": {},
   "outputs": [
    {
     "name": "stdout",
     "output_type": "stream",
     "text": [
      "e:\n",
      " [[[0.93995684 0.83460966 0.12290038 0.8189924  0.77609295]\n",
      "  [0.10484639 0.70776296 0.09334964 0.75882813 0.93197391]\n",
      "  [0.39383933 0.03978937 0.6976861  0.01139865 0.47607945]]\n",
      "\n",
      " [[0.65035945 0.3142324  0.66725055 0.15822349 0.28272529]\n",
      "  [0.32395344 0.10960708 0.5046139  0.35972756 0.36483218]\n",
      "  [0.88886507 0.50508846 0.9213555  0.0773171  0.57621568]]]\n"
     ]
    }
   ],
   "source": [
    "#12. Multiply a and c. Assign the result to e.\n",
    "\n",
    "# Multiply a and c\n",
    "e = a * c\n",
    "\n",
    "# Print e\n",
    "print(\"e:\\n\", e)"
   ]
  },
  {
   "cell_type": "code",
   "execution_count": null,
   "id": "c53de2ae",
   "metadata": {},
   "outputs": [],
   "source": [
    "#13. Does e equal to a? Why or why not?\n",
    "\n",
    "#No, e is not equal to a. This is because e is the result of multiplying each element in a by the corresponding element in c, while c is obtained by transposing b. \n",
    "#Although both a and e have the same shape of 2x3x5,"
   ]
  },
  {
   "cell_type": "code",
   "execution_count": 32,
   "id": "0bf90687",
   "metadata": {},
   "outputs": [
    {
     "name": "stdout",
     "output_type": "stream",
     "text": [
      "d_max: 1.9399568352307133\n",
      "d_min: 1.0113986519413094\n",
      "d_mean: 1.4804157769500483\n"
     ]
    }
   ],
   "source": [
    "#14. Identify the max, min, and mean values in d. Assign those values to variables \"d_max\", \"d_min\", and \"d_mean\"\n",
    "\n",
    "# Identify the max, min, and mean values in d\n",
    "d_max = np.max(d)\n",
    "d_min = np.min(d)\n",
    "d_mean = np.mean(d)\n",
    "\n",
    "# Print d_max, d_min, and d_mean\n",
    "print(\"d_max:\", d_max)\n",
    "print(\"d_min:\", d_min)\n",
    "print(\"d_mean:\", d_mean)"
   ]
  },
  {
   "cell_type": "code",
   "execution_count": 33,
   "id": "78e42b0f",
   "metadata": {},
   "outputs": [
    {
     "name": "stdout",
     "output_type": "stream",
     "text": [
      "f shape: (2, 3, 5)\n"
     ]
    }
   ],
   "source": [
    "#15. Now we want to label the values in d. First create an empty array \"f\" with the same shape (i.e. 2x3x5) as d using `np.empty`\n",
    "\n",
    "# Create an empty array f with the same shape as d\n",
    "f = np.empty_like(d)\n",
    "\n",
    "# Print the shape of f\n",
    "print(\"f shape:\", f.shape)"
   ]
  }
 ],
 "metadata": {
  "kernelspec": {
   "display_name": "Python 3 (ipykernel)",
   "language": "python",
   "name": "python3"
  },
  "language_info": {
   "codemirror_mode": {
    "name": "ipython",
    "version": 3
   },
   "file_extension": ".py",
   "mimetype": "text/x-python",
   "name": "python",
   "nbconvert_exporter": "python",
   "pygments_lexer": "ipython3",
   "version": "3.9.13"
  }
 },
 "nbformat": 4,
 "nbformat_minor": 5
}
