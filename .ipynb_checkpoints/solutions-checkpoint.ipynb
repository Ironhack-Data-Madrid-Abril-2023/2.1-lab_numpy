{
 "cells": [
  {
   "cell_type": "code",
   "execution_count": 1,
   "id": "ffc3c672",
   "metadata": {},
   "outputs": [],
   "source": [
    "#1. Import the NUMPY package under the name np."
   ]
  },
  {
   "cell_type": "code",
   "execution_count": 2,
   "id": "cbdd954f",
   "metadata": {},
   "outputs": [],
   "source": [
    "#pip install numpy"
   ]
  },
  {
   "cell_type": "code",
   "execution_count": 3,
   "id": "7f9d1ff5",
   "metadata": {},
   "outputs": [],
   "source": [
    "import numpy as np"
   ]
  },
  {
   "cell_type": "code",
   "execution_count": 4,
   "id": "9502b3ad",
   "metadata": {},
   "outputs": [],
   "source": [
    "#2. Print the NUMPY version and the configuration."
   ]
  },
  {
   "cell_type": "code",
   "execution_count": 5,
   "id": "3bd32a05",
   "metadata": {},
   "outputs": [
    {
     "name": "stdout",
     "output_type": "stream",
     "text": [
      "NumPy version: 1.23.5\n",
      "blas_armpl_info:\n",
      "  NOT AVAILABLE\n",
      "blas_mkl_info:\n",
      "    libraries = ['mkl_rt']\n",
      "    library_dirs = ['C:/Users/usuario/anaconda3\\\\Library\\\\lib']\n",
      "    define_macros = [('SCIPY_MKL_H', None), ('HAVE_CBLAS', None)]\n",
      "    include_dirs = ['C:/Users/usuario/anaconda3\\\\Library\\\\include']\n",
      "blas_opt_info:\n",
      "    libraries = ['mkl_rt']\n",
      "    library_dirs = ['C:/Users/usuario/anaconda3\\\\Library\\\\lib']\n",
      "    define_macros = [('SCIPY_MKL_H', None), ('HAVE_CBLAS', None)]\n",
      "    include_dirs = ['C:/Users/usuario/anaconda3\\\\Library\\\\include']\n",
      "lapack_armpl_info:\n",
      "  NOT AVAILABLE\n",
      "lapack_mkl_info:\n",
      "    libraries = ['mkl_rt']\n",
      "    library_dirs = ['C:/Users/usuario/anaconda3\\\\Library\\\\lib']\n",
      "    define_macros = [('SCIPY_MKL_H', None), ('HAVE_CBLAS', None)]\n",
      "    include_dirs = ['C:/Users/usuario/anaconda3\\\\Library\\\\include']\n",
      "lapack_opt_info:\n",
      "    libraries = ['mkl_rt']\n",
      "    library_dirs = ['C:/Users/usuario/anaconda3\\\\Library\\\\lib']\n",
      "    define_macros = [('SCIPY_MKL_H', None), ('HAVE_CBLAS', None)]\n",
      "    include_dirs = ['C:/Users/usuario/anaconda3\\\\Library\\\\include']\n",
      "Supported SIMD extensions in this NumPy install:\n",
      "    baseline = SSE,SSE2,SSE3\n",
      "    found = SSSE3,SSE41,POPCNT,SSE42,AVX,F16C,FMA3,AVX2\n",
      "    not found = AVX512F,AVX512CD,AVX512_SKX,AVX512_CLX,AVX512_CNL\n",
      "\n",
      "NumPy configuration:\n",
      " None\n"
     ]
    }
   ],
   "source": [
    "print(\"NumPy version:\", np.__version__)\n",
    "print(\"\\nNumPy configuration:\\n\", np.show_config())"
   ]
  },
  {
   "cell_type": "code",
   "execution_count": 6,
   "id": "a5004e49",
   "metadata": {},
   "outputs": [],
   "source": [
    "#3. Generate a 2x3x5 3-dimensional array with random values. Assign the array to variable \"a\"\n",
    "# Challenge: there are at least three easy ways that use numpy to generate random arrays. How many ways can you find?"
   ]
  },
  {
   "cell_type": "code",
   "execution_count": 7,
   "id": "4f5bc961",
   "metadata": {},
   "outputs": [],
   "source": [
    "# a = np.random.random((2, 3, 5))"
   ]
  },
  {
   "cell_type": "code",
   "execution_count": 8,
   "id": "2603e38b",
   "metadata": {},
   "outputs": [],
   "source": [
    "a = np.random.rand(2, 3, 5)"
   ]
  },
  {
   "cell_type": "code",
   "execution_count": 9,
   "id": "7ece9ebd",
   "metadata": {},
   "outputs": [
    {
     "data": {
      "text/plain": [
       "numpy.ndarray"
      ]
     },
     "execution_count": 9,
     "metadata": {},
     "output_type": "execute_result"
    }
   ],
   "source": [
    "type(a)"
   ]
  },
  {
   "cell_type": "code",
   "execution_count": 10,
   "id": "124709ae",
   "metadata": {},
   "outputs": [],
   "source": [
    "#4. Print a."
   ]
  },
  {
   "cell_type": "code",
   "execution_count": 11,
   "id": "ec07dfb0",
   "metadata": {},
   "outputs": [
    {
     "data": {
      "text/plain": [
       "array([[[0.01084323, 0.68238073, 0.05298734, 0.49086066, 0.34914996],\n",
       "        [0.74204823, 0.31232435, 0.32062715, 0.58412991, 0.66398752],\n",
       "        [0.50860319, 0.63119115, 0.28460354, 0.80588577, 0.55515779]],\n",
       "\n",
       "       [[0.70003051, 0.69056395, 0.99503626, 0.49409464, 0.61687835],\n",
       "        [0.51782625, 0.18383961, 0.44552457, 0.61492126, 0.46763675],\n",
       "        [0.68412168, 0.96344535, 0.53300163, 0.14629037, 0.69984004]]])"
      ]
     },
     "execution_count": 11,
     "metadata": {},
     "output_type": "execute_result"
    }
   ],
   "source": [
    "a"
   ]
  },
  {
   "cell_type": "code",
   "execution_count": 12,
   "id": "631984cd",
   "metadata": {},
   "outputs": [],
   "source": [
    "#5. Create a 5x2x3 3-dimensional array with all values equaling 1.\n",
    "#Assign the array to variable \"b\""
   ]
  },
  {
   "cell_type": "code",
   "execution_count": 13,
   "id": "b75860c9",
   "metadata": {},
   "outputs": [],
   "source": [
    "b = np.ones((5, 2, 3))"
   ]
  },
  {
   "cell_type": "code",
   "execution_count": 14,
   "id": "566ee5e1",
   "metadata": {},
   "outputs": [],
   "source": [
    "#6. Print b."
   ]
  },
  {
   "cell_type": "code",
   "execution_count": 15,
   "id": "3871a2e2",
   "metadata": {},
   "outputs": [
    {
     "data": {
      "text/plain": [
       "array([[[1., 1., 1.],\n",
       "        [1., 1., 1.]],\n",
       "\n",
       "       [[1., 1., 1.],\n",
       "        [1., 1., 1.]],\n",
       "\n",
       "       [[1., 1., 1.],\n",
       "        [1., 1., 1.]],\n",
       "\n",
       "       [[1., 1., 1.],\n",
       "        [1., 1., 1.]],\n",
       "\n",
       "       [[1., 1., 1.],\n",
       "        [1., 1., 1.]]])"
      ]
     },
     "execution_count": 15,
     "metadata": {},
     "output_type": "execute_result"
    }
   ],
   "source": [
    "b"
   ]
  },
  {
   "cell_type": "code",
   "execution_count": 16,
   "id": "e31833cd",
   "metadata": {},
   "outputs": [],
   "source": [
    "#7. Do a and b have the same size? How do you prove that in Python code?"
   ]
  },
  {
   "cell_type": "code",
   "execution_count": 17,
   "id": "79912298",
   "metadata": {},
   "outputs": [
    {
     "data": {
      "text/plain": [
       "True"
      ]
     },
     "execution_count": 17,
     "metadata": {},
     "output_type": "execute_result"
    }
   ],
   "source": [
    "a.size == b.size"
   ]
  },
  {
   "cell_type": "code",
   "execution_count": 18,
   "id": "3b63b97a",
   "metadata": {},
   "outputs": [],
   "source": [
    "#8. Are you able to add a and b? Why or why not?"
   ]
  },
  {
   "cell_type": "code",
   "execution_count": 19,
   "id": "f7129cf0",
   "metadata": {},
   "outputs": [],
   "source": [
    "# I am not able to add a in b because the array at index 0 has size 3 and \n",
    "# the array at index 1 has size 2"
   ]
  },
  {
   "cell_type": "code",
   "execution_count": 20,
   "id": "b111196c",
   "metadata": {},
   "outputs": [],
   "source": [
    "#9. Transpose b so that it has the same structure of a (i.e. become a 2x3x5 array).\n",
    "# Assign the transposed array to varialbe \"c\"."
   ]
  },
  {
   "cell_type": "code",
   "execution_count": 21,
   "id": "1680eb04",
   "metadata": {},
   "outputs": [
    {
     "data": {
      "text/plain": [
       "(2, 3, 5)"
      ]
     },
     "execution_count": 21,
     "metadata": {},
     "output_type": "execute_result"
    }
   ],
   "source": [
    "a.shape"
   ]
  },
  {
   "cell_type": "code",
   "execution_count": 22,
   "id": "1b452fb4",
   "metadata": {},
   "outputs": [
    {
     "data": {
      "text/plain": [
       "(5, 2, 3)"
      ]
     },
     "execution_count": 22,
     "metadata": {},
     "output_type": "execute_result"
    }
   ],
   "source": [
    "b.shape"
   ]
  },
  {
   "cell_type": "code",
   "execution_count": 23,
   "id": "705abfb0",
   "metadata": {},
   "outputs": [],
   "source": [
    "c = np.reshape(b, (2, 3, 5))"
   ]
  },
  {
   "cell_type": "code",
   "execution_count": 24,
   "id": "0e0d479f",
   "metadata": {},
   "outputs": [
    {
     "data": {
      "text/plain": [
       "(2, 3, 5)"
      ]
     },
     "execution_count": 24,
     "metadata": {},
     "output_type": "execute_result"
    }
   ],
   "source": [
    "c.shape"
   ]
  },
  {
   "cell_type": "code",
   "execution_count": 25,
   "id": "2d1ede69",
   "metadata": {},
   "outputs": [],
   "source": [
    "#10. Try to add a and c. Now it should work. Assign the sum to varialbe \"d\". But why does it work now?"
   ]
  },
  {
   "cell_type": "code",
   "execution_count": 26,
   "id": "8e44ad4d",
   "metadata": {},
   "outputs": [
    {
     "data": {
      "text/plain": [
       "array([[[1.01084323, 1.68238073, 1.05298734, 1.49086066, 1.34914996],\n",
       "        [1.74204823, 1.31232435, 1.32062715, 1.58412991, 1.66398752],\n",
       "        [1.50860319, 1.63119115, 1.28460354, 1.80588577, 1.55515779]],\n",
       "\n",
       "       [[1.70003051, 1.69056395, 1.99503626, 1.49409464, 1.61687835],\n",
       "        [1.51782625, 1.18383961, 1.44552457, 1.61492126, 1.46763675],\n",
       "        [1.68412168, 1.96344535, 1.53300163, 1.14629037, 1.69984004]]])"
      ]
     },
     "execution_count": 26,
     "metadata": {},
     "output_type": "execute_result"
    }
   ],
   "source": [
    "d = a + c\n",
    "\n",
    "d"
   ]
  },
  {
   "cell_type": "code",
   "execution_count": 27,
   "id": "264f9148",
   "metadata": {},
   "outputs": [],
   "source": [
    "#11. Print a and d. Notice the difference and relation of the two array in terms of the values? Explain."
   ]
  },
  {
   "cell_type": "code",
   "execution_count": 28,
   "id": "bd4c218f",
   "metadata": {},
   "outputs": [
    {
     "data": {
      "text/plain": [
       "array([[[0.01084323, 0.68238073, 0.05298734, 0.49086066, 0.34914996],\n",
       "        [0.74204823, 0.31232435, 0.32062715, 0.58412991, 0.66398752],\n",
       "        [0.50860319, 0.63119115, 0.28460354, 0.80588577, 0.55515779]],\n",
       "\n",
       "       [[0.70003051, 0.69056395, 0.99503626, 0.49409464, 0.61687835],\n",
       "        [0.51782625, 0.18383961, 0.44552457, 0.61492126, 0.46763675],\n",
       "        [0.68412168, 0.96344535, 0.53300163, 0.14629037, 0.69984004]]])"
      ]
     },
     "execution_count": 28,
     "metadata": {},
     "output_type": "execute_result"
    }
   ],
   "source": [
    "a"
   ]
  },
  {
   "cell_type": "code",
   "execution_count": 29,
   "id": "1a1d5862",
   "metadata": {},
   "outputs": [
    {
     "data": {
      "text/plain": [
       "array([[[1.01084323, 1.68238073, 1.05298734, 1.49086066, 1.34914996],\n",
       "        [1.74204823, 1.31232435, 1.32062715, 1.58412991, 1.66398752],\n",
       "        [1.50860319, 1.63119115, 1.28460354, 1.80588577, 1.55515779]],\n",
       "\n",
       "       [[1.70003051, 1.69056395, 1.99503626, 1.49409464, 1.61687835],\n",
       "        [1.51782625, 1.18383961, 1.44552457, 1.61492126, 1.46763675],\n",
       "        [1.68412168, 1.96344535, 1.53300163, 1.14629037, 1.69984004]]])"
      ]
     },
     "execution_count": 29,
     "metadata": {},
     "output_type": "execute_result"
    }
   ],
   "source": [
    "d"
   ]
  },
  {
   "cell_type": "code",
   "execution_count": 30,
   "id": "9f2dadc3",
   "metadata": {},
   "outputs": [],
   "source": [
    "# The difference between 'a' and 'd' values are the sum of the array 'a' plus 'b' in 'd'."
   ]
  },
  {
   "cell_type": "code",
   "execution_count": 31,
   "id": "42d5af05",
   "metadata": {},
   "outputs": [],
   "source": [
    "#12. Multiply a and c. Assign the result to e."
   ]
  },
  {
   "cell_type": "code",
   "execution_count": 32,
   "id": "1435a8ca",
   "metadata": {},
   "outputs": [
    {
     "data": {
      "text/plain": [
       "array([[[0.01084323, 0.68238073, 0.05298734, 0.49086066, 0.34914996],\n",
       "        [0.74204823, 0.31232435, 0.32062715, 0.58412991, 0.66398752],\n",
       "        [0.50860319, 0.63119115, 0.28460354, 0.80588577, 0.55515779]],\n",
       "\n",
       "       [[0.70003051, 0.69056395, 0.99503626, 0.49409464, 0.61687835],\n",
       "        [0.51782625, 0.18383961, 0.44552457, 0.61492126, 0.46763675],\n",
       "        [0.68412168, 0.96344535, 0.53300163, 0.14629037, 0.69984004]]])"
      ]
     },
     "execution_count": 32,
     "metadata": {},
     "output_type": "execute_result"
    }
   ],
   "source": [
    "a"
   ]
  },
  {
   "cell_type": "code",
   "execution_count": 33,
   "id": "6c355b1a",
   "metadata": {},
   "outputs": [
    {
     "data": {
      "text/plain": [
       "array([[[1., 1., 1., 1., 1.],\n",
       "        [1., 1., 1., 1., 1.],\n",
       "        [1., 1., 1., 1., 1.]],\n",
       "\n",
       "       [[1., 1., 1., 1., 1.],\n",
       "        [1., 1., 1., 1., 1.],\n",
       "        [1., 1., 1., 1., 1.]]])"
      ]
     },
     "execution_count": 33,
     "metadata": {},
     "output_type": "execute_result"
    }
   ],
   "source": [
    "c"
   ]
  },
  {
   "cell_type": "code",
   "execution_count": 34,
   "id": "bf7b9e46",
   "metadata": {},
   "outputs": [],
   "source": [
    "e = a * c"
   ]
  },
  {
   "cell_type": "code",
   "execution_count": 35,
   "id": "97068b39",
   "metadata": {},
   "outputs": [
    {
     "data": {
      "text/plain": [
       "array([[[0.01084323, 0.68238073, 0.05298734, 0.49086066, 0.34914996],\n",
       "        [0.74204823, 0.31232435, 0.32062715, 0.58412991, 0.66398752],\n",
       "        [0.50860319, 0.63119115, 0.28460354, 0.80588577, 0.55515779]],\n",
       "\n",
       "       [[0.70003051, 0.69056395, 0.99503626, 0.49409464, 0.61687835],\n",
       "        [0.51782625, 0.18383961, 0.44552457, 0.61492126, 0.46763675],\n",
       "        [0.68412168, 0.96344535, 0.53300163, 0.14629037, 0.69984004]]])"
      ]
     },
     "execution_count": 35,
     "metadata": {},
     "output_type": "execute_result"
    }
   ],
   "source": [
    "e"
   ]
  },
  {
   "cell_type": "code",
   "execution_count": 36,
   "id": "40a59c6f",
   "metadata": {},
   "outputs": [],
   "source": [
    "#13. Does e equal to a? Why or why not?"
   ]
  },
  {
   "cell_type": "code",
   "execution_count": 37,
   "id": "7e33fc0a",
   "metadata": {},
   "outputs": [
    {
     "data": {
      "text/plain": [
       "array([[[ True,  True,  True,  True,  True],\n",
       "        [ True,  True,  True,  True,  True],\n",
       "        [ True,  True,  True,  True,  True]],\n",
       "\n",
       "       [[ True,  True,  True,  True,  True],\n",
       "        [ True,  True,  True,  True,  True],\n",
       "        [ True,  True,  True,  True,  True]]])"
      ]
     },
     "execution_count": 37,
     "metadata": {},
     "output_type": "execute_result"
    }
   ],
   "source": [
    "e == a"
   ]
  },
  {
   "cell_type": "code",
   "execution_count": 38,
   "id": "6c9c61c6",
   "metadata": {},
   "outputs": [],
   "source": [
    "#14. Identify the max, min, and mean values in d. Assign those values to variables \n",
    "# \"d_max\", \"d_min\", and \"d_mean\""
   ]
  },
  {
   "cell_type": "code",
   "execution_count": 52,
   "id": "f350ac37",
   "metadata": {},
   "outputs": [
    {
     "data": {
      "text/plain": [
       "array([[[1.01084323, 1.68238073, 1.05298734, 1.49086066, 1.34914996],\n",
       "        [1.74204823, 1.31232435, 1.32062715, 1.58412991, 1.66398752],\n",
       "        [1.50860319, 1.63119115, 1.28460354, 1.80588577, 1.55515779]],\n",
       "\n",
       "       [[1.70003051, 1.69056395, 1.99503626, 1.49409464, 1.61687835],\n",
       "        [1.51782625, 1.18383961, 1.44552457, 1.61492126, 1.46763675],\n",
       "        [1.68412168, 1.96344535, 1.53300163, 1.14629037, 1.69984004]]])"
      ]
     },
     "execution_count": 52,
     "metadata": {},
     "output_type": "execute_result"
    }
   ],
   "source": [
    "d"
   ]
  },
  {
   "cell_type": "code",
   "execution_count": 53,
   "id": "98f9f1d8",
   "metadata": {},
   "outputs": [
    {
     "data": {
      "text/plain": [
       "1.9950362564281061"
      ]
     },
     "execution_count": 53,
     "metadata": {},
     "output_type": "execute_result"
    }
   ],
   "source": [
    "d_max = d.max()\n",
    "\n",
    "d_max"
   ]
  },
  {
   "cell_type": "code",
   "execution_count": 54,
   "id": "7037e7ae",
   "metadata": {},
   "outputs": [
    {
     "data": {
      "text/plain": [
       "1.0108432265174772"
      ]
     },
     "execution_count": 54,
     "metadata": {},
     "output_type": "execute_result"
    }
   ],
   "source": [
    "d_min = d.min()\n",
    "\n",
    "d_min"
   ]
  },
  {
   "cell_type": "code",
   "execution_count": 55,
   "id": "de8a860d",
   "metadata": {},
   "outputs": [
    {
     "data": {
      "text/plain": [
       "1.5249277247519415"
      ]
     },
     "execution_count": 55,
     "metadata": {},
     "output_type": "execute_result"
    }
   ],
   "source": [
    "d_mean = d.mean()\n",
    "\n",
    "d_mean"
   ]
  },
  {
   "cell_type": "code",
   "execution_count": 56,
   "id": "c2c67d2e",
   "metadata": {},
   "outputs": [],
   "source": [
    "#15. Now we want to label the values in d. First create an empty array \"f\" \n",
    "# with the same shape (i.e. 2x3x5) as d using `np.empty`."
   ]
  },
  {
   "cell_type": "code",
   "execution_count": 57,
   "id": "9da4d28d",
   "metadata": {},
   "outputs": [
    {
     "data": {
      "text/plain": [
       "array([[[1.01084323, 1.68238073, 1.05298734, 1.49086066, 1.34914996],\n",
       "        [1.74204823, 1.31232435, 1.32062715, 1.58412991, 1.66398752],\n",
       "        [1.50860319, 1.63119115, 1.28460354, 1.80588577, 1.55515779]],\n",
       "\n",
       "       [[1.70003051, 1.69056395, 1.99503626, 1.49409464, 1.61687835],\n",
       "        [1.51782625, 1.18383961, 1.44552457, 1.61492126, 1.46763675],\n",
       "        [1.68412168, 1.96344535, 1.53300163, 1.14629037, 1.69984004]]])"
      ]
     },
     "execution_count": 57,
     "metadata": {},
     "output_type": "execute_result"
    }
   ],
   "source": [
    "f = np.empty((2, 3, 5))\n",
    "\n",
    "f"
   ]
  },
  {
   "cell_type": "code",
   "execution_count": null,
   "id": "b5625390",
   "metadata": {},
   "outputs": [],
   "source": [
    "\"\"\"\n",
    "#16. Populate the values in f. For each value in d, if it's larger than d_min but smaller than d_mean, assign 25 to the corresponding value in f.\n",
    "If a value in d is larger than d_mean but smaller than d_max, assign 75 to the corresponding value in f.\n",
    "If a value equals to d_mean, assign 50 to the corresponding value in f.\n",
    "Assign 0 to the corresponding value(s) in f for d_min in d.\n",
    "Assign 100 to the corresponding value(s) in f for d_max in d.\n",
    "In the end, f should have only the following values: 0, 25, 50, 75, and 100.\n",
    "Note: you don't have to use Numpy in this question.\n",
    "\"\"\""
   ]
  },
  {
   "cell_type": "code",
   "execution_count": 60,
   "id": "96c12f46",
   "metadata": {},
   "outputs": [
    {
     "data": {
      "text/plain": [
       "array([[[1.01084323, 1.68238073, 1.05298734, 1.49086066, 1.34914996],\n",
       "        [1.74204823, 1.31232435, 1.32062715, 1.58412991, 1.66398752],\n",
       "        [1.50860319, 1.63119115, 1.28460354, 1.80588577, 1.55515779]],\n",
       "\n",
       "       [[1.70003051, 1.69056395, 1.99503626, 1.49409464, 1.61687835],\n",
       "        [1.51782625, 1.18383961, 1.44552457, 1.61492126, 1.46763675],\n",
       "        [1.68412168, 1.96344535, 1.53300163, 1.14629037, 1.69984004]]])"
      ]
     },
     "execution_count": 60,
     "metadata": {},
     "output_type": "execute_result"
    }
   ],
   "source": [
    "d"
   ]
  },
  {
   "cell_type": "code",
   "execution_count": 61,
   "id": "0a5cb9fb",
   "metadata": {},
   "outputs": [
    {
     "data": {
      "text/plain": [
       "array([[[1.01084323, 1.68238073, 1.05298734, 1.49086066, 1.34914996],\n",
       "        [1.74204823, 1.31232435, 1.32062715, 1.58412991, 1.66398752],\n",
       "        [1.50860319, 1.63119115, 1.28460354, 1.80588577, 1.55515779]],\n",
       "\n",
       "       [[1.70003051, 1.69056395, 1.99503626, 1.49409464, 1.61687835],\n",
       "        [1.51782625, 1.18383961, 1.44552457, 1.61492126, 1.46763675],\n",
       "        [1.68412168, 1.96344535, 1.53300163, 1.14629037, 1.69984004]]])"
      ]
     },
     "execution_count": 61,
     "metadata": {},
     "output_type": "execute_result"
    }
   ],
   "source": [
    "f"
   ]
  },
  {
   "cell_type": "code",
   "execution_count": 65,
   "id": "77d0d2c9",
   "metadata": {},
   "outputs": [
    {
     "data": {
      "text/plain": [
       "array([[[  0.,  75.,  25.,  25.,  25.],\n",
       "        [ 75.,  25.,  25.,  75.,  75.],\n",
       "        [ 25.,  75.,  25.,  75.,  75.]],\n",
       "\n",
       "       [[ 75.,  75., 100.,  25.,  75.],\n",
       "        [ 25.,  25.,  25.,  75.,  25.],\n",
       "        [ 75.,  75.,  75.,  25.,  75.]]])"
      ]
     },
     "execution_count": 65,
     "metadata": {},
     "output_type": "execute_result"
    }
   ],
   "source": [
    "f[(d_mean > d) & (d > d_min)] = 25\n",
    "f[(d_max > d) & (d > d_mean)] = 75\n",
    "f[(d == d_mean)] = 50\n",
    "f[(d == d_min)] = 0\n",
    "f[(d == d_max)] = 100\n",
    "\n",
    "f"
   ]
  },
  {
   "cell_type": "code",
   "execution_count": 66,
   "id": "05511505",
   "metadata": {},
   "outputs": [],
   "source": [
    "#17. Print d and f. Do you have your expected f?"
   ]
  },
  {
   "cell_type": "code",
   "execution_count": 67,
   "id": "1300a586",
   "metadata": {},
   "outputs": [
    {
     "data": {
      "text/plain": [
       "array([[[1.01084323, 1.68238073, 1.05298734, 1.49086066, 1.34914996],\n",
       "        [1.74204823, 1.31232435, 1.32062715, 1.58412991, 1.66398752],\n",
       "        [1.50860319, 1.63119115, 1.28460354, 1.80588577, 1.55515779]],\n",
       "\n",
       "       [[1.70003051, 1.69056395, 1.99503626, 1.49409464, 1.61687835],\n",
       "        [1.51782625, 1.18383961, 1.44552457, 1.61492126, 1.46763675],\n",
       "        [1.68412168, 1.96344535, 1.53300163, 1.14629037, 1.69984004]]])"
      ]
     },
     "execution_count": 67,
     "metadata": {},
     "output_type": "execute_result"
    }
   ],
   "source": [
    "d"
   ]
  },
  {
   "cell_type": "code",
   "execution_count": 68,
   "id": "c366672b",
   "metadata": {},
   "outputs": [
    {
     "data": {
      "text/plain": [
       "array([[[  0.,  75.,  25.,  25.,  25.],\n",
       "        [ 75.,  25.,  25.,  75.,  75.],\n",
       "        [ 25.,  75.,  25.,  75.,  75.]],\n",
       "\n",
       "       [[ 75.,  75., 100.,  25.,  75.],\n",
       "        [ 25.,  25.,  25.,  75.,  25.],\n",
       "        [ 75.,  75.,  75.,  25.,  75.]]])"
      ]
     },
     "execution_count": 68,
     "metadata": {},
     "output_type": "execute_result"
    }
   ],
   "source": [
    "f"
   ]
  },
  {
   "cell_type": "code",
   "execution_count": 69,
   "id": "2312e769",
   "metadata": {},
   "outputs": [],
   "source": [
    "# Yes it worked."
   ]
  },
  {
   "cell_type": "code",
   "execution_count": 70,
   "id": "55bccf47",
   "metadata": {},
   "outputs": [],
   "source": [
    "#18. Bonus question: instead of using numbers (i.e. 0, 25, 50, 75, and 100), how to use string values \n",
    "# (\"A\", \"B\", \"C\", \"D\", and \"E\") to label the array elements?"
   ]
  },
  {
   "cell_type": "code",
   "execution_count": 76,
   "id": "10d3badf",
   "metadata": {},
   "outputs": [
    {
     "data": {
      "text/plain": [
       "array([[['A', 'D', 'B', 'B', 'B'],\n",
       "        ['D', 'B', 'B', 'D', 'D'],\n",
       "        ['B', 'D', 'B', 'D', 'D']],\n",
       "\n",
       "       [['D', 'D', 'E', 'B', 'D'],\n",
       "        ['B', 'B', 'B', 'D', 'B'],\n",
       "        ['D', 'D', 'D', 'B', 'D']]], dtype='<U32')"
      ]
     },
     "execution_count": 76,
     "metadata": {},
     "output_type": "execute_result"
    }
   ],
   "source": [
    "f_str = f.astype(str)\n",
    "\n",
    "f_str[(d_mean > d) & (d > d_min)] = 'B'\n",
    "f_str[(d_max > d) & (d > d_mean)] = 'D'\n",
    "f_str[(d == d_mean)] = 'C'\n",
    "f_str[(d == d_min)] = 'A'\n",
    "f_str[(d == d_max)] = 'E'\n",
    "\n",
    "f_str"
   ]
  }
 ],
 "metadata": {
  "kernelspec": {
   "display_name": "Python 3 (ipykernel)",
   "language": "python",
   "name": "python3"
  },
  "language_info": {
   "codemirror_mode": {
    "name": "ipython",
    "version": 3
   },
   "file_extension": ".py",
   "mimetype": "text/x-python",
   "name": "python",
   "nbconvert_exporter": "python",
   "pygments_lexer": "ipython3",
   "version": "3.10.9"
  }
 },
 "nbformat": 4,
 "nbformat_minor": 5
}
