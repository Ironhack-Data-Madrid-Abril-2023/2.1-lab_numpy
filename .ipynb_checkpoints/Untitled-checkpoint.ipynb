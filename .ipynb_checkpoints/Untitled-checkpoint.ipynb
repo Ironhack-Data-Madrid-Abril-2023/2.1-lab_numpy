{
 "cells": [
  {
   "cell_type": "code",
   "execution_count": 3,
   "id": "c8b21814",
   "metadata": {},
   "outputs": [],
   "source": [
    "#1. Import the NUMPY package under the name np.\n",
    "\n",
    "import numpy as np"
   ]
  },
  {
   "cell_type": "code",
   "execution_count": 5,
   "id": "85c22523",
   "metadata": {},
   "outputs": [
    {
     "name": "stdout",
     "output_type": "stream",
     "text": [
      "<module 'numpy' from '/Users/joseluisreguera/opt/anaconda3/lib/python3.9/site-packages/numpy/__init__.py'>\n"
     ]
    }
   ],
   "source": [
    "#2. Print the NUMPY version and the configuration.\n",
    "\n",
    "print (np)"
   ]
  },
  {
   "cell_type": "code",
   "execution_count": 7,
   "id": "be08e159",
   "metadata": {},
   "outputs": [],
   "source": [
    "#3. Generate a 2x3x5 3-dimensional array with random values. Assign the array to variable \"a\"\n",
    "\n",
    "a = np.random.rand(2, 3, 5)\n"
   ]
  },
  {
   "cell_type": "code",
   "execution_count": 8,
   "id": "adb1e2ac",
   "metadata": {},
   "outputs": [
    {
     "data": {
      "text/plain": [
       "array([[[0.49181157, 0.63087107, 0.10642603, 0.00252453, 0.55429947],\n",
       "        [0.38479646, 0.41535858, 0.64149488, 0.42479499, 0.28462739],\n",
       "        [0.79592332, 0.84017561, 0.9143215 , 0.64186837, 0.9143597 ]],\n",
       "\n",
       "       [[0.87512292, 0.92011606, 0.26535072, 0.99642017, 0.60866818],\n",
       "        [0.61768615, 0.51123933, 0.05505526, 0.92355318, 0.52828734],\n",
       "        [0.79456992, 0.73694939, 0.3717427 , 0.51538575, 0.25501929]]])"
      ]
     },
     "execution_count": 8,
     "metadata": {},
     "output_type": "execute_result"
    }
   ],
   "source": [
    "#4. Print a.\n",
    "\n",
    "a"
   ]
  },
  {
   "cell_type": "code",
   "execution_count": 11,
   "id": "0c8b3c2e",
   "metadata": {},
   "outputs": [],
   "source": [
    "#5. Create a 5x2x3 3-dimensional array with all values equaling 1.\n",
    "#Assign the array to variable \"b\"\n",
    "\n",
    "b = np.ones((5,2,3))\n"
   ]
  },
  {
   "cell_type": "code",
   "execution_count": 12,
   "id": "307eea58",
   "metadata": {},
   "outputs": [
    {
     "data": {
      "text/plain": [
       "array([[[1., 1., 1.],\n",
       "        [1., 1., 1.]],\n",
       "\n",
       "       [[1., 1., 1.],\n",
       "        [1., 1., 1.]],\n",
       "\n",
       "       [[1., 1., 1.],\n",
       "        [1., 1., 1.]],\n",
       "\n",
       "       [[1., 1., 1.],\n",
       "        [1., 1., 1.]],\n",
       "\n",
       "       [[1., 1., 1.],\n",
       "        [1., 1., 1.]]])"
      ]
     },
     "execution_count": 12,
     "metadata": {},
     "output_type": "execute_result"
    }
   ],
   "source": [
    "#6. Print b.\n",
    "\n",
    "b"
   ]
  },
  {
   "cell_type": "code",
   "execution_count": 35,
   "id": "e88b416d",
   "metadata": {},
   "outputs": [
    {
     "name": "stdout",
     "output_type": "stream",
     "text": [
      "(2, 3, 5)\n",
      "(5, 2, 3)\n"
     ]
    },
    {
     "data": {
      "text/plain": [
       "array([[[1., 1., 1.],\n",
       "        [1., 1., 1.]],\n",
       "\n",
       "       [[1., 1., 1.],\n",
       "        [1., 1., 1.]],\n",
       "\n",
       "       [[1., 1., 1.],\n",
       "        [1., 1., 1.]],\n",
       "\n",
       "       [[1., 1., 1.],\n",
       "        [1., 1., 1.]],\n",
       "\n",
       "       [[1., 1., 1.],\n",
       "        [1., 1., 1.]]])"
      ]
     },
     "execution_count": 35,
     "metadata": {},
     "output_type": "execute_result"
    }
   ],
   "source": [
    "#7. Do a and b have the same size? How do you prove that in Python code?\n",
    "\n",
    "a = np.random.rand(2, 3, 5)\n",
    "b = np.ones((5,2,3))\n",
    "\n",
    "#No, a y b no tienen la misma forma o tamaño.\n",
    "\n",
    "#La matriz a tiene 2 \"capas\", cada una de las cuales tiene 3 filas y 5 columnas.\n",
    "\n",
    "#La matriz b tiene 5 \"capas\", cada una de las cuales tiene 2 filas y 3 columnas.\n",
    "\n",
    "print(a.shape)\n",
    "print(b.shape)\n",
    "b"
   ]
  },
  {
   "cell_type": "code",
   "execution_count": null,
   "id": "7a096bcf",
   "metadata": {},
   "outputs": [],
   "source": [
    "#8. Are you able to add a and b? Why or why not?\n",
    "\n",
    "# No , no se puede, al igual que en la pregunta anterior, tienen diferente shape."
   ]
  },
  {
   "cell_type": "code",
   "execution_count": 36,
   "id": "ee121059",
   "metadata": {},
   "outputs": [],
   "source": [
    "#9. Transpose b so that it has the same structure of \n",
    "#a(i.e. become a 2x3x5 array). Assign the transposed array to varialbe \"c\".\n",
    "\n",
    "\n",
    "c = b.transpose((1, 2, 0))"
   ]
  },
  {
   "cell_type": "code",
   "execution_count": 37,
   "id": "80ee4170",
   "metadata": {},
   "outputs": [
    {
     "data": {
      "text/plain": [
       "array([[[1.03795905, 1.42095968, 1.35710278, 1.88277696, 1.54821103],\n",
       "        [1.28234691, 1.11733068, 1.19704398, 1.41067769, 1.84994885],\n",
       "        [1.54204266, 1.19545101, 1.70426026, 1.31023597, 1.28558224]],\n",
       "\n",
       "       [[1.86407749, 1.93627535, 1.56777186, 1.79084324, 1.98800533],\n",
       "        [1.35359981, 1.55548673, 1.32401038, 1.6136584 , 1.27509784],\n",
       "        [1.76868193, 1.88877953, 1.18464363, 1.61439488, 1.33326483]]])"
      ]
     },
     "execution_count": 37,
     "metadata": {},
     "output_type": "execute_result"
    }
   ],
   "source": [
    "#10. Try to add a and c. Now it should work. \n",
    "#Assign the sum to varialbe \"d\". But why does it work now?\n",
    "\n",
    "d = a+c\n",
    "d"
   ]
  },
  {
   "cell_type": "code",
   "execution_count": 38,
   "id": "21c630a0",
   "metadata": {},
   "outputs": [
    {
     "name": "stdout",
     "output_type": "stream",
     "text": [
      "[[[0.03795905 0.42095968 0.35710278 0.88277696 0.54821103]\n",
      "  [0.28234691 0.11733068 0.19704398 0.41067769 0.84994885]\n",
      "  [0.54204266 0.19545101 0.70426026 0.31023597 0.28558224]]\n",
      "\n",
      " [[0.86407749 0.93627535 0.56777186 0.79084324 0.98800533]\n",
      "  [0.35359981 0.55548673 0.32401038 0.6136584  0.27509784]\n",
      "  [0.76868193 0.88877953 0.18464363 0.61439488 0.33326483]]]\n"
     ]
    },
    {
     "data": {
      "text/plain": [
       "array([[[1.03795905, 1.42095968, 1.35710278, 1.88277696, 1.54821103],\n",
       "        [1.28234691, 1.11733068, 1.19704398, 1.41067769, 1.84994885],\n",
       "        [1.54204266, 1.19545101, 1.70426026, 1.31023597, 1.28558224]],\n",
       "\n",
       "       [[1.86407749, 1.93627535, 1.56777186, 1.79084324, 1.98800533],\n",
       "        [1.35359981, 1.55548673, 1.32401038, 1.6136584 , 1.27509784],\n",
       "        [1.76868193, 1.88877953, 1.18464363, 1.61439488, 1.33326483]]])"
      ]
     },
     "execution_count": 38,
     "metadata": {},
     "output_type": "execute_result"
    }
   ],
   "source": [
    "#11. Print a and d. Notice the difference and relation of the two array in terms of the values? Explain.\n",
    "\n",
    "print(a)\n",
    "d\n",
    "\n",
    "# La diferencia entre las dos matrices es el 1, que viene justamente de la matriz b, que sólo contenía valores igual a 1"
   ]
  },
  {
   "cell_type": "code",
   "execution_count": 40,
   "id": "3618c5f7",
   "metadata": {},
   "outputs": [
    {
     "data": {
      "text/plain": [
       "array([[[0.03795905, 0.42095968, 0.35710278, 0.88277696, 0.54821103],\n",
       "        [0.28234691, 0.11733068, 0.19704398, 0.41067769, 0.84994885],\n",
       "        [0.54204266, 0.19545101, 0.70426026, 0.31023597, 0.28558224]],\n",
       "\n",
       "       [[0.86407749, 0.93627535, 0.56777186, 0.79084324, 0.98800533],\n",
       "        [0.35359981, 0.55548673, 0.32401038, 0.6136584 , 0.27509784],\n",
       "        [0.76868193, 0.88877953, 0.18464363, 0.61439488, 0.33326483]]])"
      ]
     },
     "execution_count": 40,
     "metadata": {},
     "output_type": "execute_result"
    }
   ],
   "source": [
    "#12. Multiply a and c. Assign the result to e.\n",
    "\n",
    "e = a*c\n",
    "e"
   ]
  },
  {
   "cell_type": "code",
   "execution_count": 43,
   "id": "2b393741",
   "metadata": {},
   "outputs": [
    {
     "data": {
      "text/plain": [
       "array([[[ True,  True,  True,  True,  True],\n",
       "        [ True,  True,  True,  True,  True],\n",
       "        [ True,  True,  True,  True,  True]],\n",
       "\n",
       "       [[ True,  True,  True,  True,  True],\n",
       "        [ True,  True,  True,  True,  True],\n",
       "        [ True,  True,  True,  True,  True]]])"
      ]
     },
     "execution_count": 43,
     "metadata": {},
     "output_type": "execute_result"
    }
   ],
   "source": [
    "#13. Does e equal to a? Why or why not?\n",
    "\n",
    "e == a\n",
    "\n",
    "#Sí, ambas contienen los mismos valores y en el mismo orden, sólo cambiaa que A se representa utilizando corchetes y comas para separar los elementos de la matriz, mientras que la variable e solo paréntesis y comas."
   ]
  },
  {
   "cell_type": "code",
   "execution_count": 47,
   "id": "7e760ec3",
   "metadata": {},
   "outputs": [
    {
     "name": "stdout",
     "output_type": "stream",
     "text": [
      "1.988005331896376\n",
      "1.0379590477357787\n",
      "1.5066840326855335\n"
     ]
    }
   ],
   "source": [
    "#14. Identify the max, min, and mean values in d. Assign those values to variables \"d_max\", \"d_min\", and \"d_mean\"\n",
    "\n",
    "d_max = np.max(d)\n",
    "d_min = np.min(d)\n",
    "d_mean = np.mean(d)\n",
    "\n",
    "print(d_max)\n",
    "print(d_min)\n",
    "print(d_mean)"
   ]
  },
  {
   "cell_type": "code",
   "execution_count": 50,
   "id": "e3c6dedf",
   "metadata": {},
   "outputs": [
    {
     "data": {
      "text/plain": [
       "array([[[0.03795905, 0.42095968, 0.35710278, 0.88277696, 0.54821103],\n",
       "        [0.28234691, 0.11733068, 0.19704398, 0.41067769, 0.84994885],\n",
       "        [0.54204266, 0.19545101, 0.70426026, 0.31023597, 0.28558224]],\n",
       "\n",
       "       [[0.86407749, 0.93627535, 0.56777186, 0.79084324, 0.98800533],\n",
       "        [0.35359981, 0.55548673, 0.32401038, 0.6136584 , 0.27509784],\n",
       "        [0.76868193, 0.88877953, 0.18464363, 0.61439488, 0.33326483]]])"
      ]
     },
     "execution_count": 50,
     "metadata": {},
     "output_type": "execute_result"
    }
   ],
   "source": [
    "#15. Now we want to label the values in d. \n",
    "#First create an empty array \"f\" with the same shape (i.e. 2x3x5) as d using `np.empty`.\n",
    "\n",
    "f = np.empty((2,3,5))\n",
    "f"
   ]
  },
  {
   "cell_type": "code",
   "execution_count": 53,
   "id": "01896391",
   "metadata": {},
   "outputs": [
    {
     "data": {
      "text/plain": [
       "array([[[  0.,  25.,  25.,  75.,  75.],\n",
       "        [ 25.,  25.,  25.,  25.,  75.],\n",
       "        [ 75.,  25.,  75.,  25.,  25.]],\n",
       "\n",
       "       [[ 75.,  75.,  75.,  75., 100.],\n",
       "        [ 25.,  75.,  25.,  75.,  25.],\n",
       "        [ 75.,  75.,  25.,  75.,  25.]]])"
      ]
     },
     "execution_count": 53,
     "metadata": {},
     "output_type": "execute_result"
    }
   ],
   "source": [
    "#16. Populate the values in f. For each value in d, if it's larger than d_min but smaller than d_mean, assign 25 to the corresponding value in f.\n",
    "#If a value in d is larger than d_mean but smaller than d_max, assign 75 to the corresponding value in f.\n",
    "#If a value equals to d_mean, assign 50 to the corresponding value in f.\n",
    "#Assign 0 to the corresponding value(s) in f for d_min in d.\n",
    "#Assign 100 to the corresponding value(s) in f for d_max in d.\n",
    "#In the end, f should have only the following values: 0, 25, 50, 75, and 100.\n",
    "#Note: you don't have to use Numpy in this question.\n",
    "\n",
    "\n",
    "d_max = d.max()\n",
    "d_min = d.min()\n",
    "d_mean = d.mean()\n",
    "\n",
    "f = np.empty(d.shape)\n",
    "\n",
    "for i in range(d.shape[0]):\n",
    "    for j in range(d.shape[1]):\n",
    "        for k in range(d.shape[2]):\n",
    "            if d[i,j,k] > d_min and d[i,j,k] < d_mean:\n",
    "                f[i,j,k] = 25\n",
    "            elif d[i,j,k] > d_mean and d[i,j,k] < d_max:\n",
    "                f[i,j,k] = 75\n",
    "            elif d[i,j,k] == d_mean:\n",
    "                f[i,j,k] = 50\n",
    "            elif d[i,j,k] == d_min:\n",
    "                f[i,j,k] = 0\n",
    "            elif d[i,j,k] == d_max:\n",
    "                f[i,j,k] = 100\n",
    "                \n",
    "f\n"
   ]
  },
  {
   "cell_type": "code",
   "execution_count": 56,
   "id": "07357140",
   "metadata": {},
   "outputs": [
    {
     "name": "stdout",
     "output_type": "stream",
     "text": [
      "[[[1.03795905 1.42095968 1.35710278 1.88277696 1.54821103]\n",
      "  [1.28234691 1.11733068 1.19704398 1.41067769 1.84994885]\n",
      "  [1.54204266 1.19545101 1.70426026 1.31023597 1.28558224]]\n",
      "\n",
      " [[1.86407749 1.93627535 1.56777186 1.79084324 1.98800533]\n",
      "  [1.35359981 1.55548673 1.32401038 1.6136584  1.27509784]\n",
      "  [1.76868193 1.88877953 1.18464363 1.61439488 1.33326483]]]\n"
     ]
    },
    {
     "data": {
      "text/plain": [
       "array([[[  0.,  25.,  25.,  75.,  75.],\n",
       "        [ 25.,  25.,  25.,  25.,  75.],\n",
       "        [ 75.,  25.,  75.,  25.,  25.]],\n",
       "\n",
       "       [[ 75.,  75.,  75.,  75., 100.],\n",
       "        [ 25.,  75.,  25.,  75.,  25.],\n",
       "        [ 75.,  75.,  25.,  75.,  25.]]])"
      ]
     },
     "execution_count": 56,
     "metadata": {},
     "output_type": "execute_result"
    }
   ],
   "source": [
    "#17. Print d and f. Do you have your expected f?\n",
    "\n",
    "\n",
    "print(d)\n",
    "f"
   ]
  },
  {
   "cell_type": "code",
   "execution_count": null,
   "id": "177eb77f",
   "metadata": {},
   "outputs": [],
   "source": []
  }
 ],
 "metadata": {
  "kernelspec": {
   "display_name": "Python 3 (ipykernel)",
   "language": "python",
   "name": "python3"
  },
  "language_info": {
   "codemirror_mode": {
    "name": "ipython",
    "version": 3
   },
   "file_extension": ".py",
   "mimetype": "text/x-python",
   "name": "python",
   "nbconvert_exporter": "python",
   "pygments_lexer": "ipython3",
   "version": "3.9.13"
  }
 },
 "nbformat": 4,
 "nbformat_minor": 5
}
