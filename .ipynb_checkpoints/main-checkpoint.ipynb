{
 "cells": [
  {
   "cell_type": "code",
   "execution_count": 5,
   "id": "0f4a4391",
   "metadata": {},
   "outputs": [
    {
     "name": "stdout",
     "output_type": "stream",
     "text": [
      "Requirement already satisfied: numpy in /Users/monicaclaroscadima/opt/anaconda3/lib/python3.9/site-packages (1.21.5)\n",
      "Note: you may need to restart the kernel to use updated packages.\n"
     ]
    }
   ],
   "source": [
    "#1. Import the NUMPY package under the name np.\n",
    "%pip install numpy\n",
    "import numpy as np"
   ]
  },
  {
   "cell_type": "code",
   "execution_count": 7,
   "id": "d68fbe21",
   "metadata": {},
   "outputs": [
    {
     "name": "stdout",
     "output_type": "stream",
     "text": [
      "blas_mkl_info:\n",
      "    libraries = ['mkl_rt', 'pthread']\n",
      "    library_dirs = ['/Users/monicaclaroscadima/opt/anaconda3/lib']\n",
      "    define_macros = [('SCIPY_MKL_H', None), ('HAVE_CBLAS', None)]\n",
      "    include_dirs = ['/Users/monicaclaroscadima/opt/anaconda3/include']\n",
      "blas_opt_info:\n",
      "    libraries = ['mkl_rt', 'pthread']\n",
      "    library_dirs = ['/Users/monicaclaroscadima/opt/anaconda3/lib']\n",
      "    define_macros = [('SCIPY_MKL_H', None), ('HAVE_CBLAS', None)]\n",
      "    include_dirs = ['/Users/monicaclaroscadima/opt/anaconda3/include']\n",
      "lapack_mkl_info:\n",
      "    libraries = ['mkl_rt', 'pthread']\n",
      "    library_dirs = ['/Users/monicaclaroscadima/opt/anaconda3/lib']\n",
      "    define_macros = [('SCIPY_MKL_H', None), ('HAVE_CBLAS', None)]\n",
      "    include_dirs = ['/Users/monicaclaroscadima/opt/anaconda3/include']\n",
      "lapack_opt_info:\n",
      "    libraries = ['mkl_rt', 'pthread']\n",
      "    library_dirs = ['/Users/monicaclaroscadima/opt/anaconda3/lib']\n",
      "    define_macros = [('SCIPY_MKL_H', None), ('HAVE_CBLAS', None)]\n",
      "    include_dirs = ['/Users/monicaclaroscadima/opt/anaconda3/include']\n",
      "Supported SIMD extensions in this NumPy install:\n",
      "    baseline = SSE,SSE2,SSE3\n",
      "    found = SSSE3,SSE41,POPCNT,SSE42\n",
      "    not found = AVX,F16C,FMA3,AVX2,AVX512F,AVX512CD,AVX512_KNL,AVX512_SKX,AVX512_CLX,AVX512_CNL,AVX512_ICL\n"
     ]
    }
   ],
   "source": [
    "#2. Print the NUMPY version and the configuration.\n",
    "np.show_config()"
   ]
  },
  {
   "cell_type": "code",
   "execution_count": 49,
   "id": "507b2e88",
   "metadata": {},
   "outputs": [],
   "source": [
    "#3. Generate a 2x3x5 3-dimensional array with random values. Assign the array to variable \"a\"\n",
    "# Challenge: there are at least three easy ways that use numpy to generate random arrays. How many ways can you find?\n",
    "vector= np.random.random (9)\n",
    "vector\n",
    "3* vector\n",
    "a =np.random.random ((2,3,5))\n"
   ]
  },
  {
   "cell_type": "code",
   "execution_count": 50,
   "id": "b9c184f1",
   "metadata": {},
   "outputs": [
    {
     "name": "stdout",
     "output_type": "stream",
     "text": [
      "[[[0.41321721 0.48844159 0.7230679  0.8426041  0.15973627]\n",
      "  [0.23550551 0.54831916 0.28358776 0.80608038 0.04884096]\n",
      "  [0.65528692 0.65936625 0.7700182  0.70690548 0.95102562]]\n",
      "\n",
      " [[0.83939506 0.80559324 0.55992965 0.01847998 0.21672256]\n",
      "  [0.86441327 0.53681474 0.07001796 0.98787535 0.74774832]\n",
      "  [0.2934333  0.05639684 0.75551065 0.90967047 0.83126899]]]\n"
     ]
    }
   ],
   "source": [
    "#4. Print a.\n",
    "print (a)"
   ]
  },
  {
   "cell_type": "code",
   "execution_count": 73,
   "id": "5c293b9b",
   "metadata": {},
   "outputs": [],
   "source": [
    "#5. Create a 5x2x3 3-dimensional array with all values equaling 1.\n",
    "#Assign the array to variable \"b\" ways can you find?\n",
    "b = np.ones ((5, 2, 3))"
   ]
  },
  {
   "cell_type": "code",
   "execution_count": 74,
   "id": "99937add",
   "metadata": {},
   "outputs": [
    {
     "data": {
      "text/plain": [
       "array([[[1., 1., 1.],\n",
       "        [1., 1., 1.]],\n",
       "\n",
       "       [[1., 1., 1.],\n",
       "        [1., 1., 1.]],\n",
       "\n",
       "       [[1., 1., 1.],\n",
       "        [1., 1., 1.]],\n",
       "\n",
       "       [[1., 1., 1.],\n",
       "        [1., 1., 1.]],\n",
       "\n",
       "       [[1., 1., 1.],\n",
       "        [1., 1., 1.]]])"
      ]
     },
     "execution_count": 74,
     "metadata": {},
     "output_type": "execute_result"
    }
   ],
   "source": [
    "#6. Print b.\n",
    "b"
   ]
  },
  {
   "cell_type": "code",
   "execution_count": 75,
   "id": "2f6d2a15",
   "metadata": {},
   "outputs": [
    {
     "data": {
      "text/plain": [
       "(2, 3, 5)"
      ]
     },
     "execution_count": 75,
     "metadata": {},
     "output_type": "execute_result"
    }
   ],
   "source": [
    "#7. Do a and b have the same size? How do you prove that in Python code?\n",
    "## se obtiene los tamaños (3,5) (2,3)\n",
    "a.shape"
   ]
  },
  {
   "cell_type": "code",
   "execution_count": 76,
   "id": "cb2714ad",
   "metadata": {},
   "outputs": [
    {
     "data": {
      "text/plain": [
       "(5, 2, 3)"
      ]
     },
     "execution_count": 76,
     "metadata": {},
     "output_type": "execute_result"
    }
   ],
   "source": [
    "b.shape"
   ]
  },
  {
   "cell_type": "code",
   "execution_count": 39,
   "id": "d7aa5931",
   "metadata": {},
   "outputs": [],
   "source": [
    "#8. Are you able to add a and b? Why or why not?\n",
    "\n",
    "#R.- no se puede operar porque son de diferente tamaño   \n"
   ]
  },
  {
   "cell_type": "code",
   "execution_count": 82,
   "id": "b711a783",
   "metadata": {
    "scrolled": true
   },
   "outputs": [],
   "source": [
    "#9. Transpose b so that it has the same structure of a (i.e. become a 2x3x5 array). Assign the transposed array to varialbe \"c\"\n",
    "c= b.transpose()"
   ]
  },
  {
   "cell_type": "code",
   "execution_count": 65,
   "id": "4a96e8e0",
   "metadata": {},
   "outputs": [
    {
     "data": {
      "text/plain": [
       "(3, 2, 5)"
      ]
     },
     "execution_count": 65,
     "metadata": {},
     "output_type": "execute_result"
    }
   ],
   "source": [
    "c.shape"
   ]
  },
  {
   "cell_type": "code",
   "execution_count": 84,
   "id": "d74050d8",
   "metadata": {},
   "outputs": [
    {
     "data": {
      "text/plain": [
       "array([[[1., 1., 1., 1., 1.],\n",
       "        [1., 1., 1., 1., 1.],\n",
       "        [1., 1., 1., 1., 1.]],\n",
       "\n",
       "       [[1., 1., 1., 1., 1.],\n",
       "        [1., 1., 1., 1., 1.],\n",
       "        [1., 1., 1., 1., 1.]]])"
      ]
     },
     "execution_count": 84,
     "metadata": {},
     "output_type": "execute_result"
    }
   ],
   "source": [
    "c= c.reshape(2,3,5)\n",
    "c"
   ]
  },
  {
   "cell_type": "code",
   "execution_count": 89,
   "id": "c89ad9be",
   "metadata": {},
   "outputs": [],
   "source": [
    "#10. Try to add a and c. Now it should work. Assign the sum to varialbe \"d\". But why does it work now?\n",
    "d= np.add(a[0], c[1])"
   ]
  },
  {
   "cell_type": "code",
   "execution_count": 90,
   "id": "f7125099",
   "metadata": {},
   "outputs": [
    {
     "data": {
      "text/plain": [
       "array([[[0.41321721, 0.48844159, 0.7230679 , 0.8426041 , 0.15973627],\n",
       "        [0.23550551, 0.54831916, 0.28358776, 0.80608038, 0.04884096],\n",
       "        [0.65528692, 0.65936625, 0.7700182 , 0.70690548, 0.95102562]],\n",
       "\n",
       "       [[0.83939506, 0.80559324, 0.55992965, 0.01847998, 0.21672256],\n",
       "        [0.86441327, 0.53681474, 0.07001796, 0.98787535, 0.74774832],\n",
       "        [0.2934333 , 0.05639684, 0.75551065, 0.90967047, 0.83126899]]])"
      ]
     },
     "execution_count": 90,
     "metadata": {},
     "output_type": "execute_result"
    }
   ],
   "source": [
    "#11. Print a and d. Notice the difference and relation of the two array in terms of the values? Explain.\n",
    "a"
   ]
  },
  {
   "cell_type": "code",
   "execution_count": 91,
   "id": "40992907",
   "metadata": {},
   "outputs": [
    {
     "data": {
      "text/plain": [
       "array([[1.41321721, 1.48844159, 1.7230679 , 1.8426041 , 1.15973627],\n",
       "       [1.23550551, 1.54831916, 1.28358776, 1.80608038, 1.04884096],\n",
       "       [1.65528692, 1.65936625, 1.7700182 , 1.70690548, 1.95102562]])"
      ]
     },
     "execution_count": 91,
     "metadata": {},
     "output_type": "execute_result"
    }
   ],
   "source": [
    "d"
   ]
  },
  {
   "cell_type": "code",
   "execution_count": 93,
   "id": "5f4f4937",
   "metadata": {},
   "outputs": [
    {
     "data": {
      "text/plain": [
       "array([[0.41321721, 0.48844159, 0.7230679 , 0.8426041 , 0.15973627],\n",
       "       [0.23550551, 0.54831916, 0.28358776, 0.80608038, 0.04884096],\n",
       "       [0.65528692, 0.65936625, 0.7700182 , 0.70690548, 0.95102562]])"
      ]
     },
     "execution_count": 93,
     "metadata": {},
     "output_type": "execute_result"
    }
   ],
   "source": [
    "#12. Multiply a and c. Assign the result to e.\n",
    "e= np.multiply(a[0], c[1])\n",
    "e"
   ]
  },
  {
   "cell_type": "code",
   "execution_count": 94,
   "id": "ac5e098c",
   "metadata": {},
   "outputs": [],
   "source": [
    "\n",
    "#13. Does e equal to a? Why or why not?"
   ]
  },
  {
   "cell_type": "code",
   "execution_count": 95,
   "id": "acf77986",
   "metadata": {},
   "outputs": [
    {
     "data": {
      "text/plain": [
       "inf"
      ]
     },
     "execution_count": 95,
     "metadata": {},
     "output_type": "execute_result"
    }
   ],
   "source": [
    "#14. Identify the max, min, and mean values in d. Assign those values to variables \"d_max\", \"d_min\", and \"d_mean\"\n",
    "np.inf"
   ]
  },
  {
   "cell_type": "code",
   "execution_count": 98,
   "id": "d7fca9bd",
   "metadata": {},
   "outputs": [
    {
     "data": {
      "text/plain": [
       "1.0488409628220428"
      ]
     },
     "execution_count": 98,
     "metadata": {},
     "output_type": "execute_result"
    }
   ],
   "source": [
    "d_min= d.min()\n",
    "d_min"
   ]
  },
  {
   "cell_type": "code",
   "execution_count": 99,
   "id": "8ffd635c",
   "metadata": {},
   "outputs": [
    {
     "data": {
      "text/plain": [
       "1.9510256170325126"
      ]
     },
     "execution_count": 99,
     "metadata": {},
     "output_type": "execute_result"
    }
   ],
   "source": [
    "d_max= d.max()\n",
    "d_max"
   ]
  },
  {
   "cell_type": "code",
   "execution_count": 100,
   "id": "6fdd3a90",
   "metadata": {},
   "outputs": [
    {
     "data": {
      "text/plain": [
       "1.552800221773243"
      ]
     },
     "execution_count": 100,
     "metadata": {},
     "output_type": "execute_result"
    }
   ],
   "source": [
    "d_mean= d.mean()\n",
    "d_mean"
   ]
  },
  {
   "cell_type": "code",
   "execution_count": 102,
   "id": "cc1f2a20",
   "metadata": {},
   "outputs": [
    {
     "data": {
      "text/plain": [
       "array([[[0.41321721, 0.48844159, 0.7230679 , 0.8426041 , 0.15973627],\n",
       "        [0.23550551, 0.54831916, 0.28358776, 0.80608038, 0.04884096],\n",
       "        [0.65528692, 0.65936625, 0.7700182 , 0.70690548, 0.95102562]],\n",
       "\n",
       "       [[0.83939506, 0.80559324, 0.55992965, 0.01847998, 0.21672256],\n",
       "        [0.86441327, 0.53681474, 0.07001796, 0.98787535, 0.74774832],\n",
       "        [0.2934333 , 0.05639684, 0.75551065, 0.90967047, 0.83126899]]])"
      ]
     },
     "execution_count": 102,
     "metadata": {},
     "output_type": "execute_result"
    }
   ],
   "source": [
    "#15. Now we want to label the values in d. First create an empty array \"f\" with the same shape (i.e. 2x3x5) as d using `np.empty`.\n",
    "f= np.empty((2,3,5))\n",
    "f"
   ]
  }
 ],
 "metadata": {
  "kernelspec": {
   "display_name": "Python 3 (ipykernel)",
   "language": "python",
   "name": "python3"
  },
  "language_info": {
   "codemirror_mode": {
    "name": "ipython",
    "version": 3
   },
   "file_extension": ".py",
   "mimetype": "text/x-python",
   "name": "python",
   "nbconvert_exporter": "python",
   "pygments_lexer": "ipython3",
   "version": "3.9.13"
  }
 },
 "nbformat": 4,
 "nbformat_minor": 5
}
