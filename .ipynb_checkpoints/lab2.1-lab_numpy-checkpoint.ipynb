{
 "cells": [
  {
   "cell_type": "code",
   "execution_count": 69,
   "id": "711b8bd4",
   "metadata": {},
   "outputs": [],
   "source": [
    "#1. Import the NUMPY package under the name np.\n",
    "\n",
    "import numpy as np"
   ]
  },
  {
   "cell_type": "code",
   "execution_count": 70,
   "id": "6a308f01",
   "metadata": {},
   "outputs": [],
   "source": [
    "#2. Print the NUMPY version and the configuration."
   ]
  },
  {
   "cell_type": "code",
   "execution_count": 71,
   "id": "0cbccfcb",
   "metadata": {},
   "outputs": [
    {
     "name": "stdout",
     "output_type": "stream",
     "text": [
      "NumPy version: 1.23.5\n",
      "blas_armpl_info:\n",
      "  NOT AVAILABLE\n",
      "blas_mkl_info:\n",
      "    libraries = ['mkl_rt']\n",
      "    library_dirs = ['C:/Users/FX506/anaconda3\\\\Library\\\\lib']\n",
      "    define_macros = [('SCIPY_MKL_H', None), ('HAVE_CBLAS', None)]\n",
      "    include_dirs = ['C:/Users/FX506/anaconda3\\\\Library\\\\include']\n",
      "blas_opt_info:\n",
      "    libraries = ['mkl_rt']\n",
      "    library_dirs = ['C:/Users/FX506/anaconda3\\\\Library\\\\lib']\n",
      "    define_macros = [('SCIPY_MKL_H', None), ('HAVE_CBLAS', None)]\n",
      "    include_dirs = ['C:/Users/FX506/anaconda3\\\\Library\\\\include']\n",
      "lapack_armpl_info:\n",
      "  NOT AVAILABLE\n",
      "lapack_mkl_info:\n",
      "    libraries = ['mkl_rt']\n",
      "    library_dirs = ['C:/Users/FX506/anaconda3\\\\Library\\\\lib']\n",
      "    define_macros = [('SCIPY_MKL_H', None), ('HAVE_CBLAS', None)]\n",
      "    include_dirs = ['C:/Users/FX506/anaconda3\\\\Library\\\\include']\n",
      "lapack_opt_info:\n",
      "    libraries = ['mkl_rt']\n",
      "    library_dirs = ['C:/Users/FX506/anaconda3\\\\Library\\\\lib']\n",
      "    define_macros = [('SCIPY_MKL_H', None), ('HAVE_CBLAS', None)]\n",
      "    include_dirs = ['C:/Users/FX506/anaconda3\\\\Library\\\\include']\n",
      "Supported SIMD extensions in this NumPy install:\n",
      "    baseline = SSE,SSE2,SSE3\n",
      "    found = SSSE3,SSE41,POPCNT,SSE42,AVX,F16C,FMA3,AVX2,AVX512F,AVX512CD,AVX512_SKX,AVX512_CLX,AVX512_CNL\n",
      "    not found = \n"
     ]
    }
   ],
   "source": [
    "print(\"NumPy version:\", np.__version__)\n",
    "\n",
    "np.show_config()\n"
   ]
  },
  {
   "cell_type": "code",
   "execution_count": 72,
   "id": "74a29895",
   "metadata": {},
   "outputs": [],
   "source": [
    "#3. Generate a 2x3x5 3-dimensional array with random values. Assign the array to variable \"a\"\n",
    "# Challenge: there are at least three easy ways that use numpy to generate random arrays. How many ways can you find?\n"
   ]
  },
  {
   "cell_type": "code",
   "execution_count": 73,
   "id": "56bf3234",
   "metadata": {},
   "outputs": [],
   "source": [
    "a = np.random.rand(2, 3, 5)\n",
    "\n",
    "arr = np.random.random((2, 3, 5))\n",
    "\n",
    "arr2 = np.random.randn(2, 3, 5)\n",
    "\n"
   ]
  },
  {
   "cell_type": "code",
   "execution_count": 74,
   "id": "241577ce",
   "metadata": {},
   "outputs": [],
   "source": [
    "#4. Print a.\n"
   ]
  },
  {
   "cell_type": "code",
   "execution_count": 75,
   "id": "99adc25b",
   "metadata": {},
   "outputs": [
    {
     "name": "stdout",
     "output_type": "stream",
     "text": [
      "[[[0.86206322 0.08761936 0.34872145 0.92723721 0.47793571]\n",
      "  [0.35384118 0.7389423  0.92594774 0.70699174 0.35690313]\n",
      "  [0.56298107 0.21071667 0.51783809 0.70862419 0.91691165]]\n",
      "\n",
      " [[0.04132088 0.48025259 0.93023528 0.69011651 0.54311274]\n",
      "  [0.1218569  0.78468473 0.04334533 0.42524855 0.33048695]\n",
      "  [0.74121912 0.18730936 0.60228446 0.81918088 0.53672891]]]\n"
     ]
    }
   ],
   "source": [
    "print(a)"
   ]
  },
  {
   "cell_type": "code",
   "execution_count": 76,
   "id": "e6bc878f",
   "metadata": {},
   "outputs": [],
   "source": [
    "#5. Create a 5x2x3 3-dimensional array with all values equaling 1.\n",
    "#Assign the array to variable \"b\"\n"
   ]
  },
  {
   "cell_type": "code",
   "execution_count": 77,
   "id": "87fb87d2",
   "metadata": {},
   "outputs": [],
   "source": [
    "b = np.ones((5, 2, 3))"
   ]
  },
  {
   "cell_type": "code",
   "execution_count": 78,
   "id": "4e24e11d",
   "metadata": {},
   "outputs": [],
   "source": [
    "#6. Print b.\n"
   ]
  },
  {
   "cell_type": "code",
   "execution_count": 79,
   "id": "5cb24fd0",
   "metadata": {},
   "outputs": [
    {
     "name": "stdout",
     "output_type": "stream",
     "text": [
      "[[[1. 1. 1.]\n",
      "  [1. 1. 1.]]\n",
      "\n",
      " [[1. 1. 1.]\n",
      "  [1. 1. 1.]]\n",
      "\n",
      " [[1. 1. 1.]\n",
      "  [1. 1. 1.]]\n",
      "\n",
      " [[1. 1. 1.]\n",
      "  [1. 1. 1.]]\n",
      "\n",
      " [[1. 1. 1.]\n",
      "  [1. 1. 1.]]]\n"
     ]
    }
   ],
   "source": [
    "print(b)"
   ]
  },
  {
   "cell_type": "code",
   "execution_count": 80,
   "id": "cafeb069",
   "metadata": {},
   "outputs": [
    {
     "name": "stdout",
     "output_type": "stream",
     "text": [
      "30\n",
      "30\n"
     ]
    }
   ],
   "source": [
    "#7. Do a and b have the same size? How do you prove that in Python code?\n",
    "\n",
    "print(a.size)\n",
    "\n",
    "print(b.size)\n",
    "\n",
    "\n",
    "\n"
   ]
  },
  {
   "cell_type": "code",
   "execution_count": null,
   "id": "096cd1d0",
   "metadata": {},
   "outputs": [],
   "source": []
  },
  {
   "cell_type": "code",
   "execution_count": 81,
   "id": "7fcb23f2",
   "metadata": {},
   "outputs": [],
   "source": [
    "#8. Are you able to add a and b? Why or why not?\n"
   ]
  },
  {
   "cell_type": "code",
   "execution_count": 82,
   "id": "c7d72f99",
   "metadata": {},
   "outputs": [],
   "source": [
    "# no i can't add a and b because they have diferent shape, i could change the shape to do so.\n"
   ]
  },
  {
   "cell_type": "code",
   "execution_count": 83,
   "id": "3d63d8e2",
   "metadata": {},
   "outputs": [],
   "source": [
    "#9. Transpose b so that it has the same structure of a (i.e. become a 2x3x5 array). Assign the transposed array to varialbe \"c\".\n"
   ]
  },
  {
   "cell_type": "code",
   "execution_count": 84,
   "id": "04d989c4",
   "metadata": {},
   "outputs": [
    {
     "name": "stdout",
     "output_type": "stream",
     "text": [
      "[[[1. 1. 1. 1. 1.]\n",
      "  [1. 1. 1. 1. 1.]\n",
      "  [1. 1. 1. 1. 1.]]\n",
      "\n",
      " [[1. 1. 1. 1. 1.]\n",
      "  [1. 1. 1. 1. 1.]\n",
      "  [1. 1. 1. 1. 1.]]]\n"
     ]
    }
   ],
   "source": [
    "c = b.T.reshape((2, 3, 5))\n",
    "\n",
    "print(c)"
   ]
  },
  {
   "cell_type": "code",
   "execution_count": 88,
   "id": "54c9502e",
   "metadata": {},
   "outputs": [
    {
     "name": "stdout",
     "output_type": "stream",
     "text": [
      "[[[1.86206322 1.08761936 1.34872145 1.92723721 1.47793571]\n",
      "  [1.35384118 1.7389423  1.92594774 1.70699174 1.35690313]\n",
      "  [1.56298107 1.21071667 1.51783809 1.70862419 1.91691165]]\n",
      "\n",
      " [[1.04132088 1.48025259 1.93023528 1.69011651 1.54311274]\n",
      "  [1.1218569  1.78468473 1.04334533 1.42524855 1.33048695]\n",
      "  [1.74121912 1.18730936 1.60228446 1.81918088 1.53672891]]]\n"
     ]
    }
   ],
   "source": [
    "#10. Try to add a and c. Now it should work. Assign the sum to varialbe \"d\". But why does it work now?\n",
    "d= (a + c)\n",
    "\n",
    "print(d)"
   ]
  },
  {
   "cell_type": "code",
   "execution_count": null,
   "id": "a1816051",
   "metadata": {},
   "outputs": [],
   "source": []
  },
  {
   "cell_type": "code",
   "execution_count": 91,
   "id": "36b9adca",
   "metadata": {},
   "outputs": [
    {
     "name": "stdout",
     "output_type": "stream",
     "text": [
      "this is the a array [[[0.86206322 0.08761936 0.34872145 0.92723721 0.47793571]\n",
      "  [0.35384118 0.7389423  0.92594774 0.70699174 0.35690313]\n",
      "  [0.56298107 0.21071667 0.51783809 0.70862419 0.91691165]]\n",
      "\n",
      " [[0.04132088 0.48025259 0.93023528 0.69011651 0.54311274]\n",
      "  [0.1218569  0.78468473 0.04334533 0.42524855 0.33048695]\n",
      "  [0.74121912 0.18730936 0.60228446 0.81918088 0.53672891]]]\n",
      "this is the d array [[[1.86206322 1.08761936 1.34872145 1.92723721 1.47793571]\n",
      "  [1.35384118 1.7389423  1.92594774 1.70699174 1.35690313]\n",
      "  [1.56298107 1.21071667 1.51783809 1.70862419 1.91691165]]\n",
      "\n",
      " [[1.04132088 1.48025259 1.93023528 1.69011651 1.54311274]\n",
      "  [1.1218569  1.78468473 1.04334533 1.42524855 1.33048695]\n",
      "  [1.74121912 1.18730936 1.60228446 1.81918088 1.53672891]]]\n"
     ]
    }
   ],
   "source": [
    "#11. Print a and d. Notice the difference and relation of the two array in terms of the values? Explain.\n",
    "\n",
    "print(\"this is the a array\", a)\n",
    "\n",
    "\n",
    "\n",
    "print(\"this is the d array\", d)\n",
    "\n"
   ]
  },
  {
   "cell_type": "code",
   "execution_count": null,
   "id": "f0e2772c",
   "metadata": {},
   "outputs": [],
   "source": [
    "#The array \"a\" has values between 0 and 1, while the array \"d\" has the same values plus 1. This is because \"d\" was created by adding 1 to each element of \"a\". Therefore, \"d\" is a translation of \"a\" by a constant value of 1 in all dimensions. In other words, the relation between \"a\" and \"d\" is that \"d\" is a scalar addition of 1 to \"a\"."
   ]
  },
  {
   "cell_type": "code",
   "execution_count": 92,
   "id": "e3614eaf",
   "metadata": {},
   "outputs": [
    {
     "name": "stdout",
     "output_type": "stream",
     "text": [
      "[[[0.86206322 0.08761936 0.34872145 0.92723721 0.47793571]\n",
      "  [0.35384118 0.7389423  0.92594774 0.70699174 0.35690313]\n",
      "  [0.56298107 0.21071667 0.51783809 0.70862419 0.91691165]]\n",
      "\n",
      " [[0.04132088 0.48025259 0.93023528 0.69011651 0.54311274]\n",
      "  [0.1218569  0.78468473 0.04334533 0.42524855 0.33048695]\n",
      "  [0.74121912 0.18730936 0.60228446 0.81918088 0.53672891]]]\n"
     ]
    }
   ],
   "source": [
    "#12. Multiply a and c. Assign the result to e.\n",
    "\n",
    "e = (a * c)\n",
    "\n",
    "print(e)"
   ]
  },
  {
   "cell_type": "code",
   "execution_count": null,
   "id": "9f384333",
   "metadata": {},
   "outputs": [],
   "source": []
  },
  {
   "cell_type": "code",
   "execution_count": 93,
   "id": "a667eff1",
   "metadata": {},
   "outputs": [
    {
     "name": "stdout",
     "output_type": "stream",
     "text": [
      "[[[0.86206322 0.08761936 0.34872145 0.92723721 0.47793571]\n",
      "  [0.35384118 0.7389423  0.92594774 0.70699174 0.35690313]\n",
      "  [0.56298107 0.21071667 0.51783809 0.70862419 0.91691165]]\n",
      "\n",
      " [[0.04132088 0.48025259 0.93023528 0.69011651 0.54311274]\n",
      "  [0.1218569  0.78468473 0.04334533 0.42524855 0.33048695]\n",
      "  [0.74121912 0.18730936 0.60228446 0.81918088 0.53672891]]]\n",
      "[[[0.86206322 0.08761936 0.34872145 0.92723721 0.47793571]\n",
      "  [0.35384118 0.7389423  0.92594774 0.70699174 0.35690313]\n",
      "  [0.56298107 0.21071667 0.51783809 0.70862419 0.91691165]]\n",
      "\n",
      " [[0.04132088 0.48025259 0.93023528 0.69011651 0.54311274]\n",
      "  [0.1218569  0.78468473 0.04334533 0.42524855 0.33048695]\n",
      "  [0.74121912 0.18730936 0.60228446 0.81918088 0.53672891]]]\n"
     ]
    }
   ],
   "source": [
    "#13. Does e equal to a? Why or why not?\n",
    "\n",
    "print(a)\n",
    "\n",
    "\n",
    "\n",
    "print(e)\n",
    "\n",
    "\n"
   ]
  },
  {
   "cell_type": "code",
   "execution_count": 94,
   "id": "c7c56146",
   "metadata": {},
   "outputs": [],
   "source": [
    "#Yes, e is equal to a.\n",
    "\n",
    "#The reason is that e was created by assigning it the value of a using the assignment operator =. Since a was not modified after this assignment, e has the same values and dimensions as a."
   ]
  },
  {
   "cell_type": "code",
   "execution_count": 95,
   "id": "c924972b",
   "metadata": {},
   "outputs": [
    {
     "name": "stdout",
     "output_type": "stream",
     "text": [
      "Max value:  1.9302352820202398\n",
      "Min value:  1.0413208761582302\n",
      "Mean value:  1.5326885968644866\n"
     ]
    }
   ],
   "source": [
    "#14. Identify the max, min, and mean values in d. Assign those values to variables \"d_max\", \"d_min\", and \"d_mean\"\n",
    "\n",
    "d_max = np.max(d)\n",
    "d_min = np.min(d)\n",
    "d_mean = np.mean(d)\n",
    "\n",
    "print(\"Max value: \", d_max)\n",
    "print(\"Min value: \", d_min)\n",
    "print(\"Mean value: \", d_mean)\n",
    "\n",
    "\n",
    "\n"
   ]
  },
  {
   "cell_type": "code",
   "execution_count": 96,
   "id": "3a0703f1",
   "metadata": {},
   "outputs": [],
   "source": [
    "#15. Now we want to label the values in d. First create an empty array \"f\" with the same shape (i.e. 2x3x5) as d using `np.empty`.\n"
   ]
  },
  {
   "cell_type": "code",
   "execution_count": 126,
   "id": "3e7ed794",
   "metadata": {},
   "outputs": [
    {
     "name": "stdout",
     "output_type": "stream",
     "text": [
      "[[[1.86206322 1.08761936 1.34872145 1.92723721 1.47793571]\n",
      "  [1.35384118 1.7389423  1.92594774 1.70699174 1.35690313]\n",
      "  [1.56298107 1.21071667 1.51783809 1.70862419 1.91691165]]\n",
      "\n",
      " [[1.04132088 1.48025259 1.93023528 1.69011651 1.54311274]\n",
      "  [1.1218569  1.78468473 1.04334533 1.42524855 1.33048695]\n",
      "  [1.74121912 1.18730936 1.60228446 1.81918088 1.53672891]]]\n"
     ]
    }
   ],
   "source": [
    "f = np.empty_like(d)\n",
    "\n",
    "print(f)\n"
   ]
  },
  {
   "cell_type": "markdown",
   "id": "f18ba305",
   "metadata": {},
   "source": [
    "\"\"\"\n",
    "#16. Populate the values in f. For each value in d, if it's larger than d_min but smaller than d_mean, assign 25 to the corresponding value in f.\n",
    "If a value in d is larger than d_mean but smaller than d_max, assign 75 to the corresponding value in f.\n",
    "If a value equals to d_mean, assign 50 to the corresponding value in f.\n",
    "Assign 0 to the corresponding value(s) in f for d_min in d.\n",
    "Assign 100 to the corresponding value(s) in f for d_max in d.\n",
    "In the end, f should have only the following values: 0, 25, 50, 75, and 100.\n",
    "Note: you don't have to use Numpy in this question.\n",
    "\"\"\""
   ]
  },
  {
   "cell_type": "code",
   "execution_count": 124,
   "id": "d4a69b3f",
   "metadata": {},
   "outputs": [
    {
     "data": {
      "text/plain": [
       "'f = np.zeros_like(d)\\n\\nmask1 = (d > d_min) & (d < d_mean)\\nf[mask1] = 25\\n\\nmask2 = (d > d_mean) & (d < d_max)\\nf[mask2] = 75\\n\\nmask3 = (d == d_mean)\\nf[mask3] = 50\\n\\nmask4 = (d == d_min)\\nf[mask4] = 0\\n\\nmask5 = (d == d_max)\\nf[mask5] = 100'"
      ]
     },
     "execution_count": 124,
     "metadata": {},
     "output_type": "execute_result"
    }
   ],
   "source": [
    "'''f = np.zeros_like(d)\n",
    "\n",
    "mask1 = (d > d_min) & (d < d_mean)\n",
    "f[mask1] = 25\n",
    "\n",
    "mask2 = (d > d_mean) & (d < d_max)\n",
    "f[mask2] = 75\n",
    "\n",
    "mask3 = (d == d_mean)\n",
    "f[mask3] = 50\n",
    "\n",
    "mask4 = (d == d_min)\n",
    "f[mask4] = 0\n",
    "\n",
    "mask5 = (d == d_max)\n",
    "f[mask5] = 100'''\n",
    "#este era de prueba abajo esta el codigo "
   ]
  },
  {
   "cell_type": "code",
   "execution_count": 127,
   "id": "4ca049af",
   "metadata": {
    "scrolled": true
   },
   "outputs": [],
   "source": [
    "f=list([c for i in f for a in i for c in a])\n",
    "\n",
    "for i in f:\n",
    "    if i>float(d_min) and i<float(d_mean):\n",
    "        \n",
    "        f[f.index(i)] = 25\n",
    "        \n",
    "    elif i>float(d_mean) and i<float(d_max):\n",
    "            \n",
    "        f[f.index(i)] = 75\n",
    "            \n",
    "    if i==float(d_mean):\n",
    "                \n",
    "        f[f.index(i)] = 50\n",
    "        \n",
    "    if i==float(d_min):\n",
    "                \n",
    "        f[f.index(i)] = 0\n",
    "                    \n",
    "    if i==float(d_max):    \n",
    "        \n",
    "         f[f.index(i)] = 100\n",
    "            \n",
    "f=np.array(f).reshape((2, 3, 5))"
   ]
  },
  {
   "cell_type": "markdown",
   "id": "a014558a",
   "metadata": {},
   "source": [
    "#17. Print d and f. Do you have your expected f?\n",
    "For instance, if your d is:\n",
    "array([[[1.85836099, 1.67064465, 1.62576044, 1.40243961, 1.88454931],\n",
    "        [1.75354326, 1.69403643, 1.36729252, 1.61415071, 1.12104981],\n",
    "        [1.72201435, 1.1862918 , 1.87078449, 1.7726778 , 1.88180042]],\n",
    "\n",
    "       [[1.44747908, 1.31673383, 1.02000951, 1.52218947, 1.97066381],\n",
    "        [1.79129243, 1.74983003, 1.96028037, 1.85166831, 1.65450881],\n",
    "        [1.18068344, 1.9587381 , 1.00656599, 1.93402165, 1.73514584]]])\n",
    "\n",
    "Your f should be:\n",
    "array([[[ 75.,  75.,  75.,  25.,  75.],\n",
    "        [ 75.,  75.,  25.,  25.,  25.],\n",
    "        [ 75.,  25.,  75.,  75.,  75.]],\n",
    "\n",
    "       [[ 25.,  25.,  25.,  25., 100.],\n",
    "        [ 75.,  75.,  75.,  75.,  75.],\n",
    "        [ 25.,  75.,   0.,  75.,  75.]]])\n",
    "\"\"\"\n",
    "\n",
    "\n",
    "\"\"\""
   ]
  },
  {
   "cell_type": "code",
   "execution_count": 128,
   "id": "ed420324",
   "metadata": {},
   "outputs": [
    {
     "name": "stdout",
     "output_type": "stream",
     "text": [
      "[[[1.86206322 1.08761936 1.34872145 1.92723721 1.47793571]\n",
      "  [1.35384118 1.7389423  1.92594774 1.70699174 1.35690313]\n",
      "  [1.56298107 1.21071667 1.51783809 1.70862419 1.91691165]]\n",
      "\n",
      " [[1.04132088 1.48025259 1.93023528 1.69011651 1.54311274]\n",
      "  [1.1218569  1.78468473 1.04334533 1.42524855 1.33048695]\n",
      "  [1.74121912 1.18730936 1.60228446 1.81918088 1.53672891]]]\n",
      "[[[ 75  25  25  75  25]\n",
      "  [ 25  75  75  75  25]\n",
      "  [ 75  25  25  75  75]]\n",
      "\n",
      " [[  0  25 100  75  75]\n",
      "  [ 25  75  25  25  25]\n",
      "  [ 75  25  75  75  75]]]\n"
     ]
    }
   ],
   "source": [
    "print(d)\n",
    "\n",
    "print(f)"
   ]
  },
  {
   "cell_type": "markdown",
   "id": "fd293ba1",
   "metadata": {},
   "source": [
    "#18. Bonus question: instead of using numbers (i.e. 0, 25, 50, 75, and 100), how to use string values \n",
    "(\"A\", \"B\", \"C\", \"D\", and \"E\") to label the array elements? You are expecting the result to be:\n",
    "array([[[ 'D',  'D',  'D',  'B',  'D'],\n",
    "        [ 'D',  'D',  'B',  'B',  'B'],\n",
    "        [ 'D',  'B',  'D',  'D',  'D']],\n",
    "\n",
    "       [[ 'B',  'B',  'B',  'B',  'E'],\n",
    "        [ 'D',  'D',  'D',  'D',  'D'],\n",
    "        [ 'B',  'D',   'A',  'D', 'D']]])\n",
    "Again, you don't need Numpy in this question.\n",
    "\"\"\""
   ]
  },
  {
   "cell_type": "code",
   "execution_count": 129,
   "id": "626e24d3",
   "metadata": {},
   "outputs": [
    {
     "name": "stdout",
     "output_type": "stream",
     "text": [
      "[[['B' 'A' 'A' 'B' 'A']\n",
      "  ['A' 'B' 'B' 'B' 'A']\n",
      "  ['B' 'A' 'A' 'B' 'B']]\n",
      "\n",
      " [['D' 'A' 'E' 'B' 'B']\n",
      "  ['A' 'B' 'A' 'A' 'A']\n",
      "  ['B' 'A' 'B' 'B' 'B']]]\n"
     ]
    }
   ],
   "source": [
    "f = np.where(f == 25, \"A\", np.where( f == 75, \"B\", np.where( f ==  50, \"C\", np.where( f ==  0, \"D\",\"E\"))))\n",
    "print(f)"
   ]
  },
  {
   "cell_type": "code",
   "execution_count": null,
   "id": "38d9fa2b",
   "metadata": {},
   "outputs": [],
   "source": []
  }
 ],
 "metadata": {
  "kernelspec": {
   "display_name": "Python 3 (ipykernel)",
   "language": "python",
   "name": "python3"
  },
  "language_info": {
   "codemirror_mode": {
    "name": "ipython",
    "version": 3
   },
   "file_extension": ".py",
   "mimetype": "text/x-python",
   "name": "python",
   "nbconvert_exporter": "python",
   "pygments_lexer": "ipython3",
   "version": "3.10.9"
  }
 },
 "nbformat": 4,
 "nbformat_minor": 5
}
