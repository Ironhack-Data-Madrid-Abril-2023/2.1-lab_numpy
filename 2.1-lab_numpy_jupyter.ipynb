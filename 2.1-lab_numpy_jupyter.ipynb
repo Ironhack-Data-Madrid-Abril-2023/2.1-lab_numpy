{
 "cells": [
  {
   "cell_type": "code",
   "execution_count": null,
   "id": "d54a991d",
   "metadata": {
    "collapsed": true
   },
   "outputs": [],
   "source": [
    "#1. Import the NUMPY package under the name np."
   ]
  },
  {
   "cell_type": "code",
   "execution_count": 3,
   "id": "9de70c64",
   "metadata": {},
   "outputs": [],
   "source": [
    "import numpy as np"
   ]
  },
  {
   "cell_type": "code",
   "execution_count": null,
   "id": "22d356c9",
   "metadata": {
    "collapsed": true
   },
   "outputs": [],
   "source": [
    "#2. Print the NUMPY version and the configuration."
   ]
  },
  {
   "cell_type": "code",
   "execution_count": 6,
   "id": "83f3f993",
   "metadata": {},
   "outputs": [
    {
     "name": "stdout",
     "output_type": "stream",
     "text": [
      "1.24.2\n",
      "openblas64__info:\n",
      "    libraries = ['openblas64_', 'openblas64_']\n",
      "    library_dirs = ['openblas\\\\lib']\n",
      "    language = c\n",
      "    define_macros = [('HAVE_CBLAS', None), ('BLAS_SYMBOL_SUFFIX', '64_'), ('HAVE_BLAS_ILP64', None)]\n",
      "    runtime_library_dirs = ['openblas\\\\lib']\n",
      "blas_ilp64_opt_info:\n",
      "    libraries = ['openblas64_', 'openblas64_']\n",
      "    library_dirs = ['openblas\\\\lib']\n",
      "    language = c\n",
      "    define_macros = [('HAVE_CBLAS', None), ('BLAS_SYMBOL_SUFFIX', '64_'), ('HAVE_BLAS_ILP64', None)]\n",
      "    runtime_library_dirs = ['openblas\\\\lib']\n",
      "openblas64__lapack_info:\n",
      "    libraries = ['openblas64_', 'openblas64_']\n",
      "    library_dirs = ['openblas\\\\lib']\n",
      "    language = c\n",
      "    define_macros = [('HAVE_CBLAS', None), ('BLAS_SYMBOL_SUFFIX', '64_'), ('HAVE_BLAS_ILP64', None), ('HAVE_LAPACKE', None)]\n",
      "    runtime_library_dirs = ['openblas\\\\lib']\n",
      "lapack_ilp64_opt_info:\n",
      "    libraries = ['openblas64_', 'openblas64_']\n",
      "    library_dirs = ['openblas\\\\lib']\n",
      "    language = c\n",
      "    define_macros = [('HAVE_CBLAS', None), ('BLAS_SYMBOL_SUFFIX', '64_'), ('HAVE_BLAS_ILP64', None), ('HAVE_LAPACKE', None)]\n",
      "    runtime_library_dirs = ['openblas\\\\lib']\n",
      "Supported SIMD extensions in this NumPy install:\n",
      "    baseline = SSE,SSE2,SSE3\n",
      "    found = SSSE3,SSE41,POPCNT,SSE42,AVX,F16C,FMA3,AVX2,AVX512F,AVX512CD,AVX512_SKX,AVX512_CLX,AVX512_CNL,AVX512_ICL\n",
      "    not found = \n",
      "None\n"
     ]
    }
   ],
   "source": [
    "print(np.__version__)\n",
    "print(np.show_config())"
   ]
  },
  {
   "cell_type": "code",
   "execution_count": null,
   "id": "c7465dd5",
   "metadata": {
    "collapsed": true
   },
   "outputs": [],
   "source": [
    "#3. Generate a 2x3x5 3-dimensional array with random values. Assign the array to variable \"a\"\n",
    "# Challenge: there are at least three easy ways that use numpy to generate random arrays. How many ways can you find?"
   ]
  },
  {
   "cell_type": "code",
   "execution_count": 11,
   "id": "c4cad2b6",
   "metadata": {},
   "outputs": [],
   "source": [
    "a = np.random.random((2, 3, 5))"
   ]
  },
  {
   "cell_type": "code",
   "execution_count": null,
   "id": "6184bdb8",
   "metadata": {
    "collapsed": true
   },
   "outputs": [],
   "source": [
    "#4. Print a."
   ]
  },
  {
   "cell_type": "code",
   "execution_count": 12,
   "id": "2f9e3245",
   "metadata": {},
   "outputs": [
    {
     "name": "stdout",
     "output_type": "stream",
     "text": [
      "[[[0.27152958 0.21638324 0.02249361 0.40841074 0.05259135]\n",
      "  [0.73528536 0.10288035 0.99416958 0.85527053 0.31201346]\n",
      "  [0.25150573 0.63258549 0.2311403  0.82091401 0.92960026]]\n",
      "\n",
      " [[0.3714682  0.95202361 0.6639422  0.076126   0.31077288]\n",
      "  [0.36366045 0.48228551 0.69088927 0.81230203 0.98010445]\n",
      "  [0.88121824 0.11593668 0.58063567 0.05459613 0.77894903]]]\n"
     ]
    }
   ],
   "source": [
    "print(a)"
   ]
  },
  {
   "cell_type": "code",
   "execution_count": null,
   "id": "4c0f1cd9",
   "metadata": {
    "collapsed": true
   },
   "outputs": [],
   "source": [
    "#5. Create a 5x2x3 3-dimensional array with all values equaling 1.\n",
    "#Assign the array to variable \"b\""
   ]
  },
  {
   "cell_type": "code",
   "execution_count": 21,
   "id": "82dc2ead",
   "metadata": {},
   "outputs": [],
   "source": [
    "b = np.ones((5, 2, 3))"
   ]
  },
  {
   "cell_type": "code",
   "execution_count": null,
   "id": "a6db697e",
   "metadata": {
    "collapsed": true
   },
   "outputs": [],
   "source": [
    "#6. Print b."
   ]
  },
  {
   "cell_type": "code",
   "execution_count": 22,
   "id": "dd68e861",
   "metadata": {},
   "outputs": [
    {
     "name": "stdout",
     "output_type": "stream",
     "text": [
      "[[[1. 1. 1.]\n",
      "  [1. 1. 1.]]\n",
      "\n",
      " [[1. 1. 1.]\n",
      "  [1. 1. 1.]]\n",
      "\n",
      " [[1. 1. 1.]\n",
      "  [1. 1. 1.]]\n",
      "\n",
      " [[1. 1. 1.]\n",
      "  [1. 1. 1.]]\n",
      "\n",
      " [[1. 1. 1.]\n",
      "  [1. 1. 1.]]]\n"
     ]
    }
   ],
   "source": [
    "print(b)"
   ]
  },
  {
   "cell_type": "code",
   "execution_count": null,
   "id": "4778ccc3",
   "metadata": {
    "collapsed": true
   },
   "outputs": [],
   "source": [
    "#7. Do a and b have the same size? How do you prove that in Python code?"
   ]
  },
  {
   "cell_type": "code",
   "execution_count": 44,
   "id": "b60ea12a",
   "metadata": {},
   "outputs": [
    {
     "name": "stdout",
     "output_type": "stream",
     "text": [
      "30\n",
      "30\n",
      "a array and b array have the same size\n"
     ]
    }
   ],
   "source": [
    "print(a.size)\n",
    "print(b.size)\n",
    "if a.size == b.size:\n",
    "    print(\"a array and b array have the same size\")\n",
    "else:\n",
    "    print(\"a array and b array do not have the same size\")"
   ]
  },
  {
   "cell_type": "code",
   "execution_count": null,
   "id": "2ec9f270",
   "metadata": {
    "collapsed": true
   },
   "outputs": [],
   "source": [
    "#8. Are you able to add a and b? Why or why not?"
   ]
  },
  {
   "cell_type": "code",
   "execution_count": 45,
   "id": "75c6ab13",
   "metadata": {},
   "outputs": [
    {
     "ename": "ValueError",
     "evalue": "operands could not be broadcast together with shapes (2,3,5) (5,2,3) ",
     "output_type": "error",
     "traceback": [
      "\u001b[1;31m---------------------------------------------------------------------------\u001b[0m",
      "\u001b[1;31mValueError\u001b[0m                                Traceback (most recent call last)",
      "\u001b[1;32m~\\AppData\\Local\\Temp\\ipykernel_16228\\2608517809.py\u001b[0m in \u001b[0;36m<module>\u001b[1;34m\u001b[0m\n\u001b[1;32m----> 1\u001b[1;33m \u001b[0mc\u001b[0m \u001b[1;33m=\u001b[0m \u001b[0ma\u001b[0m \u001b[1;33m+\u001b[0m \u001b[0mb\u001b[0m\u001b[1;33m\u001b[0m\u001b[1;33m\u001b[0m\u001b[0m\n\u001b[0m",
      "\u001b[1;31mValueError\u001b[0m: operands could not be broadcast together with shapes (2,3,5) (5,2,3) "
     ]
    }
   ],
   "source": [
    "c = a + b #No podemos sumar dos matrices con estructura(shape) diferente, para sumaralas deben compartir la misma estructura."
   ]
  },
  {
   "cell_type": "code",
   "execution_count": null,
   "id": "d777999f",
   "metadata": {
    "collapsed": true
   },
   "outputs": [],
   "source": [
    "#9. Transpose b so that it has the same structure of a (i.e. become a 2x3x5 array). Assign the transposed array to varialbe \"c\"."
   ]
  },
  {
   "cell_type": "code",
   "execution_count": 67,
   "id": "7cb04c5e",
   "metadata": {},
   "outputs": [
    {
     "name": "stdout",
     "output_type": "stream",
     "text": [
      "(5, 2, 3)\n",
      "(2, 3, 5)\n"
     ]
    }
   ],
   "source": [
    "print(b.shape)\n",
    "c = np.transpose(b, (1, 2, 0))\n",
    "print(c.shape)"
   ]
  },
  {
   "cell_type": "code",
   "execution_count": null,
   "id": "e9636de3",
   "metadata": {
    "collapsed": true
   },
   "outputs": [],
   "source": [
    "#10. Try to add a and c. Now it should work. Assign the sum to varialbe \"d\". But why does it work now?"
   ]
  },
  {
   "cell_type": "code",
   "execution_count": 70,
   "id": "058749b2",
   "metadata": {},
   "outputs": [
    {
     "name": "stdout",
     "output_type": "stream",
     "text": [
      "[[[1.27152958 1.21638324 1.02249361 1.40841074 1.05259135]\n",
      "  [1.73528536 1.10288035 1.99416958 1.85527053 1.31201346]\n",
      "  [1.25150573 1.63258549 1.2311403  1.82091401 1.92960026]]\n",
      "\n",
      " [[1.3714682  1.95202361 1.6639422  1.076126   1.31077288]\n",
      "  [1.36366045 1.48228551 1.69088927 1.81230203 1.98010445]\n",
      "  [1.88121824 1.11593668 1.58063567 1.05459613 1.77894903]]]\n"
     ]
    }
   ],
   "source": [
    "d= a+c\n",
    "print(d)"
   ]
  },
  {
   "cell_type": "code",
   "execution_count": null,
   "id": "4cd3fdc2",
   "metadata": {
    "collapsed": true
   },
   "outputs": [],
   "source": [
    "#11. Print a and d. Notice the difference and relation of the two array in terms of the values? Explain."
   ]
  },
  {
   "cell_type": "code",
   "execution_count": 72,
   "id": "d28a48bb",
   "metadata": {},
   "outputs": [
    {
     "name": "stdout",
     "output_type": "stream",
     "text": [
      "[[[0.27152958 0.21638324 0.02249361 0.40841074 0.05259135]\n",
      "  [0.73528536 0.10288035 0.99416958 0.85527053 0.31201346]\n",
      "  [0.25150573 0.63258549 0.2311403  0.82091401 0.92960026]]\n",
      "\n",
      " [[0.3714682  0.95202361 0.6639422  0.076126   0.31077288]\n",
      "  [0.36366045 0.48228551 0.69088927 0.81230203 0.98010445]\n",
      "  [0.88121824 0.11593668 0.58063567 0.05459613 0.77894903]]]\n"
     ]
    }
   ],
   "source": [
    "print(a)   #Yes, the d array is the result of adding to the array a the array c that all the elements inside are ones so the d elements are the a elements plus one.\n"
   ]
  },
  {
   "cell_type": "code",
   "execution_count": 73,
   "id": "ab8be2dd",
   "metadata": {},
   "outputs": [
    {
     "name": "stdout",
     "output_type": "stream",
     "text": [
      "[[[1.27152958 1.21638324 1.02249361 1.40841074 1.05259135]\n",
      "  [1.73528536 1.10288035 1.99416958 1.85527053 1.31201346]\n",
      "  [1.25150573 1.63258549 1.2311403  1.82091401 1.92960026]]\n",
      "\n",
      " [[1.3714682  1.95202361 1.6639422  1.076126   1.31077288]\n",
      "  [1.36366045 1.48228551 1.69088927 1.81230203 1.98010445]\n",
      "  [1.88121824 1.11593668 1.58063567 1.05459613 1.77894903]]]\n"
     ]
    }
   ],
   "source": [
    "print(d)"
   ]
  },
  {
   "cell_type": "code",
   "execution_count": null,
   "id": "80de1154",
   "metadata": {
    "collapsed": true
   },
   "outputs": [],
   "source": [
    "#12. Multiply a and c. Assign the result to e."
   ]
  },
  {
   "cell_type": "code",
   "execution_count": 80,
   "id": "1253b793",
   "metadata": {},
   "outputs": [
    {
     "name": "stdout",
     "output_type": "stream",
     "text": [
      "[[[0.27152958 0.21638324 0.02249361 0.40841074 0.05259135]\n",
      "  [0.73528536 0.10288035 0.99416958 0.85527053 0.31201346]\n",
      "  [0.25150573 0.63258549 0.2311403  0.82091401 0.92960026]]\n",
      "\n",
      " [[0.3714682  0.95202361 0.6639422  0.076126   0.31077288]\n",
      "  [0.36366045 0.48228551 0.69088927 0.81230203 0.98010445]\n",
      "  [0.88121824 0.11593668 0.58063567 0.05459613 0.77894903]]]\n"
     ]
    }
   ],
   "source": [
    "e = a*c\n",
    "print(e)   "
   ]
  },
  {
   "cell_type": "code",
   "execution_count": 78,
   "id": "908b5fbe",
   "metadata": {},
   "outputs": [
    {
     "name": "stdout",
     "output_type": "stream",
     "text": [
      "[[[0.27152958 0.21638324 0.02249361 0.40841074 0.05259135]\n",
      "  [0.73528536 0.10288035 0.99416958 0.85527053 0.31201346]\n",
      "  [0.25150573 0.63258549 0.2311403  0.82091401 0.92960026]]\n",
      "\n",
      " [[0.3714682  0.95202361 0.6639422  0.076126   0.31077288]\n",
      "  [0.36366045 0.48228551 0.69088927 0.81230203 0.98010445]\n",
      "  [0.88121824 0.11593668 0.58063567 0.05459613 0.77894903]]]\n"
     ]
    }
   ],
   "source": [
    "print(a)"
   ]
  },
  {
   "cell_type": "code",
   "execution_count": 79,
   "id": "c8d433f4",
   "metadata": {},
   "outputs": [
    {
     "name": "stdout",
     "output_type": "stream",
     "text": [
      "[[[1. 1. 1. 1. 1.]\n",
      "  [1. 1. 1. 1. 1.]\n",
      "  [1. 1. 1. 1. 1.]]\n",
      "\n",
      " [[1. 1. 1. 1. 1.]\n",
      "  [1. 1. 1. 1. 1.]\n",
      "  [1. 1. 1. 1. 1.]]]\n"
     ]
    }
   ],
   "source": [
    "print(c)"
   ]
  },
  {
   "cell_type": "code",
   "execution_count": null,
   "id": "95f25cfa",
   "metadata": {
    "collapsed": true
   },
   "outputs": [],
   "source": [
    "#13. Does e equal to a? Why or why not?"
   ]
  },
  {
   "cell_type": "code",
   "execution_count": null,
   "id": "ecd05054",
   "metadata": {
    "collapsed": true
   },
   "outputs": [],
   "source": [
    " #The array is the same because the values on a have been multiplied by an array that all values equal 1 and x*1 is x."
   ]
  },
  {
   "cell_type": "code",
   "execution_count": null,
   "id": "c8f9ad60",
   "metadata": {
    "collapsed": true
   },
   "outputs": [],
   "source": [
    "#14. Identify the max, min, and mean values in d. Assign those values to variables \"d_max\", \"d_min\", and \"d_mean\""
   ]
  },
  {
   "cell_type": "code",
   "execution_count": 83,
   "id": "7d864fc7",
   "metadata": {},
   "outputs": [
    {
     "name": "stdout",
     "output_type": "stream",
     "text": [
      "1.994169580962922\n",
      "1.0224936090114958\n",
      "1.4983894647837632\n"
     ]
    }
   ],
   "source": [
    "d_max = d.max()\n",
    "print(d_max)\n",
    "d_min= d.min()\n",
    "print(d_min)\n",
    "d_mean= d.mean()\n",
    "print(d_mean)"
   ]
  },
  {
   "cell_type": "code",
   "execution_count": null,
   "id": "1b06e158",
   "metadata": {
    "collapsed": true
   },
   "outputs": [],
   "source": [
    "#15. Now we want to label the values in d. First create an empty array \"f\" with the same shape (i.e. 2x3x5) as d using `np.empty`."
   ]
  },
  {
   "cell_type": "code",
   "execution_count": 111,
   "id": "b1c4cd24",
   "metadata": {},
   "outputs": [
    {
     "name": "stdout",
     "output_type": "stream",
     "text": [
      "[[[1.27152958 1.21638324 1.02249361 1.40841074 1.05259135]\n",
      "  [1.73528536 1.10288035 1.99416958 1.85527053 1.31201346]\n",
      "  [1.25150573 1.63258549 1.2311403  1.82091401 1.92960026]]\n",
      "\n",
      " [[1.3714682  1.95202361 1.6639422  1.076126   1.31077288]\n",
      "  [1.36366045 1.48228551 1.69088927 1.81230203 1.98010445]\n",
      "  [1.88121824 1.11593668 1.58063567 1.05459613 1.77894903]]]\n"
     ]
    }
   ],
   "source": [
    "f = np.empty((2, 3, 5))\n",
    "print(f)"
   ]
  },
  {
   "cell_type": "code",
   "execution_count": null,
   "id": "42f7047e",
   "metadata": {
    "collapsed": true
   },
   "outputs": [],
   "source": [
    "\"\"\"\n",
    "#16. Populate the values in f. For each value in d, if it's larger than d_min but smaller than d_mean, assign 25 to the corresponding value in f.\n",
    "If a value in d is larger than d_mean but smaller than d_max, assign 75 to the corresponding value in f.\n",
    "If a value equals to d_mean, assign 50 to the corresponding value in f.\n",
    "Assign 0 to the corresponding value(s) in f for d_min in d.\n",
    "Assign 100 to the corresponding value(s) in f for d_max in d.\n",
    "In the end, f should have only the following values: 0, 25, 50, 75, and 100.\n",
    "Note: you don't have to use Numpy in this question.\n",
    "\"\"\""
   ]
  },
  {
   "cell_type": "code",
   "execution_count": 117,
   "id": "8a43ba7c",
   "metadata": {},
   "outputs": [],
   "source": [
    "for i in range(len(d)):\n",
    "    for j in range(len(d[i])):\n",
    "        for k in range(len(d[i][j])):\n",
    "            valor = d[i][j][k]\n",
    "            if d_min < valor and valor < d_mean:\n",
    "                f[i][j][k] = 25\n",
    "            elif d_mean < valor and valor < d_max:\n",
    "                f[i][j][k] = 75\n",
    "            elif valor == d_min:\n",
    "                f[i][j][k] = 0\n",
    "            elif valor == d_mean:\n",
    "                f[i][j][k] = 50\n",
    "            elif valor == d_max:\n",
    "                f[i][j][k] = 100\n",
    "            else:\n",
    "                f[i][j][k] = valor \n",
    "        "
   ]
  },
  {
   "cell_type": "code",
   "execution_count": null,
   "id": "72b2d704",
   "metadata": {
    "collapsed": true
   },
   "outputs": [],
   "source": [
    "\"\"\"\n",
    "#17. Print d and f. Do you have your expected f?\n",
    "For instance, if your d is:\n",
    "array([[[1.85836099, 1.67064465, 1.62576044, 1.40243961, 1.88454931],\n",
    "        [1.75354326, 1.69403643, 1.36729252, 1.61415071, 1.12104981],\n",
    "        [1.72201435, 1.1862918 , 1.87078449, 1.7726778 , 1.88180042]],\n",
    "\n",
    "       [[1.44747908, 1.31673383, 1.02000951, 1.52218947, 1.97066381],\n",
    "        [1.79129243, 1.74983003, 1.96028037, 1.85166831, 1.65450881],\n",
    "        [1.18068344, 1.9587381 , 1.00656599, 1.93402165, 1.73514584]]])\n",
    "\n",
    "Your f should be:\n",
    "array([[[ 75.,  75.,  75.,  25.,  75.],\n",
    "        [ 75.,  75.,  25.,  25.,  25.],\n",
    "        [ 75.,  25.,  75.,  75.,  75.]],\n",
    "\n",
    "       [[ 25.,  25.,  25.,  25., 100.],\n",
    "        [ 75.,  75.,  75.,  75.,  75.],\n",
    "        [ 25.,  75.,   0.,  75.,  75.]]])\n",
    "\"\"\""
   ]
  },
  {
   "cell_type": "code",
   "execution_count": 118,
   "id": "8fd53ac8",
   "metadata": {},
   "outputs": [
    {
     "name": "stdout",
     "output_type": "stream",
     "text": [
      "[[[1.27152958 1.21638324 1.02249361 1.40841074 1.05259135]\n",
      "  [1.73528536 1.10288035 1.99416958 1.85527053 1.31201346]\n",
      "  [1.25150573 1.63258549 1.2311403  1.82091401 1.92960026]]\n",
      "\n",
      " [[1.3714682  1.95202361 1.6639422  1.076126   1.31077288]\n",
      "  [1.36366045 1.48228551 1.69088927 1.81230203 1.98010445]\n",
      "  [1.88121824 1.11593668 1.58063567 1.05459613 1.77894903]]]\n",
      "[[[ 25.  25.   0.  25.  25.]\n",
      "  [ 75.  25. 100.  75.  25.]\n",
      "  [ 25.  75.  25.  75.  75.]]\n",
      "\n",
      " [[ 25.  75.  75.  25.  25.]\n",
      "  [ 25.  25.  75.  75.  75.]\n",
      "  [ 75.  25.  75.  25.  75.]]]\n"
     ]
    }
   ],
   "source": [
    "print(d)\n",
    "print(f)"
   ]
  },
  {
   "cell_type": "code",
   "execution_count": null,
   "id": "cf9d9529",
   "metadata": {
    "collapsed": true
   },
   "outputs": [],
   "source": [
    "\"\"\"\n",
    "#18. Bonus question: instead of using numbers (i.e. 0, 25, 50, 75, and 100), how to use string values \n",
    "(\"A\", \"B\", \"C\", \"D\", and \"E\") to label the array elements? You are expecting the result to be:\n",
    "array([[[ 'D',  'D',  'D',  'B',  'D'],\n",
    "        [ 'D',  'D',  'B',  'B',  'B'],\n",
    "        [ 'D',  'B',  'D',  'D',  'D']],\n",
    "\n",
    "       [[ 'B',  'B',  'B',  'B',  'E'],\n",
    "        [ 'D',  'D',  'D',  'D',  'D'],\n",
    "        [ 'B',  'D',   'A',  'D', 'D']]])\n",
    "Again, you don't need Numpy in this question.\n",
    "\"\"\""
   ]
  },
  {
   "cell_type": "code",
   "execution_count": null,
   "id": "64bf1481",
   "metadata": {
    "collapsed": true
   },
   "outputs": [],
   "source": []
  }
 ],
 "metadata": {
  "kernelspec": {
   "display_name": "Python 3 (ipykernel)",
   "language": "python",
   "name": "python3"
  },
  "language_info": {
   "codemirror_mode": {
    "name": "ipython",
    "version": 3
   },
   "file_extension": ".py",
   "mimetype": "text/x-python",
   "name": "python",
   "nbconvert_exporter": "python",
   "pygments_lexer": "ipython3",
   "version": "3.9.13"
  }
 },
 "nbformat": 4,
 "nbformat_minor": 5
}
