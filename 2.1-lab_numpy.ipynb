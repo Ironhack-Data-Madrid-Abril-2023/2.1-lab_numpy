{
 "cells": [
  {
   "cell_type": "code",
   "execution_count": 92,
   "id": "7bf2696e",
   "metadata": {},
   "outputs": [],
   "source": [
    "# 1. Import the NUMPY package under the name np."
   ]
  },
  {
   "cell_type": "code",
   "execution_count": 93,
   "id": "685821d3",
   "metadata": {},
   "outputs": [],
   "source": [
    "import numpy as np"
   ]
  },
  {
   "cell_type": "code",
   "execution_count": 94,
   "id": "40392b54",
   "metadata": {},
   "outputs": [],
   "source": [
    "#2. Print the NUMPY version and the configuration."
   ]
  },
  {
   "cell_type": "code",
   "execution_count": 95,
   "id": "d1f97703",
   "metadata": {},
   "outputs": [
    {
     "name": "stdout",
     "output_type": "stream",
     "text": [
      "NumPy version: 1.21.5\n",
      "NumPy configuration:\n",
      "blas_mkl_info:\n",
      "    libraries = ['mkl_rt', 'pthread']\n",
      "    library_dirs = ['/Users/JGR/opt/anaconda3/lib']\n",
      "    define_macros = [('SCIPY_MKL_H', None), ('HAVE_CBLAS', None)]\n",
      "    include_dirs = ['/Users/JGR/opt/anaconda3/include']\n",
      "blas_opt_info:\n",
      "    libraries = ['mkl_rt', 'pthread']\n",
      "    library_dirs = ['/Users/JGR/opt/anaconda3/lib']\n",
      "    define_macros = [('SCIPY_MKL_H', None), ('HAVE_CBLAS', None)]\n",
      "    include_dirs = ['/Users/JGR/opt/anaconda3/include']\n",
      "lapack_mkl_info:\n",
      "    libraries = ['mkl_rt', 'pthread']\n",
      "    library_dirs = ['/Users/JGR/opt/anaconda3/lib']\n",
      "    define_macros = [('SCIPY_MKL_H', None), ('HAVE_CBLAS', None)]\n",
      "    include_dirs = ['/Users/JGR/opt/anaconda3/include']\n",
      "lapack_opt_info:\n",
      "    libraries = ['mkl_rt', 'pthread']\n",
      "    library_dirs = ['/Users/JGR/opt/anaconda3/lib']\n",
      "    define_macros = [('SCIPY_MKL_H', None), ('HAVE_CBLAS', None)]\n",
      "    include_dirs = ['/Users/JGR/opt/anaconda3/include']\n",
      "Supported SIMD extensions in this NumPy install:\n",
      "    baseline = SSE,SSE2,SSE3\n",
      "    found = SSSE3,SSE41,POPCNT,SSE42,AVX,F16C,FMA3,AVX2\n",
      "    not found = AVX512F,AVX512CD,AVX512_KNL,AVX512_SKX,AVX512_CLX,AVX512_CNL,AVX512_ICL\n"
     ]
    }
   ],
   "source": [
    "print(\"NumPy version:\", np.__version__)\n",
    "print(\"NumPy configuration:\")\n",
    "np.show_config()"
   ]
  },
  {
   "cell_type": "code",
   "execution_count": 96,
   "id": "2ad446e2",
   "metadata": {},
   "outputs": [],
   "source": [
    "#3. Generate a 2x3x5 3-dimensional array with random values. Assign the array to variable \"a\"\n",
    "# Challenge: there are at least three easy ways that use numpy to generate random arrays. \n",
    "#How many ways can you find?\n"
   ]
  },
  {
   "cell_type": "code",
   "execution_count": 97,
   "id": "2a82057c",
   "metadata": {},
   "outputs": [
    {
     "name": "stdout",
     "output_type": "stream",
     "text": [
      "[[[0.05276228 0.47579539 0.92914121 0.92522001 0.76448382]\n",
      "  [0.7565371  0.67894691 0.48610864 0.43537686 0.83501545]\n",
      "  [0.09503612 0.11814708 0.74502839 0.61219845 0.15306194]]\n",
      "\n",
      " [[0.95025203 0.52618349 0.4338092  0.12150186 0.42011932]\n",
      "  [0.18398431 0.39484728 0.62422238 0.01657707 0.59240813]\n",
      "  [0.1173693  0.84127197 0.83210053 0.62931332 0.25466267]]]\n"
     ]
    }
   ],
   "source": [
    "#PRIMERA MANERA DE HACER ARRAYS: usando random.rand()\n",
    "a = np.random.rand(2,3,5)\n",
    "print(a)"
   ]
  },
  {
   "cell_type": "code",
   "execution_count": 98,
   "id": "b1f1c1e3",
   "metadata": {},
   "outputs": [
    {
     "data": {
      "text/plain": [
       "array([[[0.95002872, 0.8747619 , 0.04956069, 0.307233  , 0.7880073 ],\n",
       "        [0.90516052, 0.72415957, 0.5915554 , 0.52448607, 0.09751174],\n",
       "        [0.63224918, 0.51899782, 0.33195472, 0.14892873, 0.48196328]],\n",
       "\n",
       "       [[0.94263532, 0.14345043, 0.14950076, 0.86432311, 0.24688852],\n",
       "        [0.10169339, 0.18339224, 0.57658077, 0.72821057, 0.04365539],\n",
       "        [0.25812954, 0.34934629, 0.91467176, 0.60694566, 0.3280531 ]]])"
      ]
     },
     "execution_count": 98,
     "metadata": {},
     "output_type": "execute_result"
    }
   ],
   "source": [
    "# SEGUNDA MANERA DE HACER ARRAYS: usando random.ramdon()\n",
    "\n",
    "m = np.random.random((2,3,5))\n",
    "\n",
    "m"
   ]
  },
  {
   "cell_type": "code",
   "execution_count": 99,
   "id": "3b6f90d2",
   "metadata": {},
   "outputs": [
    {
     "data": {
      "text/plain": [
       "array([[[80, 49, 40, 96, 20],\n",
       "        [39, 98, 13, 26, 96],\n",
       "        [90, 49, 63, 50, 19]],\n",
       "\n",
       "       [[99, 12, 14, 39,  1],\n",
       "        [37, 25, 42, 61, 45],\n",
       "        [11, 27, 76, 77, 32]]])"
      ]
     },
     "execution_count": 99,
     "metadata": {},
     "output_type": "execute_result"
    }
   ],
   "source": [
    "# TERCERA MANERA DE HACER ARRAYS: usando random.randint(numeros de primero al ultimo , size = (see below))\n",
    "\n",
    "arr = np.random.randint(1, 100, size=(2, 3, 5))\n",
    "arr"
   ]
  },
  {
   "cell_type": "code",
   "execution_count": 100,
   "id": "2749e983",
   "metadata": {},
   "outputs": [],
   "source": [
    "#4. Print a."
   ]
  },
  {
   "cell_type": "code",
   "execution_count": 101,
   "id": "84ec9a01",
   "metadata": {},
   "outputs": [
    {
     "data": {
      "text/plain": [
       "array([[[0.05276228, 0.47579539, 0.92914121, 0.92522001, 0.76448382],\n",
       "        [0.7565371 , 0.67894691, 0.48610864, 0.43537686, 0.83501545],\n",
       "        [0.09503612, 0.11814708, 0.74502839, 0.61219845, 0.15306194]],\n",
       "\n",
       "       [[0.95025203, 0.52618349, 0.4338092 , 0.12150186, 0.42011932],\n",
       "        [0.18398431, 0.39484728, 0.62422238, 0.01657707, 0.59240813],\n",
       "        [0.1173693 , 0.84127197, 0.83210053, 0.62931332, 0.25466267]]])"
      ]
     },
     "execution_count": 101,
     "metadata": {},
     "output_type": "execute_result"
    }
   ],
   "source": [
    "a"
   ]
  },
  {
   "cell_type": "code",
   "execution_count": 102,
   "id": "6ba36553",
   "metadata": {},
   "outputs": [],
   "source": [
    "#5. Create a 5x2x3 3-dimensional array with all values equaling 1.\n",
    "#Assign the array to variable \"b\"\n",
    "#6. Print b."
   ]
  },
  {
   "cell_type": "code",
   "execution_count": 132,
   "id": "e918ab27",
   "metadata": {},
   "outputs": [
    {
     "name": "stdout",
     "output_type": "stream",
     "text": [
      "[[[1 1 1]\n",
      "  [1 1 1]]\n",
      "\n",
      " [[1 1 1]\n",
      "  [1 1 1]]\n",
      "\n",
      " [[1 1 1]\n",
      "  [1 1 1]]\n",
      "\n",
      " [[1 1 1]\n",
      "  [1 1 1]]\n",
      "\n",
      " [[1 1 1]\n",
      "  [1 1 1]]]\n"
     ]
    }
   ],
   "source": [
    "b = np.full((5,2,3),1)\n",
    "print(b)"
   ]
  },
  {
   "cell_type": "code",
   "execution_count": 104,
   "id": "f26e2e93",
   "metadata": {},
   "outputs": [],
   "source": [
    "#7. Do a and b have the same size? How do you prove that in Python code?"
   ]
  },
  {
   "cell_type": "code",
   "execution_count": 111,
   "id": "53ead777",
   "metadata": {},
   "outputs": [
    {
     "name": "stdout",
     "output_type": "stream",
     "text": [
      "The size of a is: 30\n"
     ]
    }
   ],
   "source": [
    "sizeA = np.size(a)\n",
    "print(\"The size of a is:\", sizeA)\n",
    " \n"
   ]
  },
  {
   "cell_type": "code",
   "execution_count": 112,
   "id": "8f4e307c",
   "metadata": {},
   "outputs": [
    {
     "name": "stdout",
     "output_type": "stream",
     "text": [
      "The size of b is 30\n"
     ]
    }
   ],
   "source": [
    "sizeB = np.size(b)\n",
    "print(\"The size of b is\", sizeB)"
   ]
  },
  {
   "cell_type": "code",
   "execution_count": 106,
   "id": "bd4f3e6a",
   "metadata": {},
   "outputs": [],
   "source": [
    "#8. Are you able to add a and b? Why or why not?"
   ]
  },
  {
   "cell_type": "code",
   "execution_count": 48,
   "id": "6cee924f",
   "metadata": {},
   "outputs": [
    {
     "data": {
      "text/plain": [
       "'\\nYou cannot add them in this case because (a and b) have not the same shape, even though they have the same size.\\n'"
      ]
     },
     "execution_count": 48,
     "metadata": {},
     "output_type": "execute_result"
    }
   ],
   "source": [
    "'''\n",
    "You cannot add them in this case because (a and b) have not the same shape, even though they have the same size.\n",
    "'''"
   ]
  },
  {
   "cell_type": "code",
   "execution_count": 113,
   "id": "8a2287c4",
   "metadata": {},
   "outputs": [],
   "source": [
    "#9. Transpose b so that it has the same structure of a (i.e. become a 2x3x5 array). Assign the transposed array to varialbe \"c\".\n"
   ]
  },
  {
   "cell_type": "code",
   "execution_count": 133,
   "id": "87cc2aa4",
   "metadata": {},
   "outputs": [
    {
     "name": "stdout",
     "output_type": "stream",
     "text": [
      "[[[1 1 1 1 1]\n",
      "  [1 1 1 1 1]\n",
      "  [1 1 1 1 1]]\n",
      "\n",
      " [[1 1 1 1 1]\n",
      "  [1 1 1 1 1]\n",
      "  [1 1 1 1 1]]]\n"
     ]
    }
   ],
   "source": [
    "c = b.reshape(2,3,5)\n",
    "\n",
    "print(c)"
   ]
  },
  {
   "cell_type": "code",
   "execution_count": null,
   "id": "de4ee249",
   "metadata": {},
   "outputs": [],
   "source": [
    "#10. Try to add a and c. Now it should work. Assign the sum to varialbe \"d\". But why does it work now?"
   ]
  },
  {
   "cell_type": "code",
   "execution_count": 134,
   "id": "0b80a022",
   "metadata": {},
   "outputs": [
    {
     "name": "stdout",
     "output_type": "stream",
     "text": [
      "[[[1.18174686 1.97464113 1.81275516 1.72997527 1.35117855]\n",
      "  [1.96666791 1.28135561 1.89698318 1.99163132 1.85749486]\n",
      "  [1.89383796 1.23564321 1.67597432 1.70225224 1.77625629]]\n",
      "\n",
      " [[1.17186779 1.02086494 1.57011851 1.88411295 1.40597257]\n",
      "  [1.36974188 1.99370291 1.20967232 1.39236755 1.66463046]\n",
      "  [1.10695364 1.01153378 1.43664868 1.29227245 1.34900605]]]\n"
     ]
    }
   ],
   "source": [
    "d = a+c\n",
    "\n",
    "\n",
    "print(d)\n",
    "\n",
    "\"\"\"\n",
    "Now it works, as it has the same shape of a. So they can be added.\n",
    "\"\"\""
   ]
  },
  {
   "cell_type": "code",
   "execution_count": null,
   "id": "cb5cd945",
   "metadata": {},
   "outputs": [],
   "source": [
    "#11. Print a and d. Notice the difference and relation of the two array in terms of the values? Explain.\n"
   ]
  },
  {
   "cell_type": "code",
   "execution_count": 135,
   "id": "27856b57",
   "metadata": {},
   "outputs": [
    {
     "name": "stdout",
     "output_type": "stream",
     "text": [
      "[[[0.18174686 0.97464113 0.81275516 0.72997527 0.35117855]\n",
      "  [0.96666791 0.28135561 0.89698318 0.99163132 0.85749486]\n",
      "  [0.89383796 0.23564321 0.67597432 0.70225224 0.77625629]]\n",
      "\n",
      " [[0.17186779 0.02086494 0.57011851 0.88411295 0.40597257]\n",
      "  [0.36974188 0.99370291 0.20967232 0.39236755 0.66463046]\n",
      "  [0.10695364 0.01153378 0.43664868 0.29227245 0.34900605]]]\n"
     ]
    }
   ],
   "source": [
    "print(a)"
   ]
  },
  {
   "cell_type": "code",
   "execution_count": 137,
   "id": "f0b0faf8",
   "metadata": {},
   "outputs": [
    {
     "name": "stdout",
     "output_type": "stream",
     "text": [
      "[[[1.18174686 1.97464113 1.81275516 1.72997527 1.35117855]\n",
      "  [1.96666791 1.28135561 1.89698318 1.99163132 1.85749486]\n",
      "  [1.89383796 1.23564321 1.67597432 1.70225224 1.77625629]]\n",
      "\n",
      " [[1.17186779 1.02086494 1.57011851 1.88411295 1.40597257]\n",
      "  [1.36974188 1.99370291 1.20967232 1.39236755 1.66463046]\n",
      "  [1.10695364 1.01153378 1.43664868 1.29227245 1.34900605]]]\n"
     ]
    }
   ],
   "source": [
    "print(d)"
   ]
  },
  {
   "cell_type": "code",
   "execution_count": null,
   "id": "81656c31",
   "metadata": {},
   "outputs": [],
   "source": [
    "\"\"\"\n",
    "Yes, its been aded the (1) to all of them. \n",
    "\n",
    "\"\"\""
   ]
  },
  {
   "cell_type": "code",
   "execution_count": null,
   "id": "60283030",
   "metadata": {},
   "outputs": [],
   "source": [
    "#12. Multiply a and c. Assign the result to e."
   ]
  },
  {
   "cell_type": "code",
   "execution_count": 139,
   "id": "bbe5524b",
   "metadata": {},
   "outputs": [
    {
     "name": "stdout",
     "output_type": "stream",
     "text": [
      "[[[0.18174686 0.97464113 0.81275516 0.72997527 0.35117855]\n",
      "  [0.96666791 0.28135561 0.89698318 0.99163132 0.85749486]\n",
      "  [0.89383796 0.23564321 0.67597432 0.70225224 0.77625629]]\n",
      "\n",
      " [[0.17186779 0.02086494 0.57011851 0.88411295 0.40597257]\n",
      "  [0.36974188 0.99370291 0.20967232 0.39236755 0.66463046]\n",
      "  [0.10695364 0.01153378 0.43664868 0.29227245 0.34900605]]]\n"
     ]
    }
   ],
   "source": [
    "e = a * c\n",
    "print(e)"
   ]
  },
  {
   "cell_type": "code",
   "execution_count": null,
   "id": "cae8c9a7",
   "metadata": {},
   "outputs": [],
   "source": [
    "#13. Does e equal to a? Why or why not?  - NO, BECAUSE MILTIPLY BY 1 ITS THE SAME NUMBER THAT ITS GIVEN INNITALLY "
   ]
  },
  {
   "cell_type": "code",
   "execution_count": null,
   "id": "c06782e6",
   "metadata": {},
   "outputs": [],
   "source": [
    "#14. Identify the max, min, and mean values in d. Assign those values to variables \"d_max\", \"d_min\", and \"d_mean\""
   ]
  },
  {
   "cell_type": "code",
   "execution_count": 140,
   "id": "e08530ac",
   "metadata": {},
   "outputs": [
    {
     "name": "stdout",
     "output_type": "stream",
     "text": [
      "1.9937029130160848\n"
     ]
    }
   ],
   "source": [
    "d_max = d.max()\n",
    "print(d_max)"
   ]
  },
  {
   "cell_type": "code",
   "execution_count": 141,
   "id": "a9321ee2",
   "metadata": {},
   "outputs": [
    {
     "name": "stdout",
     "output_type": "stream",
     "text": [
      "1.0115337834133018\n"
     ]
    }
   ],
   "source": [
    "d_min = d.min()\n",
    "print(d_min)"
   ]
  },
  {
   "cell_type": "code",
   "execution_count": 142,
   "id": "b7a911f0",
   "metadata": {},
   "outputs": [
    {
     "name": "stdout",
     "output_type": "stream",
     "text": [
      "1.5402620120937363\n"
     ]
    }
   ],
   "source": [
    "d_mean = d.mean()\n",
    "print(d_mean)"
   ]
  },
  {
   "cell_type": "code",
   "execution_count": null,
   "id": "77c6b488",
   "metadata": {},
   "outputs": [],
   "source": [
    "#15. Now we want to label the values in d. First create an empty array \"f\" with the same shape (i.e. 2x3x5) as d using `np.empty`."
   ]
  },
  {
   "cell_type": "code",
   "execution_count": 146,
   "id": "268e4b53",
   "metadata": {},
   "outputs": [
    {
     "name": "stdout",
     "output_type": "stream",
     "text": [
      "[[[0.90323868 0.86047311 0.21318783 0.14684106 0.20706579]\n",
      "  [0.56743278 0.86175777 0.5200664  0.20235376 0.43968065]\n",
      "  [0.80834829 0.9018274  0.59016818 0.72382573 0.71498416]]\n",
      "\n",
      " [[0.93753581 0.65336922 0.10160103 0.50259697 0.20690856]\n",
      "  [0.03822931 0.19333191 0.83217541 0.93060482 0.95142824]\n",
      "  [0.34374862 0.2269319  0.53539423 0.86532788 0.38683816]]]\n"
     ]
    }
   ],
   "source": [
    "d = np.random.rand(2, 3, 5)\n",
    "\n",
    "# Create an empty array f with the same shape as d\n",
    "f = np.empty_like(d)\n",
    "\n",
    "# Print the array f\n",
    "print(f)"
   ]
  },
  {
   "cell_type": "code",
   "execution_count": 153,
   "id": "16e64f4f",
   "metadata": {},
   "outputs": [],
   "source": [
    "# Calculate d_min, d_mean, and d_max\n",
    "d_min = np.min(d)\n",
    "d_mean = np.mean(d)\n",
    "d_max = np.max(d)\n",
    "\n",
    "for i in range(d.shape[0]):\n",
    "    for j in range(d.shape[1]):\n",
    "        for k in range(d.shape[2]):\n",
    "            if d[i, j, k] > d_min and d[i, j, k] < d_mean:\n",
    "                f[i, j, k] = 25\n",
    "            elif d[i, j, k] > d_mean and d[i, j, k] < d_max:\n",
    "                f[i, j, k] = 75\n",
    "            elif d[i, j, k] == d_mean:\n",
    "                f[i, j, k] = 50\n",
    "            elif d[i, j, k] == d_min:\n",
    "                f[i, j, k] = 0\n",
    "            elif d[i, j, k] == d_max:\n",
    "                f[i, j, k] = 100\n"
   ]
  },
  {
   "cell_type": "code",
   "execution_count": null,
   "id": "e17b1ff0",
   "metadata": {},
   "outputs": [],
   "source": [
    "#17. Print d and f. Do you have your expected f?"
   ]
  },
  {
   "cell_type": "code",
   "execution_count": 152,
   "id": "7b4464cc",
   "metadata": {},
   "outputs": [
    {
     "name": "stdout",
     "output_type": "stream",
     "text": [
      "Array d:\n",
      " [[[0.59635784 0.16446482 0.11134683 0.13245511 0.46005183]\n",
      "  [0.81023381 0.17707843 0.99546291 0.47089567 0.91032225]\n",
      "  [0.438677   0.30723276 0.45787478 0.95697117 0.88387312]]\n",
      "\n",
      " [[0.3777955  0.74895673 0.79781713 0.40198674 0.09060545]\n",
      "  [0.0954506  0.25185495 0.82575809 0.98850976 0.24739316]\n",
      "  [0.54027641 0.19316564 0.15330385 0.11707778 0.82233845]]]\n",
      "Array f:\n",
      " [[[ 75.  25.  25.  25.  25.]\n",
      "  [ 75.  25. 100.  25.  75.]\n",
      "  [ 25.  25.  25.  75.  75.]]\n",
      "\n",
      " [[ 25.  75.  75.  25.   0.]\n",
      "  [ 25.  25.  75.  75.  25.]\n",
      "  [ 75.  25.  25.  25.  75.]]]\n"
     ]
    }
   ],
   "source": [
    "print(\"Array d:\\n\", d)\n",
    "print(\"Array f:\\n\", f)"
   ]
  },
  {
   "cell_type": "code",
   "execution_count": 156,
   "id": "2da267a9",
   "metadata": {},
   "outputs": [
    {
     "name": "stdout",
     "output_type": "stream",
     "text": [
      "Array d:\n",
      " [[[0.96245132 0.68055031 0.12087584 0.40074488 0.13883561]\n",
      "  [0.91391401 0.40807499 0.57186805 0.41883566 0.50648461]\n",
      "  [0.02467561 0.95253588 0.66791113 0.93716958 0.42762517]]\n",
      "\n",
      " [[0.46912352 0.61671425 0.4195089  0.21373637 0.16030566]\n",
      "  [0.61441736 0.32803941 0.44902273 0.09254363 0.64513218]\n",
      "  [0.44860026 0.99667717 0.06605387 0.94816424 0.13603102]]]\n",
      "Array f:\n",
      " [[['D' 'D' 'B' 'B' 'B']\n",
      "  ['D' 'B' 'D' 'B' 'D']\n",
      "  ['A' 'D' 'D' 'D' 'B']]\n",
      "\n",
      " [['B' 'D' 'B' 'B' 'B']\n",
      "  ['D' 'B' 'B' 'B' 'D']\n",
      "  ['B' 'E' 'B' 'D' 'B']]]\n"
     ]
    }
   ],
   "source": [
    "d = np.random.rand(2, 3, 5)\n",
    "\n",
    "# Create an empty array f with the same shape as d\n",
    "f = np.empty_like(d, dtype=str)\n",
    "\n",
    "# Define mappings of values to string labels\n",
    "mapping = {\n",
    "    0: \"A\",\n",
    "    25: \"B\",\n",
    "    50: \"C\",\n",
    "    75: \"D\",\n",
    "    100: \"E\"}\n",
    "\n",
    "# Calculate d_min, d_mean, and d_max\n",
    "d_min = np.min(d)\n",
    "d_mean = np.mean(d)\n",
    "d_max = np.max(d)\n",
    "\n",
    "# Iterate through each element in d and assign string labels to f based on the conditions\n",
    "for i in range(d.shape[0]):\n",
    "    for j in range(d.shape[1]):\n",
    "        for k in range(d.shape[2]):\n",
    "            if d[i, j, k] > d_min and d[i, j, k] < d_mean:\n",
    "                f[i, j, k] = mapping[25]\n",
    "            elif d[i, j, k] > d_mean and d[i, j, k] < d_max:\n",
    "                f[i, j, k] = mapping[75]\n",
    "            elif d[i, j, k] == d_mean:\n",
    "                f[i, j, k] = mapping[50]\n",
    "            elif d[i, j, k] == d_min:\n",
    "                f[i, j, k] = mapping[0]\n",
    "            elif d[i, j, k] == d_max:\n",
    "                f[i, j, k] = mapping[100]\n",
    "\n",
    "# Print the arrays d and f\n",
    "print(\"Array d:\\n\", d)\n",
    "print(\"Array f:\\n\", f)\n",
    "\n",
    "\n"
   ]
  },
  {
   "cell_type": "code",
   "execution_count": null,
   "id": "1e09e994",
   "metadata": {},
   "outputs": [],
   "source": []
  }
 ],
 "metadata": {
  "kernelspec": {
   "display_name": "Python 3 (ipykernel)",
   "language": "python",
   "name": "python3"
  },
  "language_info": {
   "codemirror_mode": {
    "name": "ipython",
    "version": 3
   },
   "file_extension": ".py",
   "mimetype": "text/x-python",
   "name": "python",
   "nbconvert_exporter": "python",
   "pygments_lexer": "ipython3",
   "version": "3.9.13"
  }
 },
 "nbformat": 4,
 "nbformat_minor": 5
}
