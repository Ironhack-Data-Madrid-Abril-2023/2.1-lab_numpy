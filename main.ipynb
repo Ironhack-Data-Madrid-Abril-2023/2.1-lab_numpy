{
 "cells": [
  {
   "cell_type": "code",
   "execution_count": 34,
   "id": "d19b651f",
   "metadata": {},
   "outputs": [],
   "source": [
    "#1. Import the NUMPY package under the name np."
   ]
  },
  {
   "cell_type": "code",
   "execution_count": 35,
   "id": "d5ea971f",
   "metadata": {},
   "outputs": [],
   "source": [
    "import numpy as np"
   ]
  },
  {
   "cell_type": "code",
   "execution_count": 36,
   "id": "f7ac91ff",
   "metadata": {},
   "outputs": [],
   "source": [
    "#2. Print the NUMPY version and the configuration."
   ]
  },
  {
   "cell_type": "code",
   "execution_count": 37,
   "id": "4d2e30ff",
   "metadata": {},
   "outputs": [
    {
     "name": "stdout",
     "output_type": "stream",
     "text": [
      "Versión de NumPy: 1.21.5\n",
      "blas_mkl_info:\n",
      "    libraries = ['mkl_rt']\n",
      "    library_dirs = ['C:/Users/javir/anaconda3\\\\Library\\\\lib']\n",
      "    define_macros = [('SCIPY_MKL_H', None), ('HAVE_CBLAS', None)]\n",
      "    include_dirs = ['C:/Users/javir/anaconda3\\\\Library\\\\include']\n",
      "blas_opt_info:\n",
      "    libraries = ['mkl_rt']\n",
      "    library_dirs = ['C:/Users/javir/anaconda3\\\\Library\\\\lib']\n",
      "    define_macros = [('SCIPY_MKL_H', None), ('HAVE_CBLAS', None)]\n",
      "    include_dirs = ['C:/Users/javir/anaconda3\\\\Library\\\\include']\n",
      "lapack_mkl_info:\n",
      "    libraries = ['mkl_rt']\n",
      "    library_dirs = ['C:/Users/javir/anaconda3\\\\Library\\\\lib']\n",
      "    define_macros = [('SCIPY_MKL_H', None), ('HAVE_CBLAS', None)]\n",
      "    include_dirs = ['C:/Users/javir/anaconda3\\\\Library\\\\include']\n",
      "lapack_opt_info:\n",
      "    libraries = ['mkl_rt']\n",
      "    library_dirs = ['C:/Users/javir/anaconda3\\\\Library\\\\lib']\n",
      "    define_macros = [('SCIPY_MKL_H', None), ('HAVE_CBLAS', None)]\n",
      "    include_dirs = ['C:/Users/javir/anaconda3\\\\Library\\\\include']\n",
      "Supported SIMD extensions in this NumPy install:\n",
      "    baseline = SSE,SSE2,SSE3\n",
      "    found = SSSE3,SSE41,POPCNT,SSE42,AVX,F16C,FMA3,AVX2,AVX512F,AVX512CD,AVX512_SKX,AVX512_CLX,AVX512_CNL\n",
      "    not found = \n",
      "\n",
      "Configuración de NumPy:\n",
      " None\n"
     ]
    }
   ],
   "source": [
    "print(\"Versión de NumPy:\", np.__version__)\n",
    "print(\"\\nConfiguración de NumPy:\\n\", np.show_config())\n"
   ]
  },
  {
   "cell_type": "code",
   "execution_count": 38,
   "id": "938fe6b0",
   "metadata": {},
   "outputs": [],
   "source": [
    "#3. Generate a 2x3x5 3-dimensional array with random values. Assign the array to variable \"a\"\n",
    "# Challenge: there are at least three easy ways that use numpy to generate random arrays. How many ways can you find?"
   ]
  },
  {
   "cell_type": "code",
   "execution_count": 39,
   "id": "8cf86eaa",
   "metadata": {},
   "outputs": [
    {
     "name": "stdout",
     "output_type": "stream",
     "text": [
      "[[[0.63818951 0.67248745 0.40826031 0.83591088 0.94738436]\n",
      "  [0.54405058 0.6347813  0.25215446 0.76122301 0.18950333]\n",
      "  [0.95327449 0.52238867 0.17895155 0.24584271 0.90890372]]\n",
      "\n",
      " [[0.21691543 0.57530633 0.31681752 0.4285989  0.37539789]\n",
      "  [0.5712383  0.75730803 0.98106594 0.2198275  0.52570964]\n",
      "  [0.30809963 0.05957271 0.32200957 0.42059526 0.71400788]]]\n"
     ]
    }
   ],
   "source": [
    "# a = np.zeros((2, 3, 5))\n",
    "# a = np.ones((2, 3, 5))\n",
    "a = np.random.rand(2, 3, 5)\n",
    "\n",
    "# 4. print(a)\n",
    "print(a)"
   ]
  },
  {
   "cell_type": "code",
   "execution_count": 40,
   "id": "1d44ca74",
   "metadata": {},
   "outputs": [
    {
     "name": "stdout",
     "output_type": "stream",
     "text": [
      "[[[1. 1. 1.]\n",
      "  [1. 1. 1.]]\n",
      "\n",
      " [[1. 1. 1.]\n",
      "  [1. 1. 1.]]\n",
      "\n",
      " [[1. 1. 1.]\n",
      "  [1. 1. 1.]]\n",
      "\n",
      " [[1. 1. 1.]\n",
      "  [1. 1. 1.]]\n",
      "\n",
      " [[1. 1. 1.]\n",
      "  [1. 1. 1.]]]\n"
     ]
    }
   ],
   "source": [
    "#5. Create a 5x2x3 3-dimensional array with all values equaling 1.\n",
    "#Assign the array to variable \"b\"\n",
    "\n",
    "b = np.ones((5, 2, 3))\n",
    "\n",
    "\n",
    "# 6. print(b)\n",
    "print(b)"
   ]
  },
  {
   "cell_type": "code",
   "execution_count": 45,
   "id": "a8eaca4f",
   "metadata": {},
   "outputs": [
    {
     "data": {
      "text/plain": [
       "True"
      ]
     },
     "execution_count": 45,
     "metadata": {},
     "output_type": "execute_result"
    }
   ],
   "source": [
    "#7. Do a and b have the same size? How do you prove that in Python code?\n",
    "a.size==b.size"
   ]
  },
  {
   "cell_type": "code",
   "execution_count": 54,
   "id": "0a1a39af",
   "metadata": {
    "scrolled": true
   },
   "outputs": [
    {
     "ename": "ValueError",
     "evalue": "operands could not be broadcast together with shapes (2,3,5) (5,2,3) ",
     "output_type": "error",
     "traceback": [
      "\u001b[1;31m---------------------------------------------------------------------------\u001b[0m",
      "\u001b[1;31mValueError\u001b[0m                                Traceback (most recent call last)",
      "\u001b[1;32m~\\AppData\\Local\\Temp\\ipykernel_13992\\2435631978.py\u001b[0m in \u001b[0;36m<module>\u001b[1;34m\u001b[0m\n\u001b[0;32m      1\u001b[0m \u001b[1;31m#8. Are you able to add a and b? Why or why not?\u001b[0m\u001b[1;33m\u001b[0m\u001b[1;33m\u001b[0m\u001b[0m\n\u001b[1;32m----> 2\u001b[1;33m \u001b[0msuma_a_b\u001b[0m\u001b[1;33m=\u001b[0m \u001b[0ma\u001b[0m \u001b[1;33m+\u001b[0m \u001b[0mb\u001b[0m\u001b[1;33m\u001b[0m\u001b[1;33m\u001b[0m\u001b[0m\n\u001b[0m\u001b[0;32m      3\u001b[0m \u001b[1;33m\u001b[0m\u001b[0m\n\u001b[0;32m      4\u001b[0m \u001b[1;31m#Ambas matrices no pueden operarse ya que no tienen las mismas dimensiones, para ello habúa que trasponer alguna de ellas\u001b[0m\u001b[1;33m\u001b[0m\u001b[1;33m\u001b[0m\u001b[0m\n",
      "\u001b[1;31mValueError\u001b[0m: operands could not be broadcast together with shapes (2,3,5) (5,2,3) "
     ]
    }
   ],
   "source": [
    "#8. Are you able to add a and b? Why or why not?\n",
    "suma_a_b= a + b\n",
    "\n",
    "#Ambas matrices no pueden operarse ya que no tienen las mismas dimensiones, para ello habúa que trasponer alguna de ellas"
   ]
  },
  {
   "cell_type": "code",
   "execution_count": 68,
   "id": "89bdf3d0",
   "metadata": {},
   "outputs": [
    {
     "name": "stdout",
     "output_type": "stream",
     "text": [
      "[[[1. 1. 1. 1. 1.]\n",
      "  [1. 1. 1. 1. 1.]\n",
      "  [1. 1. 1. 1. 1.]]\n",
      "\n",
      " [[1. 1. 1. 1. 1.]\n",
      "  [1. 1. 1. 1. 1.]\n",
      "  [1. 1. 1. 1. 1.]]]\n"
     ]
    }
   ],
   "source": [
    "#9. Transpose b so that it has the same structure of a (i.e. become a 2x3x5 array). Assign the transposed array to varialbe \"c\".\n",
    "\n",
    "c = np.transpose(b, (1, 2, 0))\n",
    "print(c)\n"
   ]
  },
  {
   "cell_type": "code",
   "execution_count": 71,
   "id": "365069e4",
   "metadata": {},
   "outputs": [
    {
     "name": "stdout",
     "output_type": "stream",
     "text": [
      "[[[1.63818951 1.67248745 1.40826031 1.83591088 1.94738436]\n",
      "  [1.54405058 1.6347813  1.25215446 1.76122301 1.18950333]\n",
      "  [1.95327449 1.52238867 1.17895155 1.24584271 1.90890372]]\n",
      "\n",
      " [[1.21691543 1.57530633 1.31681752 1.4285989  1.37539789]\n",
      "  [1.5712383  1.75730803 1.98106594 1.2198275  1.52570964]\n",
      "  [1.30809963 1.05957271 1.32200957 1.42059526 1.71400788]]]\n"
     ]
    }
   ],
   "source": [
    "#10. Try to add a and c. Now it should work. Assign the sum to varialbe \"d\". But why does it work now?\n",
    "\n",
    "d = a + c\n",
    "print(d)\n",
    "\n",
    "#gracias a la vectorización cada elemento del array se suma en una misma operación sin que tengamos que ir tratandolo de forma individual"
   ]
  },
  {
   "cell_type": "code",
   "execution_count": 83,
   "id": "995329be",
   "metadata": {},
   "outputs": [
    {
     "name": "stdout",
     "output_type": "stream",
     "text": [
      "[[[0.63818951 0.67248745 0.40826031 0.83591088 0.94738436]\n",
      "  [0.54405058 0.6347813  0.25215446 0.76122301 0.18950333]\n",
      "  [0.95327449 0.52238867 0.17895155 0.24584271 0.90890372]]\n",
      "\n",
      " [[0.21691543 0.57530633 0.31681752 0.4285989  0.37539789]\n",
      "  [0.5712383  0.75730803 0.98106594 0.2198275  0.52570964]\n",
      "  [0.30809963 0.05957271 0.32200957 0.42059526 0.71400788]]]\n",
      "[[[1.63818951 1.67248745 1.40826031 1.83591088 1.94738436]\n",
      "  [1.54405058 1.6347813  1.25215446 1.76122301 1.18950333]\n",
      "  [1.95327449 1.52238867 1.17895155 1.24584271 1.90890372]]\n",
      "\n",
      " [[1.21691543 1.57530633 1.31681752 1.4285989  1.37539789]\n",
      "  [1.5712383  1.75730803 1.98106594 1.2198275  1.52570964]\n",
      "  [1.30809963 1.05957271 1.32200957 1.42059526 1.71400788]]]\n"
     ]
    }
   ],
   "source": [
    "#11. Print a and d. Notice the difference and relation of the two array in terms of the values? Explain.\n",
    "\n",
    "print(a)\n",
    "print(d)\n",
    "\n",
    "#La única diferencia se encuentra en el 1 que le hemos sumado, al sumarle 1 a todos los elementos del array hemos incrementado la longitud del vector en una unidad"
   ]
  },
  {
   "cell_type": "code",
   "execution_count": 85,
   "id": "44182d9f",
   "metadata": {},
   "outputs": [
    {
     "name": "stdout",
     "output_type": "stream",
     "text": [
      "[[[0.63818951 0.67248745 0.40826031 0.83591088 0.94738436]\n",
      "  [0.54405058 0.6347813  0.25215446 0.76122301 0.18950333]\n",
      "  [0.95327449 0.52238867 0.17895155 0.24584271 0.90890372]]\n",
      "\n",
      " [[0.21691543 0.57530633 0.31681752 0.4285989  0.37539789]\n",
      "  [0.5712383  0.75730803 0.98106594 0.2198275  0.52570964]\n",
      "  [0.30809963 0.05957271 0.32200957 0.42059526 0.71400788]]]\n"
     ]
    }
   ],
   "source": [
    "#12. Multiply a and c. Assign the result to e.\n",
    "\n",
    "e = a * c\n",
    "print(e)"
   ]
  },
  {
   "cell_type": "code",
   "execution_count": 88,
   "id": "7abe7fa3",
   "metadata": {},
   "outputs": [
    {
     "data": {
      "text/plain": [
       "array([[[ True,  True,  True,  True,  True],\n",
       "        [ True,  True,  True,  True,  True],\n",
       "        [ True,  True,  True,  True,  True]],\n",
       "\n",
       "       [[ True,  True,  True,  True,  True],\n",
       "        [ True,  True,  True,  True,  True],\n",
       "        [ True,  True,  True,  True,  True]]])"
      ]
     },
     "execution_count": 88,
     "metadata": {},
     "output_type": "execute_result"
    }
   ],
   "source": [
    "#13. Does e equal to a? Why or why not?\n",
    "\n",
    "e == a\n",
    "\n",
    "#porque hemos multiplicado cada vector de a*1, a*1 = a"
   ]
  },
  {
   "cell_type": "code",
   "execution_count": 91,
   "id": "88dada1f",
   "metadata": {},
   "outputs": [
    {
     "name": "stdout",
     "output_type": "stream",
     "text": [
      "1.9810659432136144 1.0595727142225637 1.5161925622346117\n"
     ]
    }
   ],
   "source": [
    "#14. Identify the max, min, and mean values in d. Assign those values to variables \"d_max\", \"d_min\", and \"d_mean\"\n",
    "\n",
    "d_max= np.max(d)\n",
    "d_min= np.min(d)\n",
    "d_mean= np.mean(d)\n",
    "\n",
    "print(d_max, d_min, d_mean)"
   ]
  },
  {
   "cell_type": "code",
   "execution_count": 99,
   "id": "085d46e2",
   "metadata": {},
   "outputs": [
    {
     "name": "stdout",
     "output_type": "stream",
     "text": [
      "[[[3.27637901 3.3449749  2.81652063 3.67182176 3.89476872]\n",
      "  [3.08810115 3.26956259 2.50430892 3.52244602 2.37900666]\n",
      "  [3.90654898 3.04477734 2.3579031  2.49168541 3.81780745]]\n",
      "\n",
      " [[2.43383086 3.15061266 2.63363504 2.8571978  2.75079579]\n",
      "  [3.14247661 3.51461607 3.96213189 2.43965499 3.05141928]\n",
      "  [2.61619926 2.11914543 2.64401914 2.84119052 3.42801575]]]\n"
     ]
    }
   ],
   "source": [
    "#15. Now we want to label the values in d. First create an empty array \"f\" with the same shape (i.e. 2x3x5) as d using `np.empty`.\n",
    "\n",
    "f = np.empty_like(d)\n",
    "\n",
    "for i in range(d.shape[0]):\n",
    "    for j in range(d.shape[1]):\n",
    "        for k in range(d.shape[2]):\n",
    "            f[i, j, k] = d[i, j, k] * 2\n",
    "\n",
    "print(f)"
   ]
  },
  {
   "cell_type": "code",
   "execution_count": 109,
   "id": "d0c41f48",
   "metadata": {},
   "outputs": [
    {
     "name": "stdout",
     "output_type": "stream",
     "text": [
      "[[[ 75.  75.  25.  75.  75.]\n",
      "  [ 75.  75.  25.  75.  25.]\n",
      "  [ 75.  75.  25.  25.  75.]]\n",
      "\n",
      " [[ 25.  75.  25.  25.  25.]\n",
      "  [ 75.  75. 100.  25.  75.]\n",
      "  [ 25.   0.  25.  25.  75.]]]\n"
     ]
    }
   ],
   "source": [
    "\"\"\"\n",
    "#16. Populate the values in f. For each value in d, if it's larger than d_min but smaller than d_mean, assign 25 to the corresponding value in f.\n",
    "If a value in d is larger than d_mean but smaller than d_max, assign 75 to the corresponding value in f.\n",
    "If a value equals to d_mean, assign 50 to the corresponding value in f.\n",
    "Assign 0 to the corresponding value(s) in f for d_min in d.\n",
    "Assign 100 to the corresponding value(s) in f for d_max in d.\n",
    "In the end, f should have only the following values: 0, 25, 50, 75, and 100.\n",
    "Note: you don't have to use Numpy in this question.\n",
    "\"\"\"\n",
    "\n",
    "d = np.array(d)\n",
    "f = np.zeros_like(d)\n",
    "\n",
    "d_min = np.min(d)\n",
    "d_max = np.max(d)\n",
    "d_mean = np.mean(d)\n",
    "\n",
    "f = np.zeros_like(f)\n",
    "\n",
    "for i in range(f.shape[0]):\n",
    "    for j in range(f.shape[1]):\n",
    "        for k in range(d.shape[2]):\n",
    "            if d[i,j,k] == d_min:\n",
    "                f[i,j,k] = 0\n",
    "            elif d[i,j,k] > d_min and d[i,j,k] < d_mean:\n",
    "                f[i,j,k] = 25\n",
    "            elif d[i,j,k] == d_mean:\n",
    "                f[i,j,k] = 50\n",
    "            elif d[i,j,k] > d_mean and d[i,j,k] < d_max:\n",
    "                f[i,j,k] = 75\n",
    "            else:\n",
    "                f[i,j,k] = 100\n",
    "\n",
    "print(f)\n",
    "\n"
   ]
  },
  {
   "cell_type": "code",
   "execution_count": 111,
   "id": "f8d48501",
   "metadata": {},
   "outputs": [
    {
     "name": "stdout",
     "output_type": "stream",
     "text": [
      "[[[1.63818951 1.67248745 1.40826031 1.83591088 1.94738436]\n",
      "  [1.54405058 1.6347813  1.25215446 1.76122301 1.18950333]\n",
      "  [1.95327449 1.52238867 1.17895155 1.24584271 1.90890372]]\n",
      "\n",
      " [[1.21691543 1.57530633 1.31681752 1.4285989  1.37539789]\n",
      "  [1.5712383  1.75730803 1.98106594 1.2198275  1.52570964]\n",
      "  [1.30809963 1.05957271 1.32200957 1.42059526 1.71400788]]]\n",
      "[[[ 75.  75.  25.  75.  75.]\n",
      "  [ 75.  75.  25.  75.  25.]\n",
      "  [ 75.  75.  25.  25.  75.]]\n",
      "\n",
      " [[ 25.  75.  25.  25.  25.]\n",
      "  [ 75.  75. 100.  25.  75.]\n",
      "  [ 25.   0.  25.  25.  75.]]]\n"
     ]
    }
   ],
   "source": [
    "# \"\"\"\n",
    "# #17. Print d and f. Do you have your expected f?\n",
    "# For instance, if your d is:\n",
    "# array([[[1.85836099, 1.67064465, 1.62576044, 1.40243961, 1.88454931],\n",
    "#         [1.75354326, 1.69403643, 1.36729252, 1.61415071, 1.12104981],\n",
    "#         [1.72201435, 1.1862918 , 1.87078449, 1.7726778 , 1.88180042]],\n",
    "\n",
    "#        [[1.44747908, 1.31673383, 1.02000951, 1.52218947, 1.97066381],\n",
    "#         [1.79129243, 1.74983003, 1.96028037, 1.85166831, 1.65450881],\n",
    "#         [1.18068344, 1.9587381 , 1.00656599, 1.93402165, 1.73514584]]])\n",
    "\n",
    "# Your f should be:\n",
    "# array([[[ 75.,  75.,  75.,  25.,  75.],\n",
    "#         [ 75.,  75.,  25.,  25.,  25.],\n",
    "#         [ 75.,  25.,  75.,  75.,  75.]],\n",
    "\n",
    "#        [[ 25.,  25.,  25.,  25., 100.],\n",
    "#         [ 75.,  75.,  75.,  75.,  75.],\n",
    "#         [ 25.,  75.,   0.,  75.,  75.]]])\n",
    "# \"\"\"\n",
    "print(d)\n",
    "print(f)"
   ]
  },
  {
   "cell_type": "code",
   "execution_count": 115,
   "id": "cc936cc1",
   "metadata": {},
   "outputs": [
    {
     "ename": "TypeError",
     "evalue": "only size-1 arrays can be converted to Python scalars",
     "output_type": "error",
     "traceback": [
      "\u001b[1;31m---------------------------------------------------------------------------\u001b[0m",
      "\u001b[1;31mTypeError\u001b[0m                                 Traceback (most recent call last)",
      "\u001b[1;32m~\\AppData\\Local\\Temp\\ipykernel_13992\\954078291.py\u001b[0m in \u001b[0;36m<module>\u001b[1;34m\u001b[0m\n\u001b[0;32m     13\u001b[0m \u001b[1;33m\u001b[0m\u001b[0m\n\u001b[0;32m     14\u001b[0m \u001b[1;33m\u001b[0m\u001b[0m\n\u001b[1;32m---> 15\u001b[1;33m \u001b[0mf\u001b[0m \u001b[1;33m=\u001b[0m \u001b[0mint\u001b[0m\u001b[1;33m(\u001b[0m\u001b[0mnp\u001b[0m\u001b[1;33m.\u001b[0m\u001b[0marray\u001b[0m\u001b[1;33m(\u001b[0m\u001b[0mf\u001b[0m\u001b[1;33m)\u001b[0m\u001b[1;33m)\u001b[0m\u001b[1;33m\u001b[0m\u001b[1;33m\u001b[0m\u001b[0m\n\u001b[0m\u001b[0;32m     16\u001b[0m \u001b[0mg\u001b[0m \u001b[1;33m=\u001b[0m \u001b[0mint\u001b[0m\u001b[1;33m(\u001b[0m\u001b[0mnp\u001b[0m\u001b[1;33m.\u001b[0m\u001b[0mzeros_like\u001b[0m\u001b[1;33m(\u001b[0m\u001b[0mf\u001b[0m\u001b[1;33m)\u001b[0m\u001b[1;33m)\u001b[0m\u001b[1;33m\u001b[0m\u001b[1;33m\u001b[0m\u001b[0m\n\u001b[0;32m     17\u001b[0m \u001b[1;33m\u001b[0m\u001b[0m\n",
      "\u001b[1;31mTypeError\u001b[0m: only size-1 arrays can be converted to Python scalars"
     ]
    }
   ],
   "source": [
    "# \"\"\"\n",
    "# #18. Bonus question: instead of using numbers (i.e. 0, 25, 50, 75, and 100), how to use string values \n",
    "# (\"A\", \"B\", \"C\", \"D\", and \"E\") to label the array elements? You are expecting the result to be:\n",
    "# array([[[ 'D',  'D',  'D',  'B',  'D'],\n",
    "#         [ 'D',  'D',  'B',  'B',  'B'],\n",
    "#         [ 'D',  'B',  'D',  'D',  'D']],\n",
    "\n",
    "#        [[ 'B',  'B',  'B',  'B',  'E'],\n",
    "#         [ 'D',  'D',  'D',  'D',  'D'],\n",
    "#         [ 'B',  'D',   'A',  'D', 'D']]])\n",
    "# Again, you don't need Numpy in this question.\n",
    "# \"\"\"\n",
    "\n",
    "\n",
    "f = int(np.array(f))\n",
    "g = int(np.zeros_like(f))\n",
    "\n",
    "for i in range(g.shape[0]):\n",
    "    for j in range(g.shape[1]):\n",
    "        for k in range(g.shape[2]):\n",
    "            if d[i,j,k] == 0:\n",
    "                f[i,j,k] = 'A'\n",
    "            elif d[i,j,k]== 25:\n",
    "                f[i,j,k] = 'B'\n",
    "            elif d[i,j,k] == 50:\n",
    "                f[i,j,k] = 'C'\n",
    "            elif d[i,j,k] == 75:\n",
    "                f[i,j,k] = 'D'\n",
    "            else:\n",
    "                f[i,j,k] = 'E'"
   ]
  },
  {
   "cell_type": "code",
   "execution_count": null,
   "id": "780fa07c",
   "metadata": {},
   "outputs": [],
   "source": []
  },
  {
   "cell_type": "code",
   "execution_count": null,
   "id": "2d7a1be2",
   "metadata": {},
   "outputs": [],
   "source": []
  }
 ],
 "metadata": {
  "kernelspec": {
   "display_name": "Python 3 (ipykernel)",
   "language": "python",
   "name": "python3"
  },
  "language_info": {
   "codemirror_mode": {
    "name": "ipython",
    "version": 3
   },
   "file_extension": ".py",
   "mimetype": "text/x-python",
   "name": "python",
   "nbconvert_exporter": "python",
   "pygments_lexer": "ipython3",
   "version": "3.9.13"
  }
 },
 "nbformat": 4,
 "nbformat_minor": 5
}
