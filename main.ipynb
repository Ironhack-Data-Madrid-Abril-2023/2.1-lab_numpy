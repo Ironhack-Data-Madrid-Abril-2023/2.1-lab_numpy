{
 "cells": [
  {
   "attachments": {},
   "cell_type": "markdown",
   "metadata": {},
   "source": [
    "# 1. Import the NUMPY package under the name np."
   ]
  },
  {
   "cell_type": "code",
   "execution_count": 1,
   "metadata": {},
   "outputs": [],
   "source": [
    "import numpy as np"
   ]
  },
  {
   "attachments": {},
   "cell_type": "markdown",
   "metadata": {},
   "source": [
    "# 2. Print the NUMPY version and the configuration."
   ]
  },
  {
   "cell_type": "code",
   "execution_count": 2,
   "metadata": {},
   "outputs": [
    {
     "name": "stdout",
     "output_type": "stream",
     "text": [
      "1.21.5\n"
     ]
    }
   ],
   "source": [
    "print(np.version.version)"
   ]
  },
  {
   "attachments": {},
   "cell_type": "markdown",
   "metadata": {},
   "source": [
    "# 3. Generate a 2x3x5 3-dimensional array with random values. Assign the array to variable \"a\"\n",
    "Challenge: there are at least three easy ways that use numpy to generate random arrays. How many ways can you find?"
   ]
  },
  {
   "cell_type": "code",
   "execution_count": 9,
   "metadata": {},
   "outputs": [],
   "source": [
    "# METHOD 1:\n",
    "a = np.random.random((2, 3, 5))\n",
    "\n",
    "# METHOD 2:\n",
    "a = np.random.randn(2, 3, 5)\n",
    "\n",
    "# METHOD 3:\n",
    "a = np.random.randint(low=0, high=10, size=(2, 3, 5))"
   ]
  },
  {
   "attachments": {},
   "cell_type": "markdown",
   "metadata": {},
   "source": [
    "# 4. Print a."
   ]
  },
  {
   "cell_type": "code",
   "execution_count": 10,
   "metadata": {},
   "outputs": [
    {
     "name": "stdout",
     "output_type": "stream",
     "text": [
      "[[[0 2 7 1 5]\n",
      "  [2 2 1 5 0]\n",
      "  [1 5 9 8 8]]\n",
      "\n",
      " [[1 2 9 8 3]\n",
      "  [6 2 0 0 1]\n",
      "  [2 3 6 5 2]]]\n"
     ]
    }
   ],
   "source": [
    "print(a)"
   ]
  },
  {
   "attachments": {},
   "cell_type": "markdown",
   "metadata": {},
   "source": [
    "# 5. Create a 5x2x3 3-dimensional array with all values equaling 1.\n",
    "Assign the array to variable \"b\""
   ]
  },
  {
   "cell_type": "code",
   "execution_count": 15,
   "metadata": {},
   "outputs": [],
   "source": [
    "b = np.ones((5, 2, 3))"
   ]
  },
  {
   "attachments": {},
   "cell_type": "markdown",
   "metadata": {},
   "source": [
    "# 6. Print b."
   ]
  },
  {
   "cell_type": "code",
   "execution_count": 19,
   "metadata": {},
   "outputs": [
    {
     "name": "stdout",
     "output_type": "stream",
     "text": [
      "[[[1. 1. 1.]\n",
      "  [1. 1. 1.]]\n",
      "\n",
      " [[1. 1. 1.]\n",
      "  [1. 1. 1.]]\n",
      "\n",
      " [[1. 1. 1.]\n",
      "  [1. 1. 1.]]\n",
      "\n",
      " [[1. 1. 1.]\n",
      "  [1. 1. 1.]]\n",
      "\n",
      " [[1. 1. 1.]\n",
      "  [1. 1. 1.]]]\n"
     ]
    }
   ],
   "source": [
    "print(b)"
   ]
  },
  {
   "attachments": {},
   "cell_type": "markdown",
   "metadata": {},
   "source": [
    "# 7. Do a and b have the same size? How do you prove that in Python code?"
   ]
  },
  {
   "cell_type": "code",
   "execution_count": 22,
   "metadata": {},
   "outputs": [
    {
     "name": "stdout",
     "output_type": "stream",
     "text": [
      "30 30\n"
     ]
    }
   ],
   "source": [
    "np.size(a) == np.size(b)\n",
    "\n",
    "print(a.size, b.size)"
   ]
  },
  {
   "attachments": {},
   "cell_type": "markdown",
   "metadata": {},
   "source": [
    "# 8. Are you able to add a and b? Why or why not?"
   ]
  },
  {
   "cell_type": "code",
   "execution_count": 23,
   "metadata": {},
   "outputs": [
    {
     "ename": "ValueError",
     "evalue": "operands could not be broadcast together with shapes (2,3,5) (5,2,3) ",
     "output_type": "error",
     "traceback": [
      "\u001b[0;31m---------------------------------------------------------------------------\u001b[0m",
      "\u001b[0;31mValueError\u001b[0m                                Traceback (most recent call last)",
      "\u001b[0;32m/var/folders/m0/lx952bgs23ddy9nzvwd3ms200000gn/T/ipykernel_9801/1216668022.py\u001b[0m in \u001b[0;36m<module>\u001b[0;34m\u001b[0m\n\u001b[0;32m----> 1\u001b[0;31m \u001b[0ma\u001b[0m \u001b[0;34m+\u001b[0m \u001b[0mb\u001b[0m\u001b[0;34m\u001b[0m\u001b[0;34m\u001b[0m\u001b[0m\n\u001b[0m",
      "\u001b[0;31mValueError\u001b[0m: operands could not be broadcast together with shapes (2,3,5) (5,2,3) "
     ]
    }
   ],
   "source": [
    "a + b"
   ]
  },
  {
   "attachments": {},
   "cell_type": "markdown",
   "metadata": {},
   "source": [
    "# 9. Transpose b so that it has the same structure of a (i.e. become a 2x3x5 array). Assign the transposed array to varialbe \"c\"."
   ]
  },
  {
   "cell_type": "code",
   "execution_count": 28,
   "metadata": {},
   "outputs": [],
   "source": [
    "c = b.transpose((1, 2, 0))"
   ]
  },
  {
   "attachments": {},
   "cell_type": "markdown",
   "metadata": {},
   "source": [
    "# 10. Try to add a and c. Now it should work. Assign the sum to varialbe \"d\". But why does it work now?"
   ]
  },
  {
   "cell_type": "code",
   "execution_count": 30,
   "metadata": {},
   "outputs": [
    {
     "data": {
      "text/plain": [
       "array([[[ 1.,  3.,  8.,  2.,  6.],\n",
       "        [ 3.,  3.,  2.,  6.,  1.],\n",
       "        [ 2.,  6., 10.,  9.,  9.]],\n",
       "\n",
       "       [[ 2.,  3., 10.,  9.,  4.],\n",
       "        [ 7.,  3.,  1.,  1.,  2.],\n",
       "        [ 3.,  4.,  7.,  6.,  3.]]])"
      ]
     },
     "execution_count": 30,
     "metadata": {},
     "output_type": "execute_result"
    }
   ],
   "source": [
    "d = a + c\n",
    "\n",
    "d"
   ]
  },
  {
   "attachments": {},
   "cell_type": "markdown",
   "metadata": {},
   "source": [
    "# 11. Print a and d. Notice the difference and relation of the two array in terms of the values? Explain."
   ]
  },
  {
   "cell_type": "code",
   "execution_count": 35,
   "metadata": {},
   "outputs": [
    {
     "name": "stdout",
     "output_type": "stream",
     "text": [
      "[[[0 2 7 1 5]\n",
      "  [2 2 1 5 0]\n",
      "  [1 5 9 8 8]]\n",
      "\n",
      " [[1 2 9 8 3]\n",
      "  [6 2 0 0 1]\n",
      "  [2 3 6 5 2]]]\n",
      "[[[ 1.  3.  8.  2.  6.]\n",
      "  [ 3.  3.  2.  6.  1.]\n",
      "  [ 2.  6. 10.  9.  9.]]\n",
      "\n",
      " [[ 2.  3. 10.  9.  4.]\n",
      "  [ 7.  3.  1.  1.  2.]\n",
      "  [ 3.  4.  7.  6.  3.]]]\n"
     ]
    },
    {
     "data": {
      "text/plain": [
       "\"\\n'a' contains random values between 0 and 1,\\nwhile 'd' contains the same values as 'a',\\nbut with 1 added to each element.\\nThis is because 'd' is the result of adding 'a' and 'c',\\nwhere 'c' is 'b' transposed to have the same shape as 'a'.\\nSince 'b' contains only 1s,\\nadding 'c' to 'a' effectively adds 1 to each element of 'a'.\\n\""
      ]
     },
     "execution_count": 35,
     "metadata": {},
     "output_type": "execute_result"
    }
   ],
   "source": [
    "print(a)\n",
    "\n",
    "print(d)\n",
    "\n",
    "'''\n",
    "'a' contains random values between 0 and 1,\n",
    "while 'd' contains the same values as 'a',\n",
    "but with 1 added to each element.\n",
    "This is because 'd' is the result of adding 'a' and 'c',\n",
    "where 'c' is 'b' transposed to have the same shape as 'a'.\n",
    "Since 'b' contains only 1s,\n",
    "adding 'c' to 'a' effectively adds 1 to each element of 'a'.\n",
    "'''"
   ]
  },
  {
   "attachments": {},
   "cell_type": "markdown",
   "metadata": {},
   "source": [
    "# 12. Multiply a and c. Assign the result to e."
   ]
  },
  {
   "cell_type": "code",
   "execution_count": 37,
   "metadata": {},
   "outputs": [
    {
     "data": {
      "text/plain": [
       "array([[[0., 2., 7., 1., 5.],\n",
       "        [2., 2., 1., 5., 0.],\n",
       "        [1., 5., 9., 8., 8.]],\n",
       "\n",
       "       [[1., 2., 9., 8., 3.],\n",
       "        [6., 2., 0., 0., 1.],\n",
       "        [2., 3., 6., 5., 2.]]])"
      ]
     },
     "execution_count": 37,
     "metadata": {},
     "output_type": "execute_result"
    }
   ],
   "source": [
    "e = a * c\n",
    "\n",
    "e"
   ]
  },
  {
   "attachments": {},
   "cell_type": "markdown",
   "metadata": {},
   "source": [
    "# 13. Does e equal to a? Why or why not?"
   ]
  },
  {
   "cell_type": "code",
   "execution_count": 39,
   "metadata": {},
   "outputs": [
    {
     "data": {
      "text/plain": [
       "'\\n e is equal to a.\\n This is because we calculated e by multiplying a and c,\\n where c is the transpose of b.\\n However, we defined b as an array of ones,\\n so the transpose of b is also an array of ones,\\n and therefore the product of a and c is just a itself.\\n\\nIn other words,\\neach element in e is obtained by multiplying the corresponding element in a with 1,\\nsince c is an array of ones.\\nSo e has the exact same values as a.\\n'"
      ]
     },
     "execution_count": 39,
     "metadata": {},
     "output_type": "execute_result"
    }
   ],
   "source": [
    "e == a\n",
    "\n",
    "'''\n",
    " e is equal to a.\n",
    " This is because we calculated e by multiplying a and c,\n",
    " where c is the transpose of b.\n",
    " However, we defined b as an array of ones,\n",
    " so the transpose of b is also an array of ones,\n",
    " and therefore the product of a and c is just a itself.\n",
    "\n",
    "In other words,\n",
    "each element in e is obtained by multiplying the corresponding element in a with 1,\n",
    "since c is an array of ones.\n",
    "So e has the exact same values as a.\n",
    "'''"
   ]
  },
  {
   "attachments": {},
   "cell_type": "markdown",
   "metadata": {},
   "source": [
    "# 14. Identify the max, min, and mean values in d. Assign those values to variables \"d_max\", \"d_min\", and \"d_mean\"."
   ]
  },
  {
   "cell_type": "code",
   "execution_count": 51,
   "metadata": {},
   "outputs": [],
   "source": [
    "d_max = d.max()\n",
    "\n",
    "d_min = d.min()\n",
    "\n",
    "d_mean = d.mean()"
   ]
  },
  {
   "attachments": {},
   "cell_type": "markdown",
   "metadata": {},
   "source": [
    "# 15. Now we want to label the values in d. First create an empty array \"f\" with the same shape (i.e. 2x3x5) as d using `np.empty`."
   ]
  },
  {
   "cell_type": "code",
   "execution_count": 54,
   "metadata": {},
   "outputs": [],
   "source": [
    "f = np.empty_like(d)"
   ]
  },
  {
   "attachments": {},
   "cell_type": "markdown",
   "metadata": {},
   "source": [
    "# 16. Populate the values in f.\n",
    "\n",
    "For each value in d, if it's larger than d_min but smaller than d_mean, assign 25 to the corresponding value in f.\n",
    "\n",
    "If a value in d is larger than d_mean but smaller than d_max, assign 75 to the corresponding value in f.\n",
    "\n",
    "If a value equals to d_mean, assign 50 to the corresponding value in f.\n",
    "\n",
    "Assign 0 to the corresponding value(s) in f for d_min in d.\n",
    "\n",
    "Assign 100 to the corresponding value(s) in f for d_max in d.\n",
    "\n",
    "In the end, f should have only the following values: 0, 25, 50, 75, and 100.\n",
    "\n",
    "Note: you don't have to use Numpy in this question."
   ]
  },
  {
   "cell_type": "code",
   "execution_count": 57,
   "metadata": {},
   "outputs": [],
   "source": [
    "for i in range(d.shape[0]):\n",
    "    for j in range(d.shape[1]):\n",
    "        for k in range(d.shape[2]):\n",
    "            if d[i][j][k] > d_min and d[i][j][k] < d_mean:\n",
    "                f[i][j][k] = 25\n",
    "            elif d[i][j][k] > d_mean and d[i][j][k] < d_max:\n",
    "                f[i][j][k] = 75\n",
    "            elif d[i][j][k] == d_mean:\n",
    "                f[i][j][k] = 50\n",
    "            elif d[i][j][k] == d_min:\n",
    "                f[i][j][k] = 0\n",
    "            elif d[i][j][k] == d_max:\n",
    "                f[i][j][k] = 100\n",
    "\n"
   ]
  },
  {
   "attachments": {},
   "cell_type": "markdown",
   "metadata": {},
   "source": [
    "# 17. Print d and f. Do you have your expected f?"
   ]
  },
  {
   "cell_type": "code",
   "execution_count": 58,
   "metadata": {},
   "outputs": [
    {
     "name": "stdout",
     "output_type": "stream",
     "text": [
      "[[[ 1.  3.  8.  2.  6.]\n",
      "  [ 3.  3.  2.  6.  1.]\n",
      "  [ 2.  6. 10.  9.  9.]]\n",
      "\n",
      " [[ 2.  3. 10.  9.  4.]\n",
      "  [ 7.  3.  1.  1.  2.]\n",
      "  [ 3.  4.  7.  6.  3.]]]\n",
      "[[[  0.  25.  75.  25.  75.]\n",
      "  [ 25.  25.  25.  75.   0.]\n",
      "  [ 25.  75. 100.  75.  75.]]\n",
      "\n",
      " [[ 25.  25. 100.  75.  25.]\n",
      "  [ 75.  25.   0.   0.  25.]\n",
      "  [ 25.  25.  75.  75.  25.]]]\n"
     ]
    }
   ],
   "source": [
    "print(d)\n",
    "\n",
    "print(f)"
   ]
  },
  {
   "cell_type": "code",
   "execution_count": null,
   "metadata": {},
   "outputs": [],
   "source": []
  }
 ],
 "metadata": {
  "kernelspec": {
   "display_name": "Python 3",
   "language": "python",
   "name": "python3"
  },
  "language_info": {
   "codemirror_mode": {
    "name": "ipython",
    "version": 3
   },
   "file_extension": ".py",
   "mimetype": "text/x-python",
   "name": "python",
   "nbconvert_exporter": "python",
   "pygments_lexer": "ipython3",
   "version": "3.9.13"
  },
  "orig_nbformat": 4
 },
 "nbformat": 4,
 "nbformat_minor": 2
}
